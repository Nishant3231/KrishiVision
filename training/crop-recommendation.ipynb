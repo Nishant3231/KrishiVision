{
 "cells": [
  {
   "cell_type": "markdown",
   "id": "f3f862c5",
   "metadata": {
    "papermill": {
     "duration": 0.010693,
     "end_time": "2023-04-18T05:18:33.920495",
     "exception": false,
     "start_time": "2023-04-18T05:18:33.909802",
     "status": "completed"
    },
    "tags": []
   },
   "source": [
    "# Importing Necessary Dependencies"
   ]
  },
  {
   "cell_type": "code",
   "execution_count": 1,
   "id": "b5e60216",
   "metadata": {
    "_cell_guid": "b1076dfc-b9ad-4769-8c92-a6c4dae69d19",
    "_uuid": "8f2839f25d086af736a60e9eeb907d3b93b6e0e5",
    "execution": {
     "iopub.execute_input": "2023-04-18T05:18:33.942233Z",
     "iopub.status.busy": "2023-04-18T05:18:33.941499Z",
     "iopub.status.idle": "2023-04-18T05:18:37.425166Z",
     "shell.execute_reply": "2023-04-18T05:18:37.423859Z"
    },
    "papermill": {
     "duration": 3.498061,
     "end_time": "2023-04-18T05:18:37.428464",
     "exception": false,
     "start_time": "2023-04-18T05:18:33.930403",
     "status": "completed"
    },
    "tags": []
   },
   "outputs": [],
   "source": [
    "import os\n",
    "import json\n",
    "import time\n",
    "\n",
    "import pandas as pd\n",
    "import numpy as np\n",
    "import random\n",
    "\n",
    "import matplotlib.pyplot as plt\n",
    "import seaborn as sns\n",
    "\n",
    "\n",
    "from sklearn.model_selection import RepeatedStratifiedKFold, GridSearchCV\n",
    "from sklearn.preprocessing import StandardScaler\n",
    "from sklearn.decomposition import PCA\n",
    "from sklearn.pipeline import Pipeline, make_pipeline\n",
    "from sklearn.preprocessing import LabelEncoder\n",
    "from sklearn.utils import resample\n",
    "import joblib\n",
    "\n",
    "\n",
    "\n",
    "import plotly.graph_objects as go\n",
    "import plotly.express as px\n",
    "from plotly.subplots import make_subplots\n",
    "\n",
    "colorarr = ['#0592D0','#Cd7f32', '#E97451', '#Bdb76b', '#954535', '#C2b280', '#808000','#C2b280', '#E4d008', '#9acd32', '#Eedc82', '#E4d96f',\n",
    "           '#32cd32','#39ff14','#00ff7f', '#008080', '#36454f', '#F88379', '#Ff4500', '#Ffb347', '#A94064', '#E75480', '#Ffb6c1', '#E5e4e2',\n",
    "           '#Faf0e6', '#8c92ac', '#Dbd7d2','#A7a6ba', '#B38b6d']"
   ]
  },
  {
   "cell_type": "markdown",
   "id": "32718b99",
   "metadata": {
    "papermill": {
     "duration": 0.008624,
     "end_time": "2023-04-18T05:18:37.446299",
     "exception": false,
     "start_time": "2023-04-18T05:18:37.437675",
     "status": "completed"
    },
    "tags": []
   },
   "source": [
    "# Reading and Analysing Dataset"
   ]
  },
  {
   "cell_type": "code",
   "execution_count": 2,
   "id": "c1f475ac",
   "metadata": {
    "execution": {
     "iopub.execute_input": "2023-04-18T05:18:37.466660Z",
     "iopub.status.busy": "2023-04-18T05:18:37.465639Z",
     "iopub.status.idle": "2023-04-18T05:18:37.516413Z",
     "shell.execute_reply": "2023-04-18T05:18:37.515165Z"
    },
    "papermill": {
     "duration": 0.063788,
     "end_time": "2023-04-18T05:18:37.519145",
     "exception": false,
     "start_time": "2023-04-18T05:18:37.455357",
     "status": "completed"
    },
    "tags": []
   },
   "outputs": [
    {
     "data": {
      "text/html": [
       "<div>\n",
       "<style scoped>\n",
       "    .dataframe tbody tr th:only-of-type {\n",
       "        vertical-align: middle;\n",
       "    }\n",
       "\n",
       "    .dataframe tbody tr th {\n",
       "        vertical-align: top;\n",
       "    }\n",
       "\n",
       "    .dataframe thead th {\n",
       "        text-align: right;\n",
       "    }\n",
       "</style>\n",
       "<table border=\"1\" class=\"dataframe\">\n",
       "  <thead>\n",
       "    <tr style=\"text-align: right;\">\n",
       "      <th></th>\n",
       "      <th>N</th>\n",
       "      <th>P</th>\n",
       "      <th>K</th>\n",
       "      <th>temperature</th>\n",
       "      <th>humidity</th>\n",
       "      <th>ph</th>\n",
       "      <th>rainfall</th>\n",
       "      <th>label</th>\n",
       "    </tr>\n",
       "  </thead>\n",
       "  <tbody>\n",
       "    <tr>\n",
       "      <th>0</th>\n",
       "      <td>90</td>\n",
       "      <td>42</td>\n",
       "      <td>43</td>\n",
       "      <td>20.879744</td>\n",
       "      <td>82.002744</td>\n",
       "      <td>6.502985</td>\n",
       "      <td>202.935536</td>\n",
       "      <td>rice</td>\n",
       "    </tr>\n",
       "    <tr>\n",
       "      <th>1</th>\n",
       "      <td>85</td>\n",
       "      <td>58</td>\n",
       "      <td>41</td>\n",
       "      <td>21.770462</td>\n",
       "      <td>80.319644</td>\n",
       "      <td>7.038096</td>\n",
       "      <td>226.655537</td>\n",
       "      <td>rice</td>\n",
       "    </tr>\n",
       "    <tr>\n",
       "      <th>2</th>\n",
       "      <td>60</td>\n",
       "      <td>55</td>\n",
       "      <td>44</td>\n",
       "      <td>23.004459</td>\n",
       "      <td>82.320763</td>\n",
       "      <td>7.840207</td>\n",
       "      <td>263.964248</td>\n",
       "      <td>rice</td>\n",
       "    </tr>\n",
       "    <tr>\n",
       "      <th>3</th>\n",
       "      <td>74</td>\n",
       "      <td>35</td>\n",
       "      <td>40</td>\n",
       "      <td>26.491096</td>\n",
       "      <td>80.158363</td>\n",
       "      <td>6.980401</td>\n",
       "      <td>242.864034</td>\n",
       "      <td>rice</td>\n",
       "    </tr>\n",
       "    <tr>\n",
       "      <th>4</th>\n",
       "      <td>78</td>\n",
       "      <td>42</td>\n",
       "      <td>42</td>\n",
       "      <td>20.130175</td>\n",
       "      <td>81.604873</td>\n",
       "      <td>7.628473</td>\n",
       "      <td>262.717340</td>\n",
       "      <td>rice</td>\n",
       "    </tr>\n",
       "  </tbody>\n",
       "</table>\n",
       "</div>"
      ],
      "text/plain": [
       "    N   P   K  temperature   humidity        ph    rainfall label\n",
       "0  90  42  43    20.879744  82.002744  6.502985  202.935536  rice\n",
       "1  85  58  41    21.770462  80.319644  7.038096  226.655537  rice\n",
       "2  60  55  44    23.004459  82.320763  7.840207  263.964248  rice\n",
       "3  74  35  40    26.491096  80.158363  6.980401  242.864034  rice\n",
       "4  78  42  42    20.130175  81.604873  7.628473  262.717340  rice"
      ]
     },
     "execution_count": 2,
     "metadata": {},
     "output_type": "execute_result"
    }
   ],
   "source": [
    "cropdf = pd.read_csv(\"/kaggle/input/crop-recommendation-dataset/Crop_recommendation.csv\")\n",
    "cropdf.head()"
   ]
  },
  {
   "cell_type": "code",
   "execution_count": 3,
   "id": "822ae5ec",
   "metadata": {
    "execution": {
     "iopub.execute_input": "2023-04-18T05:18:37.539737Z",
     "iopub.status.busy": "2023-04-18T05:18:37.539296Z",
     "iopub.status.idle": "2023-04-18T05:18:37.547054Z",
     "shell.execute_reply": "2023-04-18T05:18:37.545806Z"
    },
    "papermill": {
     "duration": 0.020699,
     "end_time": "2023-04-18T05:18:37.549433",
     "exception": false,
     "start_time": "2023-04-18T05:18:37.528734",
     "status": "completed"
    },
    "tags": []
   },
   "outputs": [
    {
     "data": {
      "text/plain": [
       "(2200, 8)"
      ]
     },
     "execution_count": 3,
     "metadata": {},
     "output_type": "execute_result"
    }
   ],
   "source": [
    "cropdf.shape"
   ]
  },
  {
   "cell_type": "code",
   "execution_count": 4,
   "id": "687244cb",
   "metadata": {
    "execution": {
     "iopub.execute_input": "2023-04-18T05:18:37.571078Z",
     "iopub.status.busy": "2023-04-18T05:18:37.569806Z",
     "iopub.status.idle": "2023-04-18T05:18:37.577733Z",
     "shell.execute_reply": "2023-04-18T05:18:37.576518Z"
    },
    "papermill": {
     "duration": 0.020981,
     "end_time": "2023-04-18T05:18:37.580092",
     "exception": false,
     "start_time": "2023-04-18T05:18:37.559111",
     "status": "completed"
    },
    "tags": []
   },
   "outputs": [
    {
     "data": {
      "text/plain": [
       "Index(['N', 'P', 'K', 'temperature', 'humidity', 'ph', 'rainfall', 'label'], dtype='object')"
      ]
     },
     "execution_count": 4,
     "metadata": {},
     "output_type": "execute_result"
    }
   ],
   "source": [
    "cropdf.columns"
   ]
  },
  {
   "cell_type": "code",
   "execution_count": 5,
   "id": "a7e77086",
   "metadata": {
    "execution": {
     "iopub.execute_input": "2023-04-18T05:18:37.601307Z",
     "iopub.status.busy": "2023-04-18T05:18:37.600864Z",
     "iopub.status.idle": "2023-04-18T05:18:37.611172Z",
     "shell.execute_reply": "2023-04-18T05:18:37.609985Z"
    },
    "papermill": {
     "duration": 0.024096,
     "end_time": "2023-04-18T05:18:37.613831",
     "exception": false,
     "start_time": "2023-04-18T05:18:37.589735",
     "status": "completed"
    },
    "tags": []
   },
   "outputs": [
    {
     "data": {
      "text/plain": [
       "N              False\n",
       "P              False\n",
       "K              False\n",
       "temperature    False\n",
       "humidity       False\n",
       "ph             False\n",
       "rainfall       False\n",
       "label          False\n",
       "dtype: bool"
      ]
     },
     "execution_count": 5,
     "metadata": {},
     "output_type": "execute_result"
    }
   ],
   "source": [
    "cropdf.isnull().any()"
   ]
  },
  {
   "cell_type": "markdown",
   "id": "d4abad87",
   "metadata": {
    "papermill": {
     "duration": 0.009643,
     "end_time": "2023-04-18T05:18:37.633416",
     "exception": false,
     "start_time": "2023-04-18T05:18:37.623773",
     "status": "completed"
    },
    "tags": []
   },
   "source": [
    "#### Crops"
   ]
  },
  {
   "cell_type": "code",
   "execution_count": 6,
   "id": "ee6a2679",
   "metadata": {
    "execution": {
     "iopub.execute_input": "2023-04-18T05:18:37.655032Z",
     "iopub.status.busy": "2023-04-18T05:18:37.654604Z",
     "iopub.status.idle": "2023-04-18T05:18:37.667968Z",
     "shell.execute_reply": "2023-04-18T05:18:37.666451Z"
    },
    "papermill": {
     "duration": 0.026945,
     "end_time": "2023-04-18T05:18:37.670316",
     "exception": false,
     "start_time": "2023-04-18T05:18:37.643371",
     "status": "completed"
    },
    "tags": []
   },
   "outputs": [
    {
     "name": "stdout",
     "output_type": "stream",
     "text": [
      "Number of various crops:  22\n",
      "List of crops:  ['rice' 'maize' 'chickpea' 'kidneybeans' 'pigeonpeas' 'mothbeans'\n",
      " 'mungbean' 'blackgram' 'lentil' 'pomegranate' 'banana' 'mango' 'grapes'\n",
      " 'watermelon' 'muskmelon' 'apple' 'orange' 'papaya' 'coconut' 'cotton'\n",
      " 'jute' 'coffee']\n"
     ]
    }
   ],
   "source": [
    "print(\"Number of various crops: \", len(cropdf['label'].unique()))\n",
    "print(\"List of crops: \", cropdf['label'].unique())"
   ]
  },
  {
   "cell_type": "code",
   "execution_count": 7,
   "id": "7a2c810e",
   "metadata": {
    "execution": {
     "iopub.execute_input": "2023-04-18T05:18:37.691927Z",
     "iopub.status.busy": "2023-04-18T05:18:37.691524Z",
     "iopub.status.idle": "2023-04-18T05:18:37.702605Z",
     "shell.execute_reply": "2023-04-18T05:18:37.701370Z"
    },
    "papermill": {
     "duration": 0.024495,
     "end_time": "2023-04-18T05:18:37.705049",
     "exception": false,
     "start_time": "2023-04-18T05:18:37.680554",
     "status": "completed"
    },
    "tags": []
   },
   "outputs": [
    {
     "data": {
      "text/plain": [
       "rice           100\n",
       "maize          100\n",
       "jute           100\n",
       "cotton         100\n",
       "coconut        100\n",
       "papaya         100\n",
       "orange         100\n",
       "apple          100\n",
       "muskmelon      100\n",
       "watermelon     100\n",
       "grapes         100\n",
       "mango          100\n",
       "banana         100\n",
       "pomegranate    100\n",
       "lentil         100\n",
       "blackgram      100\n",
       "mungbean       100\n",
       "mothbeans      100\n",
       "pigeonpeas     100\n",
       "kidneybeans    100\n",
       "chickpea       100\n",
       "coffee         100\n",
       "Name: label, dtype: int64"
      ]
     },
     "execution_count": 7,
     "metadata": {},
     "output_type": "execute_result"
    }
   ],
   "source": [
    "cropdf['label'].value_counts()"
   ]
  },
  {
   "cell_type": "code",
   "execution_count": 8,
   "id": "ccab6dec",
   "metadata": {
    "execution": {
     "iopub.execute_input": "2023-04-18T05:18:37.726261Z",
     "iopub.status.busy": "2023-04-18T05:18:37.725874Z",
     "iopub.status.idle": "2023-04-18T05:18:37.759731Z",
     "shell.execute_reply": "2023-04-18T05:18:37.758346Z"
    },
    "papermill": {
     "duration": 0.047389,
     "end_time": "2023-04-18T05:18:37.762182",
     "exception": false,
     "start_time": "2023-04-18T05:18:37.714793",
     "status": "completed"
    },
    "tags": []
   },
   "outputs": [
    {
     "data": {
      "text/html": [
       "<div>\n",
       "<style scoped>\n",
       "    .dataframe tbody tr th:only-of-type {\n",
       "        vertical-align: middle;\n",
       "    }\n",
       "\n",
       "    .dataframe tbody tr th {\n",
       "        vertical-align: top;\n",
       "    }\n",
       "\n",
       "    .dataframe thead th {\n",
       "        text-align: right;\n",
       "    }\n",
       "</style>\n",
       "<table border=\"1\" class=\"dataframe\">\n",
       "  <thead>\n",
       "    <tr style=\"text-align: right;\">\n",
       "      <th></th>\n",
       "      <th>K</th>\n",
       "      <th>N</th>\n",
       "      <th>P</th>\n",
       "      <th>humidity</th>\n",
       "      <th>ph</th>\n",
       "      <th>rainfall</th>\n",
       "      <th>temperature</th>\n",
       "    </tr>\n",
       "    <tr>\n",
       "      <th>label</th>\n",
       "      <th></th>\n",
       "      <th></th>\n",
       "      <th></th>\n",
       "      <th></th>\n",
       "      <th></th>\n",
       "      <th></th>\n",
       "      <th></th>\n",
       "    </tr>\n",
       "  </thead>\n",
       "  <tbody>\n",
       "    <tr>\n",
       "      <th>apple</th>\n",
       "      <td>199.89</td>\n",
       "      <td>20.80</td>\n",
       "      <td>134.22</td>\n",
       "      <td>92.333383</td>\n",
       "      <td>5.929663</td>\n",
       "      <td>112.654779</td>\n",
       "      <td>22.630942</td>\n",
       "    </tr>\n",
       "    <tr>\n",
       "      <th>banana</th>\n",
       "      <td>50.05</td>\n",
       "      <td>100.23</td>\n",
       "      <td>82.01</td>\n",
       "      <td>80.358123</td>\n",
       "      <td>5.983893</td>\n",
       "      <td>104.626980</td>\n",
       "      <td>27.376798</td>\n",
       "    </tr>\n",
       "    <tr>\n",
       "      <th>blackgram</th>\n",
       "      <td>19.24</td>\n",
       "      <td>40.02</td>\n",
       "      <td>67.47</td>\n",
       "      <td>65.118426</td>\n",
       "      <td>7.133952</td>\n",
       "      <td>67.884151</td>\n",
       "      <td>29.973340</td>\n",
       "    </tr>\n",
       "    <tr>\n",
       "      <th>chickpea</th>\n",
       "      <td>79.92</td>\n",
       "      <td>40.09</td>\n",
       "      <td>67.79</td>\n",
       "      <td>16.860439</td>\n",
       "      <td>7.336957</td>\n",
       "      <td>80.058977</td>\n",
       "      <td>18.872847</td>\n",
       "    </tr>\n",
       "    <tr>\n",
       "      <th>coconut</th>\n",
       "      <td>30.59</td>\n",
       "      <td>21.98</td>\n",
       "      <td>16.93</td>\n",
       "      <td>94.844272</td>\n",
       "      <td>5.976562</td>\n",
       "      <td>175.686646</td>\n",
       "      <td>27.409892</td>\n",
       "    </tr>\n",
       "  </tbody>\n",
       "</table>\n",
       "</div>"
      ],
      "text/plain": [
       "                K       N       P   humidity        ph    rainfall  \\\n",
       "label                                                                \n",
       "apple      199.89   20.80  134.22  92.333383  5.929663  112.654779   \n",
       "banana      50.05  100.23   82.01  80.358123  5.983893  104.626980   \n",
       "blackgram   19.24   40.02   67.47  65.118426  7.133952   67.884151   \n",
       "chickpea    79.92   40.09   67.79  16.860439  7.336957   80.058977   \n",
       "coconut     30.59   21.98   16.93  94.844272  5.976562  175.686646   \n",
       "\n",
       "           temperature  \n",
       "label                   \n",
       "apple        22.630942  \n",
       "banana       27.376798  \n",
       "blackgram    29.973340  \n",
       "chickpea     18.872847  \n",
       "coconut      27.409892  "
      ]
     },
     "execution_count": 8,
     "metadata": {},
     "output_type": "execute_result"
    }
   ],
   "source": [
    "crop_summary = pd.pivot_table(cropdf,index=['label'],aggfunc='mean')\n",
    "crop_summary.head()"
   ]
  },
  {
   "cell_type": "markdown",
   "id": "791a105d",
   "metadata": {
    "papermill": {
     "duration": 0.009577,
     "end_time": "2023-04-18T05:18:37.781732",
     "exception": false,
     "start_time": "2023-04-18T05:18:37.772155",
     "status": "completed"
    },
    "tags": []
   },
   "source": [
    "# Visualizing the Crops Dataset"
   ]
  },
  {
   "cell_type": "markdown",
   "id": "a49f2832",
   "metadata": {
    "papermill": {
     "duration": 0.009562,
     "end_time": "2023-04-18T05:18:37.801354",
     "exception": false,
     "start_time": "2023-04-18T05:18:37.791792",
     "status": "completed"
    },
    "tags": []
   },
   "source": [
    "<h3 style='color:red'>Nitrogen Analysis</h3>"
   ]
  },
  {
   "cell_type": "code",
   "execution_count": 9,
   "id": "908de556",
   "metadata": {
    "_kg_hide-input": false,
    "execution": {
     "iopub.execute_input": "2023-04-18T05:18:37.823779Z",
     "iopub.status.busy": "2023-04-18T05:18:37.823328Z",
     "iopub.status.idle": "2023-04-18T05:18:38.405769Z",
     "shell.execute_reply": "2023-04-18T05:18:38.404472Z"
    },
    "papermill": {
     "duration": 0.596579,
     "end_time": "2023-04-18T05:18:38.408232",
     "exception": false,
     "start_time": "2023-04-18T05:18:37.811653",
     "status": "completed"
    },
    "tags": []
   },
   "outputs": [
    {
     "data": {
      "text/html": [
       "        <script type=\"text/javascript\">\n",
       "        window.PlotlyConfig = {MathJaxConfig: 'local'};\n",
       "        if (window.MathJax && window.MathJax.Hub && window.MathJax.Hub.Config) {window.MathJax.Hub.Config({SVG: {font: \"STIX-Web\"}});}\n",
       "        if (typeof require !== 'undefined') {\n",
       "        require.undef(\"plotly\");\n",
       "        requirejs.config({\n",
       "            paths: {\n",
       "                'plotly': ['https://cdn.plot.ly/plotly-2.18.0.min']\n",
       "            }\n",
       "        });\n",
       "        require(['plotly'], function(Plotly) {\n",
       "            window._Plotly = Plotly;\n",
       "        });\n",
       "        }\n",
       "        </script>\n",
       "        "
      ]
     },
     "metadata": {},
     "output_type": "display_data"
    },
    {
     "data": {
      "text/html": [
       "<div>                            <div id=\"95f926f4-db1a-40cc-89ba-50829373c57e\" class=\"plotly-graph-div\" style=\"height:500px; width:100%;\"></div>            <script type=\"text/javascript\">                require([\"plotly\"], function(Plotly) {                    window.PLOTLYENV=window.PLOTLYENV || {};                                    if (document.getElementById(\"95f926f4-db1a-40cc-89ba-50829373c57e\")) {                    Plotly.newPlot(                        \"95f926f4-db1a-40cc-89ba-50829373c57e\",                        [{\"marker\":{\"color\":\"red\"},\"name\":\"Most nitrogen required\",\"orientation\":\"h\",\"text\":[40.09,49.88,77.76,78.4,79.89,99.42,100.23,100.32,101.2,117.77],\"x\":[40.09,49.88,77.76,78.4,79.89,99.42,100.23,100.32,101.2,117.77],\"y\":[\"chickpea\",\"papaya\",\"maize\",\"jute\",\"rice\",\"watermelon\",\"banana\",\"muskmelon\",\"coffee\",\"cotton\"],\"type\":\"bar\",\"xaxis\":\"x\",\"yaxis\":\"y\",\"textposition\":\"inside\",\"texttemplate\":\"%{text}\"},{\"marker\":{\"color\":\"green\"},\"name\":\"Least nitrogen required\",\"orientation\":\"h\",\"text\":[21.98,21.44,20.99,20.8,20.75,20.73,20.07,19.58,18.87,18.77],\"x\":[21.98,21.44,20.99,20.8,20.75,20.73,20.07,19.58,18.87,18.77],\"y\":[\"coconut\",\"mothbeans\",\"mungbean\",\"apple\",\"kidneybeans\",\"pigeonpeas\",\"mango\",\"orange\",\"pomegranate\",\"lentil\"],\"type\":\"bar\",\"xaxis\":\"x2\",\"yaxis\":\"y2\",\"textposition\":\"inside\",\"texttemplate\":\"%{text}\"}],                        {\"template\":{\"data\":{\"histogram2dcontour\":[{\"type\":\"histogram2dcontour\",\"colorbar\":{\"outlinewidth\":0,\"ticks\":\"\"},\"colorscale\":[[0.0,\"#0d0887\"],[0.1111111111111111,\"#46039f\"],[0.2222222222222222,\"#7201a8\"],[0.3333333333333333,\"#9c179e\"],[0.4444444444444444,\"#bd3786\"],[0.5555555555555556,\"#d8576b\"],[0.6666666666666666,\"#ed7953\"],[0.7777777777777778,\"#fb9f3a\"],[0.8888888888888888,\"#fdca26\"],[1.0,\"#f0f921\"]]}],\"choropleth\":[{\"type\":\"choropleth\",\"colorbar\":{\"outlinewidth\":0,\"ticks\":\"\"}}],\"histogram2d\":[{\"type\":\"histogram2d\",\"colorbar\":{\"outlinewidth\":0,\"ticks\":\"\"},\"colorscale\":[[0.0,\"#0d0887\"],[0.1111111111111111,\"#46039f\"],[0.2222222222222222,\"#7201a8\"],[0.3333333333333333,\"#9c179e\"],[0.4444444444444444,\"#bd3786\"],[0.5555555555555556,\"#d8576b\"],[0.6666666666666666,\"#ed7953\"],[0.7777777777777778,\"#fb9f3a\"],[0.8888888888888888,\"#fdca26\"],[1.0,\"#f0f921\"]]}],\"heatmap\":[{\"type\":\"heatmap\",\"colorbar\":{\"outlinewidth\":0,\"ticks\":\"\"},\"colorscale\":[[0.0,\"#0d0887\"],[0.1111111111111111,\"#46039f\"],[0.2222222222222222,\"#7201a8\"],[0.3333333333333333,\"#9c179e\"],[0.4444444444444444,\"#bd3786\"],[0.5555555555555556,\"#d8576b\"],[0.6666666666666666,\"#ed7953\"],[0.7777777777777778,\"#fb9f3a\"],[0.8888888888888888,\"#fdca26\"],[1.0,\"#f0f921\"]]}],\"heatmapgl\":[{\"type\":\"heatmapgl\",\"colorbar\":{\"outlinewidth\":0,\"ticks\":\"\"},\"colorscale\":[[0.0,\"#0d0887\"],[0.1111111111111111,\"#46039f\"],[0.2222222222222222,\"#7201a8\"],[0.3333333333333333,\"#9c179e\"],[0.4444444444444444,\"#bd3786\"],[0.5555555555555556,\"#d8576b\"],[0.6666666666666666,\"#ed7953\"],[0.7777777777777778,\"#fb9f3a\"],[0.8888888888888888,\"#fdca26\"],[1.0,\"#f0f921\"]]}],\"contourcarpet\":[{\"type\":\"contourcarpet\",\"colorbar\":{\"outlinewidth\":0,\"ticks\":\"\"}}],\"contour\":[{\"type\":\"contour\",\"colorbar\":{\"outlinewidth\":0,\"ticks\":\"\"},\"colorscale\":[[0.0,\"#0d0887\"],[0.1111111111111111,\"#46039f\"],[0.2222222222222222,\"#7201a8\"],[0.3333333333333333,\"#9c179e\"],[0.4444444444444444,\"#bd3786\"],[0.5555555555555556,\"#d8576b\"],[0.6666666666666666,\"#ed7953\"],[0.7777777777777778,\"#fb9f3a\"],[0.8888888888888888,\"#fdca26\"],[1.0,\"#f0f921\"]]}],\"surface\":[{\"type\":\"surface\",\"colorbar\":{\"outlinewidth\":0,\"ticks\":\"\"},\"colorscale\":[[0.0,\"#0d0887\"],[0.1111111111111111,\"#46039f\"],[0.2222222222222222,\"#7201a8\"],[0.3333333333333333,\"#9c179e\"],[0.4444444444444444,\"#bd3786\"],[0.5555555555555556,\"#d8576b\"],[0.6666666666666666,\"#ed7953\"],[0.7777777777777778,\"#fb9f3a\"],[0.8888888888888888,\"#fdca26\"],[1.0,\"#f0f921\"]]}],\"mesh3d\":[{\"type\":\"mesh3d\",\"colorbar\":{\"outlinewidth\":0,\"ticks\":\"\"}}],\"scatter\":[{\"fillpattern\":{\"fillmode\":\"overlay\",\"size\":10,\"solidity\":0.2},\"type\":\"scatter\"}],\"parcoords\":[{\"type\":\"parcoords\",\"line\":{\"colorbar\":{\"outlinewidth\":0,\"ticks\":\"\"}}}],\"scatterpolargl\":[{\"type\":\"scatterpolargl\",\"marker\":{\"colorbar\":{\"outlinewidth\":0,\"ticks\":\"\"}}}],\"bar\":[{\"error_x\":{\"color\":\"#2a3f5f\"},\"error_y\":{\"color\":\"#2a3f5f\"},\"marker\":{\"line\":{\"color\":\"#E5ECF6\",\"width\":0.5},\"pattern\":{\"fillmode\":\"overlay\",\"size\":10,\"solidity\":0.2}},\"type\":\"bar\"}],\"scattergeo\":[{\"type\":\"scattergeo\",\"marker\":{\"colorbar\":{\"outlinewidth\":0,\"ticks\":\"\"}}}],\"scatterpolar\":[{\"type\":\"scatterpolar\",\"marker\":{\"colorbar\":{\"outlinewidth\":0,\"ticks\":\"\"}}}],\"histogram\":[{\"marker\":{\"pattern\":{\"fillmode\":\"overlay\",\"size\":10,\"solidity\":0.2}},\"type\":\"histogram\"}],\"scattergl\":[{\"type\":\"scattergl\",\"marker\":{\"colorbar\":{\"outlinewidth\":0,\"ticks\":\"\"}}}],\"scatter3d\":[{\"type\":\"scatter3d\",\"line\":{\"colorbar\":{\"outlinewidth\":0,\"ticks\":\"\"}},\"marker\":{\"colorbar\":{\"outlinewidth\":0,\"ticks\":\"\"}}}],\"scattermapbox\":[{\"type\":\"scattermapbox\",\"marker\":{\"colorbar\":{\"outlinewidth\":0,\"ticks\":\"\"}}}],\"scatterternary\":[{\"type\":\"scatterternary\",\"marker\":{\"colorbar\":{\"outlinewidth\":0,\"ticks\":\"\"}}}],\"scattercarpet\":[{\"type\":\"scattercarpet\",\"marker\":{\"colorbar\":{\"outlinewidth\":0,\"ticks\":\"\"}}}],\"carpet\":[{\"aaxis\":{\"endlinecolor\":\"#2a3f5f\",\"gridcolor\":\"white\",\"linecolor\":\"white\",\"minorgridcolor\":\"white\",\"startlinecolor\":\"#2a3f5f\"},\"baxis\":{\"endlinecolor\":\"#2a3f5f\",\"gridcolor\":\"white\",\"linecolor\":\"white\",\"minorgridcolor\":\"white\",\"startlinecolor\":\"#2a3f5f\"},\"type\":\"carpet\"}],\"table\":[{\"cells\":{\"fill\":{\"color\":\"#EBF0F8\"},\"line\":{\"color\":\"white\"}},\"header\":{\"fill\":{\"color\":\"#C8D4E3\"},\"line\":{\"color\":\"white\"}},\"type\":\"table\"}],\"barpolar\":[{\"marker\":{\"line\":{\"color\":\"#E5ECF6\",\"width\":0.5},\"pattern\":{\"fillmode\":\"overlay\",\"size\":10,\"solidity\":0.2}},\"type\":\"barpolar\"}],\"pie\":[{\"automargin\":true,\"type\":\"pie\"}]},\"layout\":{\"autotypenumbers\":\"strict\",\"colorway\":[\"#636efa\",\"#EF553B\",\"#00cc96\",\"#ab63fa\",\"#FFA15A\",\"#19d3f3\",\"#FF6692\",\"#B6E880\",\"#FF97FF\",\"#FECB52\"],\"font\":{\"color\":\"#2a3f5f\"},\"hovermode\":\"closest\",\"hoverlabel\":{\"align\":\"left\"},\"paper_bgcolor\":\"white\",\"plot_bgcolor\":\"#E5ECF6\",\"polar\":{\"bgcolor\":\"#E5ECF6\",\"angularaxis\":{\"gridcolor\":\"white\",\"linecolor\":\"white\",\"ticks\":\"\"},\"radialaxis\":{\"gridcolor\":\"white\",\"linecolor\":\"white\",\"ticks\":\"\"}},\"ternary\":{\"bgcolor\":\"#E5ECF6\",\"aaxis\":{\"gridcolor\":\"white\",\"linecolor\":\"white\",\"ticks\":\"\"},\"baxis\":{\"gridcolor\":\"white\",\"linecolor\":\"white\",\"ticks\":\"\"},\"caxis\":{\"gridcolor\":\"white\",\"linecolor\":\"white\",\"ticks\":\"\"}},\"coloraxis\":{\"colorbar\":{\"outlinewidth\":0,\"ticks\":\"\"}},\"colorscale\":{\"sequential\":[[0.0,\"#0d0887\"],[0.1111111111111111,\"#46039f\"],[0.2222222222222222,\"#7201a8\"],[0.3333333333333333,\"#9c179e\"],[0.4444444444444444,\"#bd3786\"],[0.5555555555555556,\"#d8576b\"],[0.6666666666666666,\"#ed7953\"],[0.7777777777777778,\"#fb9f3a\"],[0.8888888888888888,\"#fdca26\"],[1.0,\"#f0f921\"]],\"sequentialminus\":[[0.0,\"#0d0887\"],[0.1111111111111111,\"#46039f\"],[0.2222222222222222,\"#7201a8\"],[0.3333333333333333,\"#9c179e\"],[0.4444444444444444,\"#bd3786\"],[0.5555555555555556,\"#d8576b\"],[0.6666666666666666,\"#ed7953\"],[0.7777777777777778,\"#fb9f3a\"],[0.8888888888888888,\"#fdca26\"],[1.0,\"#f0f921\"]],\"diverging\":[[0,\"#8e0152\"],[0.1,\"#c51b7d\"],[0.2,\"#de77ae\"],[0.3,\"#f1b6da\"],[0.4,\"#fde0ef\"],[0.5,\"#f7f7f7\"],[0.6,\"#e6f5d0\"],[0.7,\"#b8e186\"],[0.8,\"#7fbc41\"],[0.9,\"#4d9221\"],[1,\"#276419\"]]},\"xaxis\":{\"gridcolor\":\"white\",\"linecolor\":\"white\",\"ticks\":\"\",\"title\":{\"standoff\":15},\"zerolinecolor\":\"white\",\"automargin\":true,\"zerolinewidth\":2},\"yaxis\":{\"gridcolor\":\"white\",\"linecolor\":\"white\",\"ticks\":\"\",\"title\":{\"standoff\":15},\"zerolinecolor\":\"white\",\"automargin\":true,\"zerolinewidth\":2},\"scene\":{\"xaxis\":{\"backgroundcolor\":\"#E5ECF6\",\"gridcolor\":\"white\",\"linecolor\":\"white\",\"showbackground\":true,\"ticks\":\"\",\"zerolinecolor\":\"white\",\"gridwidth\":2},\"yaxis\":{\"backgroundcolor\":\"#E5ECF6\",\"gridcolor\":\"white\",\"linecolor\":\"white\",\"showbackground\":true,\"ticks\":\"\",\"zerolinecolor\":\"white\",\"gridwidth\":2},\"zaxis\":{\"backgroundcolor\":\"#E5ECF6\",\"gridcolor\":\"white\",\"linecolor\":\"white\",\"showbackground\":true,\"ticks\":\"\",\"zerolinecolor\":\"white\",\"gridwidth\":2}},\"shapedefaults\":{\"line\":{\"color\":\"#2a3f5f\"}},\"annotationdefaults\":{\"arrowcolor\":\"#2a3f5f\",\"arrowhead\":0,\"arrowwidth\":1},\"geo\":{\"bgcolor\":\"white\",\"landcolor\":\"#E5ECF6\",\"subunitcolor\":\"white\",\"showland\":true,\"showlakes\":true,\"lakecolor\":\"white\"},\"title\":{\"x\":0.05},\"mapbox\":{\"style\":\"light\"}}},\"xaxis\":{\"anchor\":\"y\",\"domain\":[0.0,0.45],\"showgrid\":false},\"yaxis\":{\"anchor\":\"x\",\"domain\":[0.0,1.0],\"showgrid\":false},\"xaxis2\":{\"anchor\":\"y2\",\"domain\":[0.55,1.0],\"showgrid\":false},\"yaxis2\":{\"anchor\":\"x2\",\"domain\":[0.0,1.0],\"showgrid\":false},\"title\":{\"text\":\"Nitrogen (N)\"},\"font\":{\"size\":12,\"color\":\"black\"},\"plot_bgcolor\":\"white\",\"height\":500},                        {\"responsive\": true}                    ).then(function(){\n",
       "                            \n",
       "var gd = document.getElementById('95f926f4-db1a-40cc-89ba-50829373c57e');\n",
       "var x = new MutationObserver(function (mutations, observer) {{\n",
       "        var display = window.getComputedStyle(gd).display;\n",
       "        if (!display || display === 'none') {{\n",
       "            console.log([gd, 'removed!']);\n",
       "            Plotly.purge(gd);\n",
       "            observer.disconnect();\n",
       "        }}\n",
       "}});\n",
       "\n",
       "// Listen for the removal of the full notebook cells\n",
       "var notebookContainer = gd.closest('#notebook-container');\n",
       "if (notebookContainer) {{\n",
       "    x.observe(notebookContainer, {childList: true});\n",
       "}}\n",
       "\n",
       "// Listen for the clearing of the current output cell\n",
       "var outputEl = gd.closest('.output');\n",
       "if (outputEl) {{\n",
       "    x.observe(outputEl, {childList: true});\n",
       "}}\n",
       "\n",
       "                        })                };                });            </script>        </div>"
      ]
     },
     "metadata": {},
     "output_type": "display_data"
    }
   ],
   "source": [
    "crop_summary_N = crop_summary.sort_values(by='N', ascending=False)\n",
    "  \n",
    "fig = make_subplots(rows=1, cols=2)\n",
    "\n",
    "top = {\n",
    "    'y' : crop_summary_N['N'][0:10].sort_values().index,\n",
    "    'x' : crop_summary_N['N'][0:10].sort_values()\n",
    "}\n",
    "\n",
    "last = {\n",
    "    'y' : crop_summary_N['N'][-10:].index,\n",
    "    'x' : crop_summary_N['N'][-10:]\n",
    "}\n",
    "\n",
    "fig.add_trace(\n",
    "    go.Bar(top,\n",
    "           name=\"Most nitrogen required\",\n",
    "           marker_color='red',\n",
    "           orientation='h',\n",
    "          text=top['x']),\n",
    "    \n",
    "    row=1, col=1\n",
    ")\n",
    "\n",
    "fig.add_trace(\n",
    "    go.Bar(last,\n",
    "           name=\"Least nitrogen required\",\n",
    "           marker_color='green',\n",
    "           orientation='h',\n",
    "          text=last['x']),\n",
    "    row=1, col=2\n",
    ")\n",
    "fig.update_traces(texttemplate='%{text}', textposition='inside')\n",
    "fig.update_layout(title_text=\"Nitrogen (N)\",\n",
    "                  plot_bgcolor='white',\n",
    "                  font_size=12, \n",
    "                  font_color='black',\n",
    "                 height=500)\n",
    "\n",
    "fig.update_xaxes(showgrid=False)\n",
    "fig.update_yaxes(showgrid=False)\n",
    "fig.show()\n"
   ]
  },
  {
   "cell_type": "markdown",
   "id": "10b4617c",
   "metadata": {
    "papermill": {
     "duration": 0.009713,
     "end_time": "2023-04-18T05:18:38.428211",
     "exception": false,
     "start_time": "2023-04-18T05:18:38.418498",
     "status": "completed"
    },
    "tags": []
   },
   "source": [
    "<h3 style='color:red'>Phosphorus Analysis</h3>"
   ]
  },
  {
   "cell_type": "code",
   "execution_count": 10,
   "id": "d063ae05",
   "metadata": {
    "execution": {
     "iopub.execute_input": "2023-04-18T05:18:38.450608Z",
     "iopub.status.busy": "2023-04-18T05:18:38.450204Z",
     "iopub.status.idle": "2023-04-18T05:18:38.500261Z",
     "shell.execute_reply": "2023-04-18T05:18:38.498903Z"
    },
    "papermill": {
     "duration": 0.064537,
     "end_time": "2023-04-18T05:18:38.502958",
     "exception": false,
     "start_time": "2023-04-18T05:18:38.438421",
     "status": "completed"
    },
    "tags": []
   },
   "outputs": [
    {
     "data": {
      "text/html": [
       "<div>                            <div id=\"5e5d731b-cd2a-40f2-ae1e-5f8f5df08ebc\" class=\"plotly-graph-div\" style=\"height:500px; width:100%;\"></div>            <script type=\"text/javascript\">                require([\"plotly\"], function(Plotly) {                    window.PLOTLYENV=window.PLOTLYENV || {};                                    if (document.getElementById(\"5e5d731b-cd2a-40f2-ae1e-5f8f5df08ebc\")) {                    Plotly.newPlot(                        \"5e5d731b-cd2a-40f2-ae1e-5f8f5df08ebc\",                        [{\"marker\":{\"color\":\"red\"},\"name\":\"Most phosphorus required\",\"orientation\":\"h\",\"text\":[48.44,59.05,67.47,67.54,67.73,67.79,68.36,82.01,132.53,134.22],\"x\":[48.44,59.05,67.47,67.54,67.73,67.79,68.36,82.01,132.53,134.22],\"y\":[\"maize\",\"papaya\",\"blackgram\",\"kidneybeans\",\"pigeonpeas\",\"chickpea\",\"lentil\",\"banana\",\"grapes\",\"apple\"],\"type\":\"bar\",\"xaxis\":\"x\",\"yaxis\":\"y\",\"textposition\":\"inside\",\"texttemplate\":\"%{text}\"},{\"marker\":{\"color\":\"green\"},\"name\":\"Least phosphorus required\",\"orientation\":\"h\",\"text\":[47.28,46.86,46.24,28.74,27.18,18.75,17.72,17.0,16.93,16.55],\"x\":[47.28,46.86,46.24,28.74,27.18,18.75,17.72,17.0,16.93,16.55],\"y\":[\"mungbean\",\"jute\",\"cotton\",\"coffee\",\"mango\",\"pomegranate\",\"muskmelon\",\"watermelon\",\"coconut\",\"orange\"],\"type\":\"bar\",\"xaxis\":\"x2\",\"yaxis\":\"y2\",\"textposition\":\"inside\",\"texttemplate\":\"%{text}\"}],                        {\"template\":{\"data\":{\"histogram2dcontour\":[{\"type\":\"histogram2dcontour\",\"colorbar\":{\"outlinewidth\":0,\"ticks\":\"\"},\"colorscale\":[[0.0,\"#0d0887\"],[0.1111111111111111,\"#46039f\"],[0.2222222222222222,\"#7201a8\"],[0.3333333333333333,\"#9c179e\"],[0.4444444444444444,\"#bd3786\"],[0.5555555555555556,\"#d8576b\"],[0.6666666666666666,\"#ed7953\"],[0.7777777777777778,\"#fb9f3a\"],[0.8888888888888888,\"#fdca26\"],[1.0,\"#f0f921\"]]}],\"choropleth\":[{\"type\":\"choropleth\",\"colorbar\":{\"outlinewidth\":0,\"ticks\":\"\"}}],\"histogram2d\":[{\"type\":\"histogram2d\",\"colorbar\":{\"outlinewidth\":0,\"ticks\":\"\"},\"colorscale\":[[0.0,\"#0d0887\"],[0.1111111111111111,\"#46039f\"],[0.2222222222222222,\"#7201a8\"],[0.3333333333333333,\"#9c179e\"],[0.4444444444444444,\"#bd3786\"],[0.5555555555555556,\"#d8576b\"],[0.6666666666666666,\"#ed7953\"],[0.7777777777777778,\"#fb9f3a\"],[0.8888888888888888,\"#fdca26\"],[1.0,\"#f0f921\"]]}],\"heatmap\":[{\"type\":\"heatmap\",\"colorbar\":{\"outlinewidth\":0,\"ticks\":\"\"},\"colorscale\":[[0.0,\"#0d0887\"],[0.1111111111111111,\"#46039f\"],[0.2222222222222222,\"#7201a8\"],[0.3333333333333333,\"#9c179e\"],[0.4444444444444444,\"#bd3786\"],[0.5555555555555556,\"#d8576b\"],[0.6666666666666666,\"#ed7953\"],[0.7777777777777778,\"#fb9f3a\"],[0.8888888888888888,\"#fdca26\"],[1.0,\"#f0f921\"]]}],\"heatmapgl\":[{\"type\":\"heatmapgl\",\"colorbar\":{\"outlinewidth\":0,\"ticks\":\"\"},\"colorscale\":[[0.0,\"#0d0887\"],[0.1111111111111111,\"#46039f\"],[0.2222222222222222,\"#7201a8\"],[0.3333333333333333,\"#9c179e\"],[0.4444444444444444,\"#bd3786\"],[0.5555555555555556,\"#d8576b\"],[0.6666666666666666,\"#ed7953\"],[0.7777777777777778,\"#fb9f3a\"],[0.8888888888888888,\"#fdca26\"],[1.0,\"#f0f921\"]]}],\"contourcarpet\":[{\"type\":\"contourcarpet\",\"colorbar\":{\"outlinewidth\":0,\"ticks\":\"\"}}],\"contour\":[{\"type\":\"contour\",\"colorbar\":{\"outlinewidth\":0,\"ticks\":\"\"},\"colorscale\":[[0.0,\"#0d0887\"],[0.1111111111111111,\"#46039f\"],[0.2222222222222222,\"#7201a8\"],[0.3333333333333333,\"#9c179e\"],[0.4444444444444444,\"#bd3786\"],[0.5555555555555556,\"#d8576b\"],[0.6666666666666666,\"#ed7953\"],[0.7777777777777778,\"#fb9f3a\"],[0.8888888888888888,\"#fdca26\"],[1.0,\"#f0f921\"]]}],\"surface\":[{\"type\":\"surface\",\"colorbar\":{\"outlinewidth\":0,\"ticks\":\"\"},\"colorscale\":[[0.0,\"#0d0887\"],[0.1111111111111111,\"#46039f\"],[0.2222222222222222,\"#7201a8\"],[0.3333333333333333,\"#9c179e\"],[0.4444444444444444,\"#bd3786\"],[0.5555555555555556,\"#d8576b\"],[0.6666666666666666,\"#ed7953\"],[0.7777777777777778,\"#fb9f3a\"],[0.8888888888888888,\"#fdca26\"],[1.0,\"#f0f921\"]]}],\"mesh3d\":[{\"type\":\"mesh3d\",\"colorbar\":{\"outlinewidth\":0,\"ticks\":\"\"}}],\"scatter\":[{\"fillpattern\":{\"fillmode\":\"overlay\",\"size\":10,\"solidity\":0.2},\"type\":\"scatter\"}],\"parcoords\":[{\"type\":\"parcoords\",\"line\":{\"colorbar\":{\"outlinewidth\":0,\"ticks\":\"\"}}}],\"scatterpolargl\":[{\"type\":\"scatterpolargl\",\"marker\":{\"colorbar\":{\"outlinewidth\":0,\"ticks\":\"\"}}}],\"bar\":[{\"error_x\":{\"color\":\"#2a3f5f\"},\"error_y\":{\"color\":\"#2a3f5f\"},\"marker\":{\"line\":{\"color\":\"#E5ECF6\",\"width\":0.5},\"pattern\":{\"fillmode\":\"overlay\",\"size\":10,\"solidity\":0.2}},\"type\":\"bar\"}],\"scattergeo\":[{\"type\":\"scattergeo\",\"marker\":{\"colorbar\":{\"outlinewidth\":0,\"ticks\":\"\"}}}],\"scatterpolar\":[{\"type\":\"scatterpolar\",\"marker\":{\"colorbar\":{\"outlinewidth\":0,\"ticks\":\"\"}}}],\"histogram\":[{\"marker\":{\"pattern\":{\"fillmode\":\"overlay\",\"size\":10,\"solidity\":0.2}},\"type\":\"histogram\"}],\"scattergl\":[{\"type\":\"scattergl\",\"marker\":{\"colorbar\":{\"outlinewidth\":0,\"ticks\":\"\"}}}],\"scatter3d\":[{\"type\":\"scatter3d\",\"line\":{\"colorbar\":{\"outlinewidth\":0,\"ticks\":\"\"}},\"marker\":{\"colorbar\":{\"outlinewidth\":0,\"ticks\":\"\"}}}],\"scattermapbox\":[{\"type\":\"scattermapbox\",\"marker\":{\"colorbar\":{\"outlinewidth\":0,\"ticks\":\"\"}}}],\"scatterternary\":[{\"type\":\"scatterternary\",\"marker\":{\"colorbar\":{\"outlinewidth\":0,\"ticks\":\"\"}}}],\"scattercarpet\":[{\"type\":\"scattercarpet\",\"marker\":{\"colorbar\":{\"outlinewidth\":0,\"ticks\":\"\"}}}],\"carpet\":[{\"aaxis\":{\"endlinecolor\":\"#2a3f5f\",\"gridcolor\":\"white\",\"linecolor\":\"white\",\"minorgridcolor\":\"white\",\"startlinecolor\":\"#2a3f5f\"},\"baxis\":{\"endlinecolor\":\"#2a3f5f\",\"gridcolor\":\"white\",\"linecolor\":\"white\",\"minorgridcolor\":\"white\",\"startlinecolor\":\"#2a3f5f\"},\"type\":\"carpet\"}],\"table\":[{\"cells\":{\"fill\":{\"color\":\"#EBF0F8\"},\"line\":{\"color\":\"white\"}},\"header\":{\"fill\":{\"color\":\"#C8D4E3\"},\"line\":{\"color\":\"white\"}},\"type\":\"table\"}],\"barpolar\":[{\"marker\":{\"line\":{\"color\":\"#E5ECF6\",\"width\":0.5},\"pattern\":{\"fillmode\":\"overlay\",\"size\":10,\"solidity\":0.2}},\"type\":\"barpolar\"}],\"pie\":[{\"automargin\":true,\"type\":\"pie\"}]},\"layout\":{\"autotypenumbers\":\"strict\",\"colorway\":[\"#636efa\",\"#EF553B\",\"#00cc96\",\"#ab63fa\",\"#FFA15A\",\"#19d3f3\",\"#FF6692\",\"#B6E880\",\"#FF97FF\",\"#FECB52\"],\"font\":{\"color\":\"#2a3f5f\"},\"hovermode\":\"closest\",\"hoverlabel\":{\"align\":\"left\"},\"paper_bgcolor\":\"white\",\"plot_bgcolor\":\"#E5ECF6\",\"polar\":{\"bgcolor\":\"#E5ECF6\",\"angularaxis\":{\"gridcolor\":\"white\",\"linecolor\":\"white\",\"ticks\":\"\"},\"radialaxis\":{\"gridcolor\":\"white\",\"linecolor\":\"white\",\"ticks\":\"\"}},\"ternary\":{\"bgcolor\":\"#E5ECF6\",\"aaxis\":{\"gridcolor\":\"white\",\"linecolor\":\"white\",\"ticks\":\"\"},\"baxis\":{\"gridcolor\":\"white\",\"linecolor\":\"white\",\"ticks\":\"\"},\"caxis\":{\"gridcolor\":\"white\",\"linecolor\":\"white\",\"ticks\":\"\"}},\"coloraxis\":{\"colorbar\":{\"outlinewidth\":0,\"ticks\":\"\"}},\"colorscale\":{\"sequential\":[[0.0,\"#0d0887\"],[0.1111111111111111,\"#46039f\"],[0.2222222222222222,\"#7201a8\"],[0.3333333333333333,\"#9c179e\"],[0.4444444444444444,\"#bd3786\"],[0.5555555555555556,\"#d8576b\"],[0.6666666666666666,\"#ed7953\"],[0.7777777777777778,\"#fb9f3a\"],[0.8888888888888888,\"#fdca26\"],[1.0,\"#f0f921\"]],\"sequentialminus\":[[0.0,\"#0d0887\"],[0.1111111111111111,\"#46039f\"],[0.2222222222222222,\"#7201a8\"],[0.3333333333333333,\"#9c179e\"],[0.4444444444444444,\"#bd3786\"],[0.5555555555555556,\"#d8576b\"],[0.6666666666666666,\"#ed7953\"],[0.7777777777777778,\"#fb9f3a\"],[0.8888888888888888,\"#fdca26\"],[1.0,\"#f0f921\"]],\"diverging\":[[0,\"#8e0152\"],[0.1,\"#c51b7d\"],[0.2,\"#de77ae\"],[0.3,\"#f1b6da\"],[0.4,\"#fde0ef\"],[0.5,\"#f7f7f7\"],[0.6,\"#e6f5d0\"],[0.7,\"#b8e186\"],[0.8,\"#7fbc41\"],[0.9,\"#4d9221\"],[1,\"#276419\"]]},\"xaxis\":{\"gridcolor\":\"white\",\"linecolor\":\"white\",\"ticks\":\"\",\"title\":{\"standoff\":15},\"zerolinecolor\":\"white\",\"automargin\":true,\"zerolinewidth\":2},\"yaxis\":{\"gridcolor\":\"white\",\"linecolor\":\"white\",\"ticks\":\"\",\"title\":{\"standoff\":15},\"zerolinecolor\":\"white\",\"automargin\":true,\"zerolinewidth\":2},\"scene\":{\"xaxis\":{\"backgroundcolor\":\"#E5ECF6\",\"gridcolor\":\"white\",\"linecolor\":\"white\",\"showbackground\":true,\"ticks\":\"\",\"zerolinecolor\":\"white\",\"gridwidth\":2},\"yaxis\":{\"backgroundcolor\":\"#E5ECF6\",\"gridcolor\":\"white\",\"linecolor\":\"white\",\"showbackground\":true,\"ticks\":\"\",\"zerolinecolor\":\"white\",\"gridwidth\":2},\"zaxis\":{\"backgroundcolor\":\"#E5ECF6\",\"gridcolor\":\"white\",\"linecolor\":\"white\",\"showbackground\":true,\"ticks\":\"\",\"zerolinecolor\":\"white\",\"gridwidth\":2}},\"shapedefaults\":{\"line\":{\"color\":\"#2a3f5f\"}},\"annotationdefaults\":{\"arrowcolor\":\"#2a3f5f\",\"arrowhead\":0,\"arrowwidth\":1},\"geo\":{\"bgcolor\":\"white\",\"landcolor\":\"#E5ECF6\",\"subunitcolor\":\"white\",\"showland\":true,\"showlakes\":true,\"lakecolor\":\"white\"},\"title\":{\"x\":0.05},\"mapbox\":{\"style\":\"light\"}}},\"xaxis\":{\"anchor\":\"y\",\"domain\":[0.0,0.45],\"showgrid\":false},\"yaxis\":{\"anchor\":\"x\",\"domain\":[0.0,1.0],\"showgrid\":false},\"xaxis2\":{\"anchor\":\"y2\",\"domain\":[0.55,1.0],\"showgrid\":false},\"yaxis2\":{\"anchor\":\"x2\",\"domain\":[0.0,1.0],\"showgrid\":false},\"title\":{\"text\":\"Phosphorus (P)\"},\"font\":{\"size\":12,\"color\":\"black\"},\"plot_bgcolor\":\"white\",\"height\":500},                        {\"responsive\": true}                    ).then(function(){\n",
       "                            \n",
       "var gd = document.getElementById('5e5d731b-cd2a-40f2-ae1e-5f8f5df08ebc');\n",
       "var x = new MutationObserver(function (mutations, observer) {{\n",
       "        var display = window.getComputedStyle(gd).display;\n",
       "        if (!display || display === 'none') {{\n",
       "            console.log([gd, 'removed!']);\n",
       "            Plotly.purge(gd);\n",
       "            observer.disconnect();\n",
       "        }}\n",
       "}});\n",
       "\n",
       "// Listen for the removal of the full notebook cells\n",
       "var notebookContainer = gd.closest('#notebook-container');\n",
       "if (notebookContainer) {{\n",
       "    x.observe(notebookContainer, {childList: true});\n",
       "}}\n",
       "\n",
       "// Listen for the clearing of the current output cell\n",
       "var outputEl = gd.closest('.output');\n",
       "if (outputEl) {{\n",
       "    x.observe(outputEl, {childList: true});\n",
       "}}\n",
       "\n",
       "                        })                };                });            </script>        </div>"
      ]
     },
     "metadata": {},
     "output_type": "display_data"
    }
   ],
   "source": [
    "crop_summary_P = crop_summary.sort_values(by='P', ascending=False)\n",
    "  \n",
    "fig = make_subplots(rows=1, cols=2)\n",
    "\n",
    "top = {\n",
    "    'y' : crop_summary_P['P'][0:10].sort_values().index,\n",
    "    'x' : crop_summary_P['P'][0:10].sort_values()\n",
    "}\n",
    "\n",
    "last = {\n",
    "    'y' : crop_summary_P['P'][-10:].index,\n",
    "    'x' : crop_summary_P['P'][-10:]\n",
    "}\n",
    "\n",
    "fig.add_trace(\n",
    "    go.Bar(top,\n",
    "           name=\"Most phosphorus required\",\n",
    "           marker_color='red',\n",
    "           orientation='h',\n",
    "          text=top['x']),\n",
    "    \n",
    "    row=1, col=1\n",
    ")\n",
    "\n",
    "fig.add_trace(\n",
    "    go.Bar(last,\n",
    "           name=\"Least phosphorus required\",\n",
    "           marker_color='green',\n",
    "           orientation='h',\n",
    "          text=last['x']),\n",
    "    row=1, col=2\n",
    ")\n",
    "fig.update_traces(texttemplate='%{text}', textposition='inside')\n",
    "fig.update_layout(title_text=\"Phosphorus (P)\",\n",
    "                  plot_bgcolor='white',\n",
    "                  font_size=12, \n",
    "                  font_color='black',\n",
    "                 height=500)\n",
    "\n",
    "fig.update_xaxes(showgrid=False)\n",
    "fig.update_yaxes(showgrid=False)\n",
    "fig.show()\n"
   ]
  },
  {
   "cell_type": "markdown",
   "id": "53292458",
   "metadata": {
    "papermill": {
     "duration": 0.010012,
     "end_time": "2023-04-18T05:18:38.523706",
     "exception": false,
     "start_time": "2023-04-18T05:18:38.513694",
     "status": "completed"
    },
    "tags": []
   },
   "source": [
    "<h3 style='color:Red'>Potassium analysis</h3>"
   ]
  },
  {
   "cell_type": "code",
   "execution_count": 11,
   "id": "03640734",
   "metadata": {
    "execution": {
     "iopub.execute_input": "2023-04-18T05:18:38.547048Z",
     "iopub.status.busy": "2023-04-18T05:18:38.546161Z",
     "iopub.status.idle": "2023-04-18T05:18:38.594424Z",
     "shell.execute_reply": "2023-04-18T05:18:38.593144Z"
    },
    "papermill": {
     "duration": 0.062833,
     "end_time": "2023-04-18T05:18:38.596914",
     "exception": false,
     "start_time": "2023-04-18T05:18:38.534081",
     "status": "completed"
    },
    "tags": []
   },
   "outputs": [
    {
     "data": {
      "text/html": [
       "<div>                            <div id=\"c899ad66-bbd0-4232-b410-354946d59f47\" class=\"plotly-graph-div\" style=\"height:500px; width:100%;\"></div>            <script type=\"text/javascript\">                require([\"plotly\"], function(Plotly) {                    window.PLOTLYENV=window.PLOTLYENV || {};                                    if (document.getElementById(\"c899ad66-bbd0-4232-b410-354946d59f47\")) {                    Plotly.newPlot(                        \"c899ad66-bbd0-4232-b410-354946d59f47\",                        [{\"marker\":{\"color\":\"red\"},\"name\":\"Most potassium required\",\"orientation\":\"h\",\"text\":[39.87,39.99,40.21,50.04,50.05,50.08,50.22,79.92,199.89,200.11],\"x\":[39.87,39.99,40.21,50.04,50.05,50.08,50.22,79.92,199.89,200.11],\"y\":[\"rice\",\"jute\",\"pomegranate\",\"papaya\",\"banana\",\"muskmelon\",\"watermelon\",\"chickpea\",\"apple\",\"grapes\"],\"type\":\"bar\",\"xaxis\":\"x\",\"yaxis\":\"y\",\"textposition\":\"inside\",\"texttemplate\":\"%{text}\"},{\"marker\":{\"color\":\"green\"},\"name\":\"Least potassium required\",\"orientation\":\"h\",\"text\":[29.92,20.29,20.23,20.05,19.87,19.79,19.56,19.41,19.24,10.01],\"x\":[29.92,20.29,20.23,20.05,19.87,19.79,19.56,19.41,19.24,10.01],\"y\":[\"mango\",\"pigeonpeas\",\"mothbeans\",\"kidneybeans\",\"mungbean\",\"maize\",\"cotton\",\"lentil\",\"blackgram\",\"orange\"],\"type\":\"bar\",\"xaxis\":\"x2\",\"yaxis\":\"y2\",\"textposition\":\"inside\",\"texttemplate\":\"%{text}\"}],                        {\"template\":{\"data\":{\"histogram2dcontour\":[{\"type\":\"histogram2dcontour\",\"colorbar\":{\"outlinewidth\":0,\"ticks\":\"\"},\"colorscale\":[[0.0,\"#0d0887\"],[0.1111111111111111,\"#46039f\"],[0.2222222222222222,\"#7201a8\"],[0.3333333333333333,\"#9c179e\"],[0.4444444444444444,\"#bd3786\"],[0.5555555555555556,\"#d8576b\"],[0.6666666666666666,\"#ed7953\"],[0.7777777777777778,\"#fb9f3a\"],[0.8888888888888888,\"#fdca26\"],[1.0,\"#f0f921\"]]}],\"choropleth\":[{\"type\":\"choropleth\",\"colorbar\":{\"outlinewidth\":0,\"ticks\":\"\"}}],\"histogram2d\":[{\"type\":\"histogram2d\",\"colorbar\":{\"outlinewidth\":0,\"ticks\":\"\"},\"colorscale\":[[0.0,\"#0d0887\"],[0.1111111111111111,\"#46039f\"],[0.2222222222222222,\"#7201a8\"],[0.3333333333333333,\"#9c179e\"],[0.4444444444444444,\"#bd3786\"],[0.5555555555555556,\"#d8576b\"],[0.6666666666666666,\"#ed7953\"],[0.7777777777777778,\"#fb9f3a\"],[0.8888888888888888,\"#fdca26\"],[1.0,\"#f0f921\"]]}],\"heatmap\":[{\"type\":\"heatmap\",\"colorbar\":{\"outlinewidth\":0,\"ticks\":\"\"},\"colorscale\":[[0.0,\"#0d0887\"],[0.1111111111111111,\"#46039f\"],[0.2222222222222222,\"#7201a8\"],[0.3333333333333333,\"#9c179e\"],[0.4444444444444444,\"#bd3786\"],[0.5555555555555556,\"#d8576b\"],[0.6666666666666666,\"#ed7953\"],[0.7777777777777778,\"#fb9f3a\"],[0.8888888888888888,\"#fdca26\"],[1.0,\"#f0f921\"]]}],\"heatmapgl\":[{\"type\":\"heatmapgl\",\"colorbar\":{\"outlinewidth\":0,\"ticks\":\"\"},\"colorscale\":[[0.0,\"#0d0887\"],[0.1111111111111111,\"#46039f\"],[0.2222222222222222,\"#7201a8\"],[0.3333333333333333,\"#9c179e\"],[0.4444444444444444,\"#bd3786\"],[0.5555555555555556,\"#d8576b\"],[0.6666666666666666,\"#ed7953\"],[0.7777777777777778,\"#fb9f3a\"],[0.8888888888888888,\"#fdca26\"],[1.0,\"#f0f921\"]]}],\"contourcarpet\":[{\"type\":\"contourcarpet\",\"colorbar\":{\"outlinewidth\":0,\"ticks\":\"\"}}],\"contour\":[{\"type\":\"contour\",\"colorbar\":{\"outlinewidth\":0,\"ticks\":\"\"},\"colorscale\":[[0.0,\"#0d0887\"],[0.1111111111111111,\"#46039f\"],[0.2222222222222222,\"#7201a8\"],[0.3333333333333333,\"#9c179e\"],[0.4444444444444444,\"#bd3786\"],[0.5555555555555556,\"#d8576b\"],[0.6666666666666666,\"#ed7953\"],[0.7777777777777778,\"#fb9f3a\"],[0.8888888888888888,\"#fdca26\"],[1.0,\"#f0f921\"]]}],\"surface\":[{\"type\":\"surface\",\"colorbar\":{\"outlinewidth\":0,\"ticks\":\"\"},\"colorscale\":[[0.0,\"#0d0887\"],[0.1111111111111111,\"#46039f\"],[0.2222222222222222,\"#7201a8\"],[0.3333333333333333,\"#9c179e\"],[0.4444444444444444,\"#bd3786\"],[0.5555555555555556,\"#d8576b\"],[0.6666666666666666,\"#ed7953\"],[0.7777777777777778,\"#fb9f3a\"],[0.8888888888888888,\"#fdca26\"],[1.0,\"#f0f921\"]]}],\"mesh3d\":[{\"type\":\"mesh3d\",\"colorbar\":{\"outlinewidth\":0,\"ticks\":\"\"}}],\"scatter\":[{\"fillpattern\":{\"fillmode\":\"overlay\",\"size\":10,\"solidity\":0.2},\"type\":\"scatter\"}],\"parcoords\":[{\"type\":\"parcoords\",\"line\":{\"colorbar\":{\"outlinewidth\":0,\"ticks\":\"\"}}}],\"scatterpolargl\":[{\"type\":\"scatterpolargl\",\"marker\":{\"colorbar\":{\"outlinewidth\":0,\"ticks\":\"\"}}}],\"bar\":[{\"error_x\":{\"color\":\"#2a3f5f\"},\"error_y\":{\"color\":\"#2a3f5f\"},\"marker\":{\"line\":{\"color\":\"#E5ECF6\",\"width\":0.5},\"pattern\":{\"fillmode\":\"overlay\",\"size\":10,\"solidity\":0.2}},\"type\":\"bar\"}],\"scattergeo\":[{\"type\":\"scattergeo\",\"marker\":{\"colorbar\":{\"outlinewidth\":0,\"ticks\":\"\"}}}],\"scatterpolar\":[{\"type\":\"scatterpolar\",\"marker\":{\"colorbar\":{\"outlinewidth\":0,\"ticks\":\"\"}}}],\"histogram\":[{\"marker\":{\"pattern\":{\"fillmode\":\"overlay\",\"size\":10,\"solidity\":0.2}},\"type\":\"histogram\"}],\"scattergl\":[{\"type\":\"scattergl\",\"marker\":{\"colorbar\":{\"outlinewidth\":0,\"ticks\":\"\"}}}],\"scatter3d\":[{\"type\":\"scatter3d\",\"line\":{\"colorbar\":{\"outlinewidth\":0,\"ticks\":\"\"}},\"marker\":{\"colorbar\":{\"outlinewidth\":0,\"ticks\":\"\"}}}],\"scattermapbox\":[{\"type\":\"scattermapbox\",\"marker\":{\"colorbar\":{\"outlinewidth\":0,\"ticks\":\"\"}}}],\"scatterternary\":[{\"type\":\"scatterternary\",\"marker\":{\"colorbar\":{\"outlinewidth\":0,\"ticks\":\"\"}}}],\"scattercarpet\":[{\"type\":\"scattercarpet\",\"marker\":{\"colorbar\":{\"outlinewidth\":0,\"ticks\":\"\"}}}],\"carpet\":[{\"aaxis\":{\"endlinecolor\":\"#2a3f5f\",\"gridcolor\":\"white\",\"linecolor\":\"white\",\"minorgridcolor\":\"white\",\"startlinecolor\":\"#2a3f5f\"},\"baxis\":{\"endlinecolor\":\"#2a3f5f\",\"gridcolor\":\"white\",\"linecolor\":\"white\",\"minorgridcolor\":\"white\",\"startlinecolor\":\"#2a3f5f\"},\"type\":\"carpet\"}],\"table\":[{\"cells\":{\"fill\":{\"color\":\"#EBF0F8\"},\"line\":{\"color\":\"white\"}},\"header\":{\"fill\":{\"color\":\"#C8D4E3\"},\"line\":{\"color\":\"white\"}},\"type\":\"table\"}],\"barpolar\":[{\"marker\":{\"line\":{\"color\":\"#E5ECF6\",\"width\":0.5},\"pattern\":{\"fillmode\":\"overlay\",\"size\":10,\"solidity\":0.2}},\"type\":\"barpolar\"}],\"pie\":[{\"automargin\":true,\"type\":\"pie\"}]},\"layout\":{\"autotypenumbers\":\"strict\",\"colorway\":[\"#636efa\",\"#EF553B\",\"#00cc96\",\"#ab63fa\",\"#FFA15A\",\"#19d3f3\",\"#FF6692\",\"#B6E880\",\"#FF97FF\",\"#FECB52\"],\"font\":{\"color\":\"#2a3f5f\"},\"hovermode\":\"closest\",\"hoverlabel\":{\"align\":\"left\"},\"paper_bgcolor\":\"white\",\"plot_bgcolor\":\"#E5ECF6\",\"polar\":{\"bgcolor\":\"#E5ECF6\",\"angularaxis\":{\"gridcolor\":\"white\",\"linecolor\":\"white\",\"ticks\":\"\"},\"radialaxis\":{\"gridcolor\":\"white\",\"linecolor\":\"white\",\"ticks\":\"\"}},\"ternary\":{\"bgcolor\":\"#E5ECF6\",\"aaxis\":{\"gridcolor\":\"white\",\"linecolor\":\"white\",\"ticks\":\"\"},\"baxis\":{\"gridcolor\":\"white\",\"linecolor\":\"white\",\"ticks\":\"\"},\"caxis\":{\"gridcolor\":\"white\",\"linecolor\":\"white\",\"ticks\":\"\"}},\"coloraxis\":{\"colorbar\":{\"outlinewidth\":0,\"ticks\":\"\"}},\"colorscale\":{\"sequential\":[[0.0,\"#0d0887\"],[0.1111111111111111,\"#46039f\"],[0.2222222222222222,\"#7201a8\"],[0.3333333333333333,\"#9c179e\"],[0.4444444444444444,\"#bd3786\"],[0.5555555555555556,\"#d8576b\"],[0.6666666666666666,\"#ed7953\"],[0.7777777777777778,\"#fb9f3a\"],[0.8888888888888888,\"#fdca26\"],[1.0,\"#f0f921\"]],\"sequentialminus\":[[0.0,\"#0d0887\"],[0.1111111111111111,\"#46039f\"],[0.2222222222222222,\"#7201a8\"],[0.3333333333333333,\"#9c179e\"],[0.4444444444444444,\"#bd3786\"],[0.5555555555555556,\"#d8576b\"],[0.6666666666666666,\"#ed7953\"],[0.7777777777777778,\"#fb9f3a\"],[0.8888888888888888,\"#fdca26\"],[1.0,\"#f0f921\"]],\"diverging\":[[0,\"#8e0152\"],[0.1,\"#c51b7d\"],[0.2,\"#de77ae\"],[0.3,\"#f1b6da\"],[0.4,\"#fde0ef\"],[0.5,\"#f7f7f7\"],[0.6,\"#e6f5d0\"],[0.7,\"#b8e186\"],[0.8,\"#7fbc41\"],[0.9,\"#4d9221\"],[1,\"#276419\"]]},\"xaxis\":{\"gridcolor\":\"white\",\"linecolor\":\"white\",\"ticks\":\"\",\"title\":{\"standoff\":15},\"zerolinecolor\":\"white\",\"automargin\":true,\"zerolinewidth\":2},\"yaxis\":{\"gridcolor\":\"white\",\"linecolor\":\"white\",\"ticks\":\"\",\"title\":{\"standoff\":15},\"zerolinecolor\":\"white\",\"automargin\":true,\"zerolinewidth\":2},\"scene\":{\"xaxis\":{\"backgroundcolor\":\"#E5ECF6\",\"gridcolor\":\"white\",\"linecolor\":\"white\",\"showbackground\":true,\"ticks\":\"\",\"zerolinecolor\":\"white\",\"gridwidth\":2},\"yaxis\":{\"backgroundcolor\":\"#E5ECF6\",\"gridcolor\":\"white\",\"linecolor\":\"white\",\"showbackground\":true,\"ticks\":\"\",\"zerolinecolor\":\"white\",\"gridwidth\":2},\"zaxis\":{\"backgroundcolor\":\"#E5ECF6\",\"gridcolor\":\"white\",\"linecolor\":\"white\",\"showbackground\":true,\"ticks\":\"\",\"zerolinecolor\":\"white\",\"gridwidth\":2}},\"shapedefaults\":{\"line\":{\"color\":\"#2a3f5f\"}},\"annotationdefaults\":{\"arrowcolor\":\"#2a3f5f\",\"arrowhead\":0,\"arrowwidth\":1},\"geo\":{\"bgcolor\":\"white\",\"landcolor\":\"#E5ECF6\",\"subunitcolor\":\"white\",\"showland\":true,\"showlakes\":true,\"lakecolor\":\"white\"},\"title\":{\"x\":0.05},\"mapbox\":{\"style\":\"light\"}}},\"xaxis\":{\"anchor\":\"y\",\"domain\":[0.0,0.45],\"showgrid\":false},\"yaxis\":{\"anchor\":\"x\",\"domain\":[0.0,1.0],\"showgrid\":false},\"xaxis2\":{\"anchor\":\"y2\",\"domain\":[0.55,1.0],\"showgrid\":false},\"yaxis2\":{\"anchor\":\"x2\",\"domain\":[0.0,1.0],\"showgrid\":false},\"title\":{\"text\":\"Potassium (K)\"},\"font\":{\"size\":12,\"color\":\"black\"},\"plot_bgcolor\":\"white\",\"height\":500},                        {\"responsive\": true}                    ).then(function(){\n",
       "                            \n",
       "var gd = document.getElementById('c899ad66-bbd0-4232-b410-354946d59f47');\n",
       "var x = new MutationObserver(function (mutations, observer) {{\n",
       "        var display = window.getComputedStyle(gd).display;\n",
       "        if (!display || display === 'none') {{\n",
       "            console.log([gd, 'removed!']);\n",
       "            Plotly.purge(gd);\n",
       "            observer.disconnect();\n",
       "        }}\n",
       "}});\n",
       "\n",
       "// Listen for the removal of the full notebook cells\n",
       "var notebookContainer = gd.closest('#notebook-container');\n",
       "if (notebookContainer) {{\n",
       "    x.observe(notebookContainer, {childList: true});\n",
       "}}\n",
       "\n",
       "// Listen for the clearing of the current output cell\n",
       "var outputEl = gd.closest('.output');\n",
       "if (outputEl) {{\n",
       "    x.observe(outputEl, {childList: true});\n",
       "}}\n",
       "\n",
       "                        })                };                });            </script>        </div>"
      ]
     },
     "metadata": {},
     "output_type": "display_data"
    }
   ],
   "source": [
    "crop_summary_K = crop_summary.sort_values(by='K', ascending=False)\n",
    "  \n",
    "fig = make_subplots(rows=1, cols=2)\n",
    "\n",
    "top = {\n",
    "    'y' : crop_summary_K['K'][0:10].sort_values().index,\n",
    "    'x' : crop_summary_K['K'][0:10].sort_values()\n",
    "}\n",
    "\n",
    "last = {\n",
    "    'y' : crop_summary_K['K'][-10:].index,\n",
    "    'x' : crop_summary_K['K'][-10:]\n",
    "}\n",
    "\n",
    "fig.add_trace(\n",
    "    go.Bar(top,\n",
    "           name=\"Most potassium required\",\n",
    "           marker_color='red',\n",
    "           orientation='h',\n",
    "          text=top['x']),\n",
    "    \n",
    "    row=1, col=1\n",
    ")\n",
    "\n",
    "fig.add_trace(\n",
    "    go.Bar(last,\n",
    "           name=\"Least potassium required\",\n",
    "           marker_color='green',\n",
    "           orientation='h',\n",
    "          text=last['x']),\n",
    "    row=1, col=2\n",
    ")\n",
    "fig.update_traces(texttemplate='%{text}', textposition='inside')\n",
    "fig.update_layout(title_text=\"Potassium (K)\",\n",
    "                  plot_bgcolor='white',\n",
    "                  font_size=12, \n",
    "                  font_color='black',\n",
    "                 height=500)\n",
    "\n",
    "fig.update_xaxes(showgrid=False)\n",
    "fig.update_yaxes(showgrid=False)\n",
    "fig.show()\n"
   ]
  },
  {
   "cell_type": "markdown",
   "id": "9100ad8c",
   "metadata": {
    "papermill": {
     "duration": 0.010415,
     "end_time": "2023-04-18T05:18:38.618752",
     "exception": false,
     "start_time": "2023-04-18T05:18:38.608337",
     "status": "completed"
    },
    "tags": []
   },
   "source": [
    "<h3 style='color:Red'>NPK ratio for rice, cotton, jute, maize, lentil </h3>"
   ]
  },
  {
   "cell_type": "code",
   "execution_count": 12,
   "id": "b0d55fc6",
   "metadata": {
    "execution": {
     "iopub.execute_input": "2023-04-18T05:18:38.642501Z",
     "iopub.status.busy": "2023-04-18T05:18:38.641812Z",
     "iopub.status.idle": "2023-04-18T05:18:38.733256Z",
     "shell.execute_reply": "2023-04-18T05:18:38.731853Z"
    },
    "papermill": {
     "duration": 0.106303,
     "end_time": "2023-04-18T05:18:38.735831",
     "exception": false,
     "start_time": "2023-04-18T05:18:38.629528",
     "status": "completed"
    },
    "tags": []
   },
   "outputs": [
    {
     "data": {
      "text/html": [
       "<div>                            <div id=\"5f59a604-0fe9-4fcb-8ad1-5d448e19d5ff\" class=\"plotly-graph-div\" style=\"height:525px; width:100%;\"></div>            <script type=\"text/javascript\">                require([\"plotly\"], function(Plotly) {                    window.PLOTLYENV=window.PLOTLYENV || {};                                    if (document.getElementById(\"5f59a604-0fe9-4fcb-8ad1-5d448e19d5ff\")) {                    Plotly.newPlot(                        \"5f59a604-0fe9-4fcb-8ad1-5d448e19d5ff\",                        [{\"labels\":[\"Nitrogen(N)\",\"Phosphorous(P)\",\"Potash(K)\"],\"name\":\"Rice\",\"values\":[79.89,47.58,39.87],\"type\":\"pie\",\"domain\":{\"x\":[0.0,0.16799999999999998],\"y\":[0.0,1.0]},\"hole\":0.4,\"hoverinfo\":\"label+percent+name\"},{\"labels\":[\"Nitrogen(N)\",\"Phosphorous(P)\",\"Potash(K)\"],\"name\":\"Cotton\",\"values\":[117.77,46.24,19.56],\"type\":\"pie\",\"domain\":{\"x\":[0.208,0.376],\"y\":[0.0,1.0]},\"hole\":0.4,\"hoverinfo\":\"label+percent+name\"},{\"labels\":[\"Nitrogen(N)\",\"Phosphorous(P)\",\"Potash(K)\"],\"name\":\"Jute\",\"values\":[78.4,46.86,39.99],\"type\":\"pie\",\"domain\":{\"x\":[0.416,0.584],\"y\":[0.0,1.0]},\"hole\":0.4,\"hoverinfo\":\"label+percent+name\"},{\"labels\":[\"Nitrogen(N)\",\"Phosphorous(P)\",\"Potash(K)\"],\"name\":\"Maize\",\"values\":[77.76,48.44,19.79],\"type\":\"pie\",\"domain\":{\"x\":[0.624,0.792],\"y\":[0.0,1.0]},\"hole\":0.4,\"hoverinfo\":\"label+percent+name\"},{\"labels\":[\"Nitrogen(N)\",\"Phosphorous(P)\",\"Potash(K)\"],\"name\":\"Lentil\",\"values\":[18.77,68.36,19.41],\"type\":\"pie\",\"domain\":{\"x\":[0.832,1.0],\"y\":[0.0,1.0]},\"hole\":0.4,\"hoverinfo\":\"label+percent+name\"}],                        {\"template\":{\"data\":{\"histogram2dcontour\":[{\"type\":\"histogram2dcontour\",\"colorbar\":{\"outlinewidth\":0,\"ticks\":\"\"},\"colorscale\":[[0.0,\"#0d0887\"],[0.1111111111111111,\"#46039f\"],[0.2222222222222222,\"#7201a8\"],[0.3333333333333333,\"#9c179e\"],[0.4444444444444444,\"#bd3786\"],[0.5555555555555556,\"#d8576b\"],[0.6666666666666666,\"#ed7953\"],[0.7777777777777778,\"#fb9f3a\"],[0.8888888888888888,\"#fdca26\"],[1.0,\"#f0f921\"]]}],\"choropleth\":[{\"type\":\"choropleth\",\"colorbar\":{\"outlinewidth\":0,\"ticks\":\"\"}}],\"histogram2d\":[{\"type\":\"histogram2d\",\"colorbar\":{\"outlinewidth\":0,\"ticks\":\"\"},\"colorscale\":[[0.0,\"#0d0887\"],[0.1111111111111111,\"#46039f\"],[0.2222222222222222,\"#7201a8\"],[0.3333333333333333,\"#9c179e\"],[0.4444444444444444,\"#bd3786\"],[0.5555555555555556,\"#d8576b\"],[0.6666666666666666,\"#ed7953\"],[0.7777777777777778,\"#fb9f3a\"],[0.8888888888888888,\"#fdca26\"],[1.0,\"#f0f921\"]]}],\"heatmap\":[{\"type\":\"heatmap\",\"colorbar\":{\"outlinewidth\":0,\"ticks\":\"\"},\"colorscale\":[[0.0,\"#0d0887\"],[0.1111111111111111,\"#46039f\"],[0.2222222222222222,\"#7201a8\"],[0.3333333333333333,\"#9c179e\"],[0.4444444444444444,\"#bd3786\"],[0.5555555555555556,\"#d8576b\"],[0.6666666666666666,\"#ed7953\"],[0.7777777777777778,\"#fb9f3a\"],[0.8888888888888888,\"#fdca26\"],[1.0,\"#f0f921\"]]}],\"heatmapgl\":[{\"type\":\"heatmapgl\",\"colorbar\":{\"outlinewidth\":0,\"ticks\":\"\"},\"colorscale\":[[0.0,\"#0d0887\"],[0.1111111111111111,\"#46039f\"],[0.2222222222222222,\"#7201a8\"],[0.3333333333333333,\"#9c179e\"],[0.4444444444444444,\"#bd3786\"],[0.5555555555555556,\"#d8576b\"],[0.6666666666666666,\"#ed7953\"],[0.7777777777777778,\"#fb9f3a\"],[0.8888888888888888,\"#fdca26\"],[1.0,\"#f0f921\"]]}],\"contourcarpet\":[{\"type\":\"contourcarpet\",\"colorbar\":{\"outlinewidth\":0,\"ticks\":\"\"}}],\"contour\":[{\"type\":\"contour\",\"colorbar\":{\"outlinewidth\":0,\"ticks\":\"\"},\"colorscale\":[[0.0,\"#0d0887\"],[0.1111111111111111,\"#46039f\"],[0.2222222222222222,\"#7201a8\"],[0.3333333333333333,\"#9c179e\"],[0.4444444444444444,\"#bd3786\"],[0.5555555555555556,\"#d8576b\"],[0.6666666666666666,\"#ed7953\"],[0.7777777777777778,\"#fb9f3a\"],[0.8888888888888888,\"#fdca26\"],[1.0,\"#f0f921\"]]}],\"surface\":[{\"type\":\"surface\",\"colorbar\":{\"outlinewidth\":0,\"ticks\":\"\"},\"colorscale\":[[0.0,\"#0d0887\"],[0.1111111111111111,\"#46039f\"],[0.2222222222222222,\"#7201a8\"],[0.3333333333333333,\"#9c179e\"],[0.4444444444444444,\"#bd3786\"],[0.5555555555555556,\"#d8576b\"],[0.6666666666666666,\"#ed7953\"],[0.7777777777777778,\"#fb9f3a\"],[0.8888888888888888,\"#fdca26\"],[1.0,\"#f0f921\"]]}],\"mesh3d\":[{\"type\":\"mesh3d\",\"colorbar\":{\"outlinewidth\":0,\"ticks\":\"\"}}],\"scatter\":[{\"fillpattern\":{\"fillmode\":\"overlay\",\"size\":10,\"solidity\":0.2},\"type\":\"scatter\"}],\"parcoords\":[{\"type\":\"parcoords\",\"line\":{\"colorbar\":{\"outlinewidth\":0,\"ticks\":\"\"}}}],\"scatterpolargl\":[{\"type\":\"scatterpolargl\",\"marker\":{\"colorbar\":{\"outlinewidth\":0,\"ticks\":\"\"}}}],\"bar\":[{\"error_x\":{\"color\":\"#2a3f5f\"},\"error_y\":{\"color\":\"#2a3f5f\"},\"marker\":{\"line\":{\"color\":\"#E5ECF6\",\"width\":0.5},\"pattern\":{\"fillmode\":\"overlay\",\"size\":10,\"solidity\":0.2}},\"type\":\"bar\"}],\"scattergeo\":[{\"type\":\"scattergeo\",\"marker\":{\"colorbar\":{\"outlinewidth\":0,\"ticks\":\"\"}}}],\"scatterpolar\":[{\"type\":\"scatterpolar\",\"marker\":{\"colorbar\":{\"outlinewidth\":0,\"ticks\":\"\"}}}],\"histogram\":[{\"marker\":{\"pattern\":{\"fillmode\":\"overlay\",\"size\":10,\"solidity\":0.2}},\"type\":\"histogram\"}],\"scattergl\":[{\"type\":\"scattergl\",\"marker\":{\"colorbar\":{\"outlinewidth\":0,\"ticks\":\"\"}}}],\"scatter3d\":[{\"type\":\"scatter3d\",\"line\":{\"colorbar\":{\"outlinewidth\":0,\"ticks\":\"\"}},\"marker\":{\"colorbar\":{\"outlinewidth\":0,\"ticks\":\"\"}}}],\"scattermapbox\":[{\"type\":\"scattermapbox\",\"marker\":{\"colorbar\":{\"outlinewidth\":0,\"ticks\":\"\"}}}],\"scatterternary\":[{\"type\":\"scatterternary\",\"marker\":{\"colorbar\":{\"outlinewidth\":0,\"ticks\":\"\"}}}],\"scattercarpet\":[{\"type\":\"scattercarpet\",\"marker\":{\"colorbar\":{\"outlinewidth\":0,\"ticks\":\"\"}}}],\"carpet\":[{\"aaxis\":{\"endlinecolor\":\"#2a3f5f\",\"gridcolor\":\"white\",\"linecolor\":\"white\",\"minorgridcolor\":\"white\",\"startlinecolor\":\"#2a3f5f\"},\"baxis\":{\"endlinecolor\":\"#2a3f5f\",\"gridcolor\":\"white\",\"linecolor\":\"white\",\"minorgridcolor\":\"white\",\"startlinecolor\":\"#2a3f5f\"},\"type\":\"carpet\"}],\"table\":[{\"cells\":{\"fill\":{\"color\":\"#EBF0F8\"},\"line\":{\"color\":\"white\"}},\"header\":{\"fill\":{\"color\":\"#C8D4E3\"},\"line\":{\"color\":\"white\"}},\"type\":\"table\"}],\"barpolar\":[{\"marker\":{\"line\":{\"color\":\"#E5ECF6\",\"width\":0.5},\"pattern\":{\"fillmode\":\"overlay\",\"size\":10,\"solidity\":0.2}},\"type\":\"barpolar\"}],\"pie\":[{\"automargin\":true,\"type\":\"pie\"}]},\"layout\":{\"autotypenumbers\":\"strict\",\"colorway\":[\"#636efa\",\"#EF553B\",\"#00cc96\",\"#ab63fa\",\"#FFA15A\",\"#19d3f3\",\"#FF6692\",\"#B6E880\",\"#FF97FF\",\"#FECB52\"],\"font\":{\"color\":\"#2a3f5f\"},\"hovermode\":\"closest\",\"hoverlabel\":{\"align\":\"left\"},\"paper_bgcolor\":\"white\",\"plot_bgcolor\":\"#E5ECF6\",\"polar\":{\"bgcolor\":\"#E5ECF6\",\"angularaxis\":{\"gridcolor\":\"white\",\"linecolor\":\"white\",\"ticks\":\"\"},\"radialaxis\":{\"gridcolor\":\"white\",\"linecolor\":\"white\",\"ticks\":\"\"}},\"ternary\":{\"bgcolor\":\"#E5ECF6\",\"aaxis\":{\"gridcolor\":\"white\",\"linecolor\":\"white\",\"ticks\":\"\"},\"baxis\":{\"gridcolor\":\"white\",\"linecolor\":\"white\",\"ticks\":\"\"},\"caxis\":{\"gridcolor\":\"white\",\"linecolor\":\"white\",\"ticks\":\"\"}},\"coloraxis\":{\"colorbar\":{\"outlinewidth\":0,\"ticks\":\"\"}},\"colorscale\":{\"sequential\":[[0.0,\"#0d0887\"],[0.1111111111111111,\"#46039f\"],[0.2222222222222222,\"#7201a8\"],[0.3333333333333333,\"#9c179e\"],[0.4444444444444444,\"#bd3786\"],[0.5555555555555556,\"#d8576b\"],[0.6666666666666666,\"#ed7953\"],[0.7777777777777778,\"#fb9f3a\"],[0.8888888888888888,\"#fdca26\"],[1.0,\"#f0f921\"]],\"sequentialminus\":[[0.0,\"#0d0887\"],[0.1111111111111111,\"#46039f\"],[0.2222222222222222,\"#7201a8\"],[0.3333333333333333,\"#9c179e\"],[0.4444444444444444,\"#bd3786\"],[0.5555555555555556,\"#d8576b\"],[0.6666666666666666,\"#ed7953\"],[0.7777777777777778,\"#fb9f3a\"],[0.8888888888888888,\"#fdca26\"],[1.0,\"#f0f921\"]],\"diverging\":[[0,\"#8e0152\"],[0.1,\"#c51b7d\"],[0.2,\"#de77ae\"],[0.3,\"#f1b6da\"],[0.4,\"#fde0ef\"],[0.5,\"#f7f7f7\"],[0.6,\"#e6f5d0\"],[0.7,\"#b8e186\"],[0.8,\"#7fbc41\"],[0.9,\"#4d9221\"],[1,\"#276419\"]]},\"xaxis\":{\"gridcolor\":\"white\",\"linecolor\":\"white\",\"ticks\":\"\",\"title\":{\"standoff\":15},\"zerolinecolor\":\"white\",\"automargin\":true,\"zerolinewidth\":2},\"yaxis\":{\"gridcolor\":\"white\",\"linecolor\":\"white\",\"ticks\":\"\",\"title\":{\"standoff\":15},\"zerolinecolor\":\"white\",\"automargin\":true,\"zerolinewidth\":2},\"scene\":{\"xaxis\":{\"backgroundcolor\":\"#E5ECF6\",\"gridcolor\":\"white\",\"linecolor\":\"white\",\"showbackground\":true,\"ticks\":\"\",\"zerolinecolor\":\"white\",\"gridwidth\":2},\"yaxis\":{\"backgroundcolor\":\"#E5ECF6\",\"gridcolor\":\"white\",\"linecolor\":\"white\",\"showbackground\":true,\"ticks\":\"\",\"zerolinecolor\":\"white\",\"gridwidth\":2},\"zaxis\":{\"backgroundcolor\":\"#E5ECF6\",\"gridcolor\":\"white\",\"linecolor\":\"white\",\"showbackground\":true,\"ticks\":\"\",\"zerolinecolor\":\"white\",\"gridwidth\":2}},\"shapedefaults\":{\"line\":{\"color\":\"#2a3f5f\"}},\"annotationdefaults\":{\"arrowcolor\":\"#2a3f5f\",\"arrowhead\":0,\"arrowwidth\":1},\"geo\":{\"bgcolor\":\"white\",\"landcolor\":\"#E5ECF6\",\"subunitcolor\":\"white\",\"showland\":true,\"showlakes\":true,\"lakecolor\":\"white\"},\"title\":{\"x\":0.05},\"mapbox\":{\"style\":\"light\"}}},\"title\":{\"text\":\"NPK ratio for rice, cotton, jute, maize, lentil\"},\"annotations\":[{\"showarrow\":false,\"text\":\"Rice\",\"x\":0.06,\"y\":0.8,\"font\":{\"size\":15}},{\"showarrow\":false,\"text\":\"Cotton\",\"x\":0.26,\"y\":0.8,\"font\":{\"size\":15}},{\"showarrow\":false,\"text\":\"Jute\",\"x\":0.5,\"y\":0.8,\"font\":{\"size\":15}},{\"showarrow\":false,\"text\":\"Maize\",\"x\":0.74,\"y\":0.8,\"font\":{\"size\":15}},{\"showarrow\":false,\"text\":\"Lentil\",\"x\":0.94,\"y\":0.8,\"font\":{\"size\":15}}]},                        {\"responsive\": true}                    ).then(function(){\n",
       "                            \n",
       "var gd = document.getElementById('5f59a604-0fe9-4fcb-8ad1-5d448e19d5ff');\n",
       "var x = new MutationObserver(function (mutations, observer) {{\n",
       "        var display = window.getComputedStyle(gd).display;\n",
       "        if (!display || display === 'none') {{\n",
       "            console.log([gd, 'removed!']);\n",
       "            Plotly.purge(gd);\n",
       "            observer.disconnect();\n",
       "        }}\n",
       "}});\n",
       "\n",
       "// Listen for the removal of the full notebook cells\n",
       "var notebookContainer = gd.closest('#notebook-container');\n",
       "if (notebookContainer) {{\n",
       "    x.observe(notebookContainer, {childList: true});\n",
       "}}\n",
       "\n",
       "// Listen for the clearing of the current output cell\n",
       "var outputEl = gd.closest('.output');\n",
       "if (outputEl) {{\n",
       "    x.observe(outputEl, {childList: true});\n",
       "}}\n",
       "\n",
       "                        })                };                });            </script>        </div>"
      ]
     },
     "metadata": {},
     "output_type": "display_data"
    }
   ],
   "source": [
    "labels = ['Nitrogen(N)','Phosphorous(P)','Potash(K)']\n",
    "fig = make_subplots(rows=1, cols=5, specs=[[{'type':'domain'}, {'type':'domain'},\n",
    "                                            {'type':'domain'}, {'type':'domain'}, \n",
    "                                            {'type':'domain'}]])\n",
    "\n",
    "rice_npk = crop_summary[crop_summary.index=='rice']\n",
    "values = [rice_npk['N'][0], rice_npk['P'][0], rice_npk['K'][0]]\n",
    "fig.add_trace(go.Pie(labels=labels, values=values,name=\"Rice\"),1, 1)\n",
    "\n",
    "cotton_npk = crop_summary[crop_summary.index=='cotton']\n",
    "values = [cotton_npk['N'][0], cotton_npk['P'][0], cotton_npk['K'][0]]\n",
    "fig.add_trace(go.Pie(labels=labels, values=values,name=\"Cotton\"),1, 2)\n",
    "\n",
    "jute_npk = crop_summary[crop_summary.index=='jute']\n",
    "values = [jute_npk['N'][0], jute_npk['P'][0], jute_npk['K'][0]]\n",
    "fig.add_trace(go.Pie(labels=labels, values=values,name=\"Jute\"),1, 3)\n",
    "\n",
    "maize_npk = crop_summary[crop_summary.index=='maize']\n",
    "values = [maize_npk['N'][0], maize_npk['P'][0], maize_npk['K'][0]]\n",
    "fig.add_trace(go.Pie(labels=labels, values=values,name=\"Maize\"),1, 4)\n",
    "\n",
    "lentil_npk = crop_summary[crop_summary.index=='lentil']\n",
    "values = [lentil_npk['N'][0], lentil_npk['P'][0], lentil_npk['K'][0]]\n",
    "fig.add_trace(go.Pie(labels=labels, values=values,name=\"Lentil\"),1, 5)\n",
    "\n",
    "\n",
    "fig.update_traces(hole=.4, hoverinfo=\"label+percent+name\")\n",
    "fig.update_layout(\n",
    "    title_text=\"NPK ratio for rice, cotton, jute, maize, lentil\",\n",
    "    annotations=[dict(text='Rice',x=0.06,y=0.8, font_size=15, showarrow=False),\n",
    "                 dict(text='Cotton',x=0.26,y=0.8, font_size=15, showarrow=False),\n",
    "                 dict(text='Jute',x=0.50,y=0.8, font_size=15, showarrow=False),\n",
    "                 dict(text='Maize',x=0.74,y=0.8, font_size=15, showarrow=False),\n",
    "                dict(text='Lentil',x=0.94,y=0.8, font_size=15, showarrow=False)])\n",
    "fig.show()\n"
   ]
  },
  {
   "cell_type": "markdown",
   "id": "98962d43",
   "metadata": {
    "papermill": {
     "duration": 0.010726,
     "end_time": "2023-04-18T05:18:38.757775",
     "exception": false,
     "start_time": "2023-04-18T05:18:38.747049",
     "status": "completed"
    },
    "tags": []
   },
   "source": [
    "<h3 style='color:Red'>NPK ratio for fruits</h3>"
   ]
  },
  {
   "cell_type": "code",
   "execution_count": 13,
   "id": "377e8a1a",
   "metadata": {
    "execution": {
     "iopub.execute_input": "2023-04-18T05:18:38.782295Z",
     "iopub.status.busy": "2023-04-18T05:18:38.781552Z",
     "iopub.status.idle": "2023-04-18T05:18:38.854584Z",
     "shell.execute_reply": "2023-04-18T05:18:38.853245Z"
    },
    "papermill": {
     "duration": 0.088597,
     "end_time": "2023-04-18T05:18:38.857374",
     "exception": false,
     "start_time": "2023-04-18T05:18:38.768777",
     "status": "completed"
    },
    "tags": []
   },
   "outputs": [
    {
     "data": {
      "text/html": [
       "<div>                            <div id=\"89b1ce94-4a9c-4745-a009-e8abb7302160\" class=\"plotly-graph-div\" style=\"height:525px; width:100%;\"></div>            <script type=\"text/javascript\">                require([\"plotly\"], function(Plotly) {                    window.PLOTLYENV=window.PLOTLYENV || {};                                    if (document.getElementById(\"89b1ce94-4a9c-4745-a009-e8abb7302160\")) {                    Plotly.newPlot(                        \"89b1ce94-4a9c-4745-a009-e8abb7302160\",                        [{\"labels\":[\"Nitrogen(N)\",\"Phosphorous(P)\",\"Potash(K)\"],\"marker\":{\"colors\":[\"rgb(255, 128, 0)\",\"rgb(0, 153, 204)\",\"rgb(173, 173, 133)\"]},\"name\":\"Apple\",\"values\":[20.8,134.22,199.89],\"type\":\"pie\",\"domain\":{\"x\":[0.0,0.16799999999999998],\"y\":[0.575,1.0]}},{\"labels\":[\"Nitrogen(N)\",\"Phosphorous(P)\",\"Potash(K)\"],\"marker\":{\"colors\":[\"rgb(255, 128, 0)\",\"rgb(0, 153, 204)\",\"rgb(173, 173, 133)\"]},\"name\":\"Banana\",\"values\":[100.23,82.01,50.05],\"type\":\"pie\",\"domain\":{\"x\":[0.208,0.376],\"y\":[0.575,1.0]}},{\"labels\":[\"Nitrogen(N)\",\"Phosphorous(P)\",\"Potash(K)\"],\"marker\":{\"colors\":[\"rgb(255, 128, 0)\",\"rgb(0, 153, 204)\",\"rgb(173, 173, 133)\"]},\"name\":\"Grapes\",\"values\":[23.18,132.53,200.11],\"type\":\"pie\",\"domain\":{\"x\":[0.416,0.584],\"y\":[0.575,1.0]}},{\"labels\":[\"Nitrogen(N)\",\"Phosphorous(P)\",\"Potash(K)\"],\"marker\":{\"colors\":[\"rgb(255, 128, 0)\",\"rgb(0, 153, 204)\",\"rgb(173, 173, 133)\"]},\"name\":\"Orange\",\"values\":[19.58,16.55,10.01],\"type\":\"pie\",\"domain\":{\"x\":[0.624,0.792],\"y\":[0.575,1.0]}},{\"labels\":[\"Nitrogen(N)\",\"Phosphorous(P)\",\"Potash(K)\"],\"marker\":{\"colors\":[\"rgb(255, 128, 0)\",\"rgb(0, 153, 204)\",\"rgb(173, 173, 133)\"]},\"name\":\"Mango\",\"values\":[20.07,27.18,29.92],\"type\":\"pie\",\"domain\":{\"x\":[0.832,1.0],\"y\":[0.575,1.0]}},{\"labels\":[\"Nitrogen(N)\",\"Phosphorous(P)\",\"Potash(K)\"],\"marker\":{\"colors\":[\"rgb(255, 128, 0)\",\"rgb(0, 153, 204)\",\"rgb(173, 173, 133)\"]},\"name\":\"Coconut\",\"values\":[21.98,16.93,30.59],\"type\":\"pie\",\"domain\":{\"x\":[0.0,0.16799999999999998],\"y\":[0.0,0.425]}},{\"labels\":[\"Nitrogen(N)\",\"Phosphorous(P)\",\"Potash(K)\"],\"marker\":{\"colors\":[\"rgb(255, 128, 0)\",\"rgb(0, 153, 204)\",\"rgb(173, 173, 133)\"]},\"name\":\"Papaya\",\"values\":[49.88,59.05,50.04],\"type\":\"pie\",\"domain\":{\"x\":[0.208,0.376],\"y\":[0.0,0.425]}},{\"labels\":[\"Nitrogen(N)\",\"Phosphorous(P)\",\"Potash(K)\"],\"marker\":{\"colors\":[\"rgb(255, 128, 0)\",\"rgb(0, 153, 204)\",\"rgb(173, 173, 133)\"]},\"name\":\"Pomegranate\",\"values\":[18.87,18.75,40.21],\"type\":\"pie\",\"domain\":{\"x\":[0.416,0.584],\"y\":[0.0,0.425]}},{\"labels\":[\"Nitrogen(N)\",\"Phosphorous(P)\",\"Potash(K)\"],\"marker\":{\"colors\":[\"rgb(255, 128, 0)\",\"rgb(0, 153, 204)\",\"rgb(173, 173, 133)\"]},\"name\":\"Watermelon\",\"values\":[99.42,17.0,50.22],\"type\":\"pie\",\"domain\":{\"x\":[0.624,0.792],\"y\":[0.0,0.425]}},{\"labels\":[\"Nitrogen(N)\",\"Phosphorous(P)\",\"Potash(K)\"],\"marker\":{\"colors\":[\"rgb(255, 128, 0)\",\"rgb(0, 153, 204)\",\"rgb(173, 173, 133)\"]},\"name\":\"Muskmelon\",\"values\":[100.32,17.72,50.08],\"type\":\"pie\",\"domain\":{\"x\":[0.832,1.0],\"y\":[0.0,0.425]}}],                        {\"template\":{\"data\":{\"histogram2dcontour\":[{\"type\":\"histogram2dcontour\",\"colorbar\":{\"outlinewidth\":0,\"ticks\":\"\"},\"colorscale\":[[0.0,\"#0d0887\"],[0.1111111111111111,\"#46039f\"],[0.2222222222222222,\"#7201a8\"],[0.3333333333333333,\"#9c179e\"],[0.4444444444444444,\"#bd3786\"],[0.5555555555555556,\"#d8576b\"],[0.6666666666666666,\"#ed7953\"],[0.7777777777777778,\"#fb9f3a\"],[0.8888888888888888,\"#fdca26\"],[1.0,\"#f0f921\"]]}],\"choropleth\":[{\"type\":\"choropleth\",\"colorbar\":{\"outlinewidth\":0,\"ticks\":\"\"}}],\"histogram2d\":[{\"type\":\"histogram2d\",\"colorbar\":{\"outlinewidth\":0,\"ticks\":\"\"},\"colorscale\":[[0.0,\"#0d0887\"],[0.1111111111111111,\"#46039f\"],[0.2222222222222222,\"#7201a8\"],[0.3333333333333333,\"#9c179e\"],[0.4444444444444444,\"#bd3786\"],[0.5555555555555556,\"#d8576b\"],[0.6666666666666666,\"#ed7953\"],[0.7777777777777778,\"#fb9f3a\"],[0.8888888888888888,\"#fdca26\"],[1.0,\"#f0f921\"]]}],\"heatmap\":[{\"type\":\"heatmap\",\"colorbar\":{\"outlinewidth\":0,\"ticks\":\"\"},\"colorscale\":[[0.0,\"#0d0887\"],[0.1111111111111111,\"#46039f\"],[0.2222222222222222,\"#7201a8\"],[0.3333333333333333,\"#9c179e\"],[0.4444444444444444,\"#bd3786\"],[0.5555555555555556,\"#d8576b\"],[0.6666666666666666,\"#ed7953\"],[0.7777777777777778,\"#fb9f3a\"],[0.8888888888888888,\"#fdca26\"],[1.0,\"#f0f921\"]]}],\"heatmapgl\":[{\"type\":\"heatmapgl\",\"colorbar\":{\"outlinewidth\":0,\"ticks\":\"\"},\"colorscale\":[[0.0,\"#0d0887\"],[0.1111111111111111,\"#46039f\"],[0.2222222222222222,\"#7201a8\"],[0.3333333333333333,\"#9c179e\"],[0.4444444444444444,\"#bd3786\"],[0.5555555555555556,\"#d8576b\"],[0.6666666666666666,\"#ed7953\"],[0.7777777777777778,\"#fb9f3a\"],[0.8888888888888888,\"#fdca26\"],[1.0,\"#f0f921\"]]}],\"contourcarpet\":[{\"type\":\"contourcarpet\",\"colorbar\":{\"outlinewidth\":0,\"ticks\":\"\"}}],\"contour\":[{\"type\":\"contour\",\"colorbar\":{\"outlinewidth\":0,\"ticks\":\"\"},\"colorscale\":[[0.0,\"#0d0887\"],[0.1111111111111111,\"#46039f\"],[0.2222222222222222,\"#7201a8\"],[0.3333333333333333,\"#9c179e\"],[0.4444444444444444,\"#bd3786\"],[0.5555555555555556,\"#d8576b\"],[0.6666666666666666,\"#ed7953\"],[0.7777777777777778,\"#fb9f3a\"],[0.8888888888888888,\"#fdca26\"],[1.0,\"#f0f921\"]]}],\"surface\":[{\"type\":\"surface\",\"colorbar\":{\"outlinewidth\":0,\"ticks\":\"\"},\"colorscale\":[[0.0,\"#0d0887\"],[0.1111111111111111,\"#46039f\"],[0.2222222222222222,\"#7201a8\"],[0.3333333333333333,\"#9c179e\"],[0.4444444444444444,\"#bd3786\"],[0.5555555555555556,\"#d8576b\"],[0.6666666666666666,\"#ed7953\"],[0.7777777777777778,\"#fb9f3a\"],[0.8888888888888888,\"#fdca26\"],[1.0,\"#f0f921\"]]}],\"mesh3d\":[{\"type\":\"mesh3d\",\"colorbar\":{\"outlinewidth\":0,\"ticks\":\"\"}}],\"scatter\":[{\"fillpattern\":{\"fillmode\":\"overlay\",\"size\":10,\"solidity\":0.2},\"type\":\"scatter\"}],\"parcoords\":[{\"type\":\"parcoords\",\"line\":{\"colorbar\":{\"outlinewidth\":0,\"ticks\":\"\"}}}],\"scatterpolargl\":[{\"type\":\"scatterpolargl\",\"marker\":{\"colorbar\":{\"outlinewidth\":0,\"ticks\":\"\"}}}],\"bar\":[{\"error_x\":{\"color\":\"#2a3f5f\"},\"error_y\":{\"color\":\"#2a3f5f\"},\"marker\":{\"line\":{\"color\":\"#E5ECF6\",\"width\":0.5},\"pattern\":{\"fillmode\":\"overlay\",\"size\":10,\"solidity\":0.2}},\"type\":\"bar\"}],\"scattergeo\":[{\"type\":\"scattergeo\",\"marker\":{\"colorbar\":{\"outlinewidth\":0,\"ticks\":\"\"}}}],\"scatterpolar\":[{\"type\":\"scatterpolar\",\"marker\":{\"colorbar\":{\"outlinewidth\":0,\"ticks\":\"\"}}}],\"histogram\":[{\"marker\":{\"pattern\":{\"fillmode\":\"overlay\",\"size\":10,\"solidity\":0.2}},\"type\":\"histogram\"}],\"scattergl\":[{\"type\":\"scattergl\",\"marker\":{\"colorbar\":{\"outlinewidth\":0,\"ticks\":\"\"}}}],\"scatter3d\":[{\"type\":\"scatter3d\",\"line\":{\"colorbar\":{\"outlinewidth\":0,\"ticks\":\"\"}},\"marker\":{\"colorbar\":{\"outlinewidth\":0,\"ticks\":\"\"}}}],\"scattermapbox\":[{\"type\":\"scattermapbox\",\"marker\":{\"colorbar\":{\"outlinewidth\":0,\"ticks\":\"\"}}}],\"scatterternary\":[{\"type\":\"scatterternary\",\"marker\":{\"colorbar\":{\"outlinewidth\":0,\"ticks\":\"\"}}}],\"scattercarpet\":[{\"type\":\"scattercarpet\",\"marker\":{\"colorbar\":{\"outlinewidth\":0,\"ticks\":\"\"}}}],\"carpet\":[{\"aaxis\":{\"endlinecolor\":\"#2a3f5f\",\"gridcolor\":\"white\",\"linecolor\":\"white\",\"minorgridcolor\":\"white\",\"startlinecolor\":\"#2a3f5f\"},\"baxis\":{\"endlinecolor\":\"#2a3f5f\",\"gridcolor\":\"white\",\"linecolor\":\"white\",\"minorgridcolor\":\"white\",\"startlinecolor\":\"#2a3f5f\"},\"type\":\"carpet\"}],\"table\":[{\"cells\":{\"fill\":{\"color\":\"#EBF0F8\"},\"line\":{\"color\":\"white\"}},\"header\":{\"fill\":{\"color\":\"#C8D4E3\"},\"line\":{\"color\":\"white\"}},\"type\":\"table\"}],\"barpolar\":[{\"marker\":{\"line\":{\"color\":\"#E5ECF6\",\"width\":0.5},\"pattern\":{\"fillmode\":\"overlay\",\"size\":10,\"solidity\":0.2}},\"type\":\"barpolar\"}],\"pie\":[{\"automargin\":true,\"type\":\"pie\"}]},\"layout\":{\"autotypenumbers\":\"strict\",\"colorway\":[\"#636efa\",\"#EF553B\",\"#00cc96\",\"#ab63fa\",\"#FFA15A\",\"#19d3f3\",\"#FF6692\",\"#B6E880\",\"#FF97FF\",\"#FECB52\"],\"font\":{\"color\":\"#2a3f5f\"},\"hovermode\":\"closest\",\"hoverlabel\":{\"align\":\"left\"},\"paper_bgcolor\":\"white\",\"plot_bgcolor\":\"#E5ECF6\",\"polar\":{\"bgcolor\":\"#E5ECF6\",\"angularaxis\":{\"gridcolor\":\"white\",\"linecolor\":\"white\",\"ticks\":\"\"},\"radialaxis\":{\"gridcolor\":\"white\",\"linecolor\":\"white\",\"ticks\":\"\"}},\"ternary\":{\"bgcolor\":\"#E5ECF6\",\"aaxis\":{\"gridcolor\":\"white\",\"linecolor\":\"white\",\"ticks\":\"\"},\"baxis\":{\"gridcolor\":\"white\",\"linecolor\":\"white\",\"ticks\":\"\"},\"caxis\":{\"gridcolor\":\"white\",\"linecolor\":\"white\",\"ticks\":\"\"}},\"coloraxis\":{\"colorbar\":{\"outlinewidth\":0,\"ticks\":\"\"}},\"colorscale\":{\"sequential\":[[0.0,\"#0d0887\"],[0.1111111111111111,\"#46039f\"],[0.2222222222222222,\"#7201a8\"],[0.3333333333333333,\"#9c179e\"],[0.4444444444444444,\"#bd3786\"],[0.5555555555555556,\"#d8576b\"],[0.6666666666666666,\"#ed7953\"],[0.7777777777777778,\"#fb9f3a\"],[0.8888888888888888,\"#fdca26\"],[1.0,\"#f0f921\"]],\"sequentialminus\":[[0.0,\"#0d0887\"],[0.1111111111111111,\"#46039f\"],[0.2222222222222222,\"#7201a8\"],[0.3333333333333333,\"#9c179e\"],[0.4444444444444444,\"#bd3786\"],[0.5555555555555556,\"#d8576b\"],[0.6666666666666666,\"#ed7953\"],[0.7777777777777778,\"#fb9f3a\"],[0.8888888888888888,\"#fdca26\"],[1.0,\"#f0f921\"]],\"diverging\":[[0,\"#8e0152\"],[0.1,\"#c51b7d\"],[0.2,\"#de77ae\"],[0.3,\"#f1b6da\"],[0.4,\"#fde0ef\"],[0.5,\"#f7f7f7\"],[0.6,\"#e6f5d0\"],[0.7,\"#b8e186\"],[0.8,\"#7fbc41\"],[0.9,\"#4d9221\"],[1,\"#276419\"]]},\"xaxis\":{\"gridcolor\":\"white\",\"linecolor\":\"white\",\"ticks\":\"\",\"title\":{\"standoff\":15},\"zerolinecolor\":\"white\",\"automargin\":true,\"zerolinewidth\":2},\"yaxis\":{\"gridcolor\":\"white\",\"linecolor\":\"white\",\"ticks\":\"\",\"title\":{\"standoff\":15},\"zerolinecolor\":\"white\",\"automargin\":true,\"zerolinewidth\":2},\"scene\":{\"xaxis\":{\"backgroundcolor\":\"#E5ECF6\",\"gridcolor\":\"white\",\"linecolor\":\"white\",\"showbackground\":true,\"ticks\":\"\",\"zerolinecolor\":\"white\",\"gridwidth\":2},\"yaxis\":{\"backgroundcolor\":\"#E5ECF6\",\"gridcolor\":\"white\",\"linecolor\":\"white\",\"showbackground\":true,\"ticks\":\"\",\"zerolinecolor\":\"white\",\"gridwidth\":2},\"zaxis\":{\"backgroundcolor\":\"#E5ECF6\",\"gridcolor\":\"white\",\"linecolor\":\"white\",\"showbackground\":true,\"ticks\":\"\",\"zerolinecolor\":\"white\",\"gridwidth\":2}},\"shapedefaults\":{\"line\":{\"color\":\"#2a3f5f\"}},\"annotationdefaults\":{\"arrowcolor\":\"#2a3f5f\",\"arrowhead\":0,\"arrowwidth\":1},\"geo\":{\"bgcolor\":\"white\",\"landcolor\":\"#E5ECF6\",\"subunitcolor\":\"white\",\"showland\":true,\"showlakes\":true,\"lakecolor\":\"white\"},\"title\":{\"x\":0.05},\"mapbox\":{\"style\":\"light\"}}},\"title\":{\"text\":\"NPK ratio for fruits\"},\"annotations\":[{\"showarrow\":false,\"text\":\"Apple\",\"x\":0.06,\"y\":1.08,\"font\":{\"size\":15}},{\"showarrow\":false,\"text\":\"Banana\",\"x\":0.26,\"y\":1.08,\"font\":{\"size\":15}},{\"showarrow\":false,\"text\":\"Grapes\",\"x\":0.5,\"y\":1.08,\"font\":{\"size\":15}},{\"showarrow\":false,\"text\":\"Orange\",\"x\":0.74,\"y\":1.08,\"font\":{\"size\":15}},{\"showarrow\":false,\"text\":\"Mango\",\"x\":0.94,\"y\":1.08,\"font\":{\"size\":15}},{\"showarrow\":false,\"text\":\"Coconut\",\"x\":0.06,\"y\":0.46,\"font\":{\"size\":15}},{\"showarrow\":false,\"text\":\"Papaya\",\"x\":0.26,\"y\":0.46,\"font\":{\"size\":15}},{\"showarrow\":false,\"text\":\"Pomegranate\",\"x\":0.5,\"y\":0.46,\"font\":{\"size\":15}},{\"showarrow\":false,\"text\":\"Watermelon\",\"x\":0.74,\"y\":0.46,\"font\":{\"size\":15}},{\"showarrow\":false,\"text\":\"Muskmelon\",\"x\":0.94,\"y\":0.46,\"font\":{\"size\":15}}]},                        {\"responsive\": true}                    ).then(function(){\n",
       "                            \n",
       "var gd = document.getElementById('89b1ce94-4a9c-4745-a009-e8abb7302160');\n",
       "var x = new MutationObserver(function (mutations, observer) {{\n",
       "        var display = window.getComputedStyle(gd).display;\n",
       "        if (!display || display === 'none') {{\n",
       "            console.log([gd, 'removed!']);\n",
       "            Plotly.purge(gd);\n",
       "            observer.disconnect();\n",
       "        }}\n",
       "}});\n",
       "\n",
       "// Listen for the removal of the full notebook cells\n",
       "var notebookContainer = gd.closest('#notebook-container');\n",
       "if (notebookContainer) {{\n",
       "    x.observe(notebookContainer, {childList: true});\n",
       "}}\n",
       "\n",
       "// Listen for the clearing of the current output cell\n",
       "var outputEl = gd.closest('.output');\n",
       "if (outputEl) {{\n",
       "    x.observe(outputEl, {childList: true});\n",
       "}}\n",
       "\n",
       "                        })                };                });            </script>        </div>"
      ]
     },
     "metadata": {},
     "output_type": "display_data"
    }
   ],
   "source": [
    "labels = ['Nitrogen(N)','Phosphorous(P)','Potash(K)']\n",
    "specs = [[{'type':'domain'}, {'type':'domain'}, {'type':'domain'}, {'type':'domain'}, {'type':'domain'}],[\n",
    "         {'type':'domain'}, {'type':'domain'}, {'type':'domain'}, {'type':'domain'}, {'type':'domain'}]]\n",
    "fig = make_subplots(rows=2, cols=5, specs=specs)\n",
    "cafe_colors =  ['rgb(255, 128, 0)', 'rgb(0, 153, 204)', 'rgb(173, 173, 133)']\n",
    "\n",
    "apple_npk = crop_summary[crop_summary.index=='apple']\n",
    "values = [apple_npk['N'][0], apple_npk['P'][0], apple_npk['K'][0]]\n",
    "fig.add_trace(go.Pie(labels=labels, values=values,name=\"Apple\", marker_colors=cafe_colors),1, 1)\n",
    "\n",
    "banana_npk = crop_summary[crop_summary.index=='banana']\n",
    "values = [banana_npk['N'][0], banana_npk['P'][0], banana_npk['K'][0]]\n",
    "fig.add_trace(go.Pie(labels=labels, values=values,name=\"Banana\", marker_colors=cafe_colors),1, 2)\n",
    "\n",
    "grapes_npk = crop_summary[crop_summary.index=='grapes']\n",
    "values = [grapes_npk['N'][0], grapes_npk['P'][0], grapes_npk['K'][0]]\n",
    "fig.add_trace(go.Pie(labels=labels, values=values,name=\"Grapes\", marker_colors=cafe_colors),1, 3)\n",
    "\n",
    "orange_npk = crop_summary[crop_summary.index=='orange']\n",
    "values = [orange_npk['N'][0], orange_npk['P'][0], orange_npk['K'][0]]\n",
    "fig.add_trace(go.Pie(labels=labels, values=values,name=\"Orange\", marker_colors=cafe_colors),1, 4)\n",
    "\n",
    "mango_npk = crop_summary[crop_summary.index=='mango']\n",
    "values = [mango_npk['N'][0], mango_npk['P'][0], mango_npk['K'][0]]\n",
    "fig.add_trace(go.Pie(labels=labels, values=values,name=\"Mango\", marker_colors=cafe_colors),1, 5)\n",
    "\n",
    "coconut_npk = crop_summary[crop_summary.index=='coconut']\n",
    "values = [coconut_npk['N'][0], coconut_npk['P'][0], coconut_npk['K'][0]]\n",
    "fig.add_trace(go.Pie(labels=labels, values=values,name=\"Coconut\", marker_colors=cafe_colors),2, 1)\n",
    "\n",
    "papaya_npk = crop_summary[crop_summary.index=='papaya']\n",
    "values = [papaya_npk['N'][0], papaya_npk['P'][0], papaya_npk['K'][0]]\n",
    "fig.add_trace(go.Pie(labels=labels, values=values,name=\"Papaya\", marker_colors=cafe_colors),2, 2)\n",
    "\n",
    "pomegranate_npk = crop_summary[crop_summary.index=='pomegranate']\n",
    "values = [pomegranate_npk['N'][0], pomegranate_npk['P'][0], pomegranate_npk['K'][0]]\n",
    "fig.add_trace(go.Pie(labels=labels, values=values,name=\"Pomegranate\", marker_colors=cafe_colors),2, 3)\n",
    "\n",
    "watermelon_npk = crop_summary[crop_summary.index=='watermelon']\n",
    "values = [watermelon_npk['N'][0], watermelon_npk['P'][0], watermelon_npk['K'][0]]\n",
    "fig.add_trace(go.Pie(labels=labels, values=values,name=\"Watermelon\", marker_colors=cafe_colors),2, 4)\n",
    "\n",
    "muskmelon_npk = crop_summary[crop_summary.index=='muskmelon']\n",
    "values = [muskmelon_npk['N'][0], muskmelon_npk['P'][0], muskmelon_npk['K'][0]]\n",
    "fig.add_trace(go.Pie(labels=labels, values=values,name=\"Muskmelon\", marker_colors=cafe_colors),2, 5)\n",
    "\n",
    "fig.update_layout(\n",
    "    title_text=\"NPK ratio for fruits\",\n",
    "    annotations=[dict(text='Apple',x=0.06,y=1.08, font_size=15, showarrow=False),\n",
    "                 dict(text='Banana',x=0.26,y=1.08, font_size=15, showarrow=False),\n",
    "                 dict(text='Grapes',x=0.50,y=1.08, font_size=15, showarrow=False),\n",
    "                 dict(text='Orange',x=0.74,y=1.08, font_size=15, showarrow=False),\n",
    "                dict(text='Mango',x=0.94,y=1.08, font_size=15, showarrow=False),\n",
    "                dict(text='Coconut',x=0.06,y=0.46, font_size=15, showarrow=False),\n",
    "                 dict(text='Papaya',x=0.26,y=0.46, font_size=15, showarrow=False),\n",
    "                 dict(text='Pomegranate',x=0.50,y=0.46, font_size=15, showarrow=False),\n",
    "                 dict(text='Watermelon',x=0.74,y=0.46, font_size=15, showarrow=False),\n",
    "                dict(text='Muskmelon',x=0.94,y=0.46, font_size=15, showarrow=False)])\n",
    "fig.show()\n"
   ]
  },
  {
   "cell_type": "code",
   "execution_count": 14,
   "id": "94c68cc7",
   "metadata": {
    "execution": {
     "iopub.execute_input": "2023-04-18T05:18:38.882033Z",
     "iopub.status.busy": "2023-04-18T05:18:38.881639Z",
     "iopub.status.idle": "2023-04-18T05:18:40.209932Z",
     "shell.execute_reply": "2023-04-18T05:18:40.208553Z"
    },
    "papermill": {
     "duration": 1.343658,
     "end_time": "2023-04-18T05:18:40.212430",
     "exception": false,
     "start_time": "2023-04-18T05:18:38.868772",
     "status": "completed"
    },
    "tags": []
   },
   "outputs": [
    {
     "data": {
      "text/html": [
       "<div>                            <div id=\"2ea01e74-36d0-4686-947c-24f69b2b3d88\" class=\"plotly-graph-div\" style=\"height:525px; width:100%;\"></div>            <script type=\"text/javascript\">                require([\"plotly\"], function(Plotly) {                    window.PLOTLYENV=window.PLOTLYENV || {};                                    if (document.getElementById(\"2ea01e74-36d0-4686-947c-24f69b2b3d88\")) {                    Plotly.newPlot(                        \"2ea01e74-36d0-4686-947c-24f69b2b3d88\",                        [{\"hovertemplate\":\"label=rice<br>temperature=%{x}<br>humidity=%{y}<extra></extra>\",\"legendgroup\":\"rice\",\"marker\":{\"color\":\"#636efa\",\"symbol\":\"circle\"},\"mode\":\"markers\",\"name\":\"rice\",\"orientation\":\"v\",\"showlegend\":true,\"x\":[20.87974371,21.77046169,23.00445915,26.49109635,20.13017482,23.05804872,22.70883798,20.27774362,24.51588066,23.22397386,26.52723513,23.97898217,26.80079604,24.01497622,25.66585205,24.28209415,21.58711777,23.79391957,21.8652524,23.57943626,21.32504158,25.15745531,21.94766735,21.0525355,23.48381344,25.0756354,26.35927159,24.52922681,20.77576147,22.30157427,21.44653958,22.17931888,24.52783742,20.26707606,25.7354293,26.79533926,26.75754171,23.86330467,21.01944696,24.17298839,22.78133816,25.62980105,25.59704938,23.83067496,26.31355498,24.8972823,24.958779,23.24113501,21.66628296,24.63544858,23.43121862,20.0454142,23.85724032,21.97199397,26.22916897,23.44676801,25.65553461,24.44345477,20.2801937,21.7238313,20.41447029,25.75528612,20.61521424,21.84106875,20.08369642,24.45802087,21.14347496,25.78720567,23.64124821,23.43191632,24.97669518,22.72791041,24.87300744,21.32376327,26.29465461,22.2286982,26.73072391,24.88921174,26.88444878,22.67846116,26.08867875,25.42977518,26.40323239,26.04371967,25.2827223,22.08576562,23.28617173,25.48591986,23.67575393,20.82477109,26.92995077,23.83509503,26.52872817,26.46428311,22.69657794,22.68319059,21.53346343,21.40865769,26.54348085,23.35905428],\"xaxis\":\"x\",\"y\":[82.00274423,80.31964408,82.3207629,80.15836264,81.60487287,83.37011772,82.63941394,82.89408619,83.53521629999999,83.03322691,81.41753846,81.45061596,80.88684822,82.05687182,80.66385045,80.30025587,82.7883708,80.41817957,80.1923008,83.58760316,80.47476396,83.11713476,80.97384195,82.67839517,81.33265073,80.52389148,84.04403589,80.54498576,84.49774397,80.64416466,84.94375962,80.33127223,82.73685569,81.63895217,83.88266234,82.1480873,81.17734011,83.15250801,82.95221726,83.7287574,82.06719137,83.52842314,80.14509262,84.81360127,82.36698992,80.52586088,84.47963372,84.59201843,80.70960551,80.41363018,83.06310136,80.3477562,82.22572988,81.89918197,83.83625819,84.79352417,83.47021081,82.45432595,82.1235421,80.2389895,82.20802629,83.51827127,83.77345559,80.72886384,83.29114712,82.74835604,80.33502926,82.11124033,80.28597873,80.56887849,83.891805,82.17068809999998,82.84022551,83.00320459,84.56919326,81.85872947,81.78596776,81.97927117,81.46033732,83.72874389,80.37979919,82.94682591,81.05635517,84.96907151,80.54372813,83.47038318,81.43321641,81.40633547,81.03569343,84.1341879,81.91411159,83.88387074,80.12267476,83.85642678,82.81088865,83.46358271,82.14004101,83.32931909999998,84.67353597,83.59512273],\"yaxis\":\"y\",\"type\":\"scatter\"},{\"hovertemplate\":\"label=maize<br>temperature=%{x}<br>humidity=%{y}<extra></extra>\",\"legendgroup\":\"maize\",\"marker\":{\"color\":\"#EF553B\",\"symbol\":\"diamond\"},\"mode\":\"markers\",\"name\":\"maize\",\"orientation\":\"v\",\"showlegend\":true,\"x\":[22.61359953,26.10018422,23.55882094,19.97215954,18.47891261,21.77689322,25.6217169,25.19192419,20.41683147,24.92162194,23.31689124,24.84016732,22.27526694,18.87751445,25.19008683,18.25405352,24.612911800000006,25.1420613,23.09348056,18.05033737,24.9321581,18.14710054,18.28362235,18.83344471,25.71895816,25.33797709,23.89114571,21.53574127,23.08974909,25.61707368,21.44526922,18.51816776,22.53510514,23.02038334,24.89364635,25.77175115,19.39851734,21.54156232,23.79746068,18.9802729,24.10859207,24.7947077,21.63162756,25.37548751,22.21738222,20.58314011,24.87502824,20.03728219,25.95263264,19.28889933,20.57981887,24.71417533,20.27317074,18.41932981,23.39128187,19.84939404,21.869274,22.8056033,19.0781471,22.02720976,23.80546189,18.52510753,23.50297882,26.54986394,19.29563411,20.68899915,19.32666088,24.60532218,22.27373646,25.70196694,19.20129357,21.70181447,20.51716779,23.30355338,24.2547451,24.86374934,22.6265115,18.04185513,23.26237612,22.88330922,25.97482359,26.14384005,18.66116213,25.10787449,23.33844615,25.08239719,25.36768364,25.34217103,25.00933355,18.66746724,20.37999665,18.09300227,26.16985907,18.65396672,26.07470121,18.92851916,23.30546753,18.74826712,19.74213321,25.73044432],\"xaxis\":\"x\",\"y\":[63.69070564,71.57476937,71.59351368,57.68272924,62.69503871,57.80840636,66.50415474,66.69029010000001,62.55424820000001,66.78627406,73.4541537,68.3584573,58.84015925,65.76816093,60.200168700000006,55.28220433,70.4162444,65.26185135,60.11593810000001,62.89366992,73.80435276,71.09445342,66.65952796,58.75082029,67.22190688,68.49835977,57.48775781,71.50905983,63.10459626,63.4711755,63.1621551,55.53128131,67.99257471,61.89472002,65.61418761,74.089114,62.35750641,59.64024162,74.82913698,74.52600826,73.13112261,70.04556743,60.27766379,57.21025565,72.85462807,69.00128641,68.74248334,56.35606753,61.89082199,65.47050802,65.34583901,56.73426469,63.91281869,64.23580251,61.74427165,61.24500053,61.91044947,56.50768935,69.02298571,65.35549924,59.24537979,69.0276233,61.32026065,72.89187265,69.63481219,59.4375337,68.03449300000001,73.58868502,59.52193158,61.33450447,68.30578978,60.47470519,59.21235483,73.62548442,55.64709899,65.7420046,65.77472881,60.61494304,72.33125523,71.59722446,69.36385721,66.20569924,61.55327249,55.97732754,59.24580604,65.92195844,72.52054555,63.31801994,67.816568,71.516474,63.73849998,72.61024172,71.96246617,61.37879671,59.37147589,72.80086137,63.24648023,62.49878458,59.66263104,70.74739256],\"yaxis\":\"y\",\"type\":\"scatter\"},{\"hovertemplate\":\"label=lentil<br>temperature=%{x}<br>humidity=%{y}<extra></extra>\",\"legendgroup\":\"lentil\",\"marker\":{\"color\":\"#00cc96\",\"symbol\":\"square\"},\"mode\":\"markers\",\"name\":\"lentil\",\"orientation\":\"v\",\"showlegend\":true,\"x\":[28.05153602,19.44084326,29.84823072,21.36383757,26.28663931,22.17499963,26.57597546,26.58972517,19.1345771,28.75273118,25.78746268,23.89271875,28.67408774,28.42062847,21.35499456,21.12695586,24.02037872,25.40474421,29.03017561,20.21368219,29.19585548,18.29783597,27.41434987,24.84063998,29.94413861,25.87990287,20.0467711,22.99451999,25.13163619,28.49584395,18.28766124,24.38041875,21.31852148,18.54141834,25.28710601,25.43459777,28.83600962,27.37659643,28.31886863,27.4818649,18.28072173,27.61204997,23.43974653,20.95628486,23.7937153,22.6371424,21.53577883,29.87854588,25.2653291,25.17885316,24.12192608,23.33565221,21.74600081,27.60195453,24.388717,24.98287462,28.234829,26.03026959,28.04849594,24.87425505,23.97081395,20.06003985,19.59221047,29.77013109,27.52135365,25.62896213,20.39078312,25.39038396,24.91079638,27.70496805,18.06486101,18.13027797,23.82723528,23.19305333,25.08966129,25.86928193,18.43966037,27.14911056,23.33375853,26.7230014,19.55750776,26.13708256,27.99990346,29.05941162,25.71269843,21.79792649,24.70626432,20.94981756,24.84918386,21.91041045,25.93381964,29.82112112,27.52185591,27.99627907,20.76774783,23.05276444,21.65845777,26.25070298,20.97195263,23.89736406],\"xaxis\":\"x\",\"y\":[63.49802189,63.27771461,60.63872613,69.92375891,68.51966729,62.13873825,60.97876599,66.14007674,62.57526895,69.15640149,60.2816298,61.78779413,63.18832976,61.77336343,62.60136323,63.18738532,61.62313345,65.8567539,64.49166566,68.65257685,68.01965728,69.6897615,63.41785982,60.09116626,67.31323084,67.55109024,65.84395319,66.70897237,66.92642362,62.44616219,69.48515056,61.18458224,66.43934593,62.70637578,60.85993533,69.12613376,69.76112921,63.93927841,60.19461399,62.04814951,68.10365387,69.29786244,63.22011726,63.68128841,68.03209183,65.44544859,65.47227704,65.73085206,67.10004577,68.93307305,61.09533545,67.40460704,63.39503184,63.46170674,62.50453062,66.895409,69.3159965,69.55863145,64.07691942,64.00213929,62.35557553,67.76252583,61.28633405,66.29327012,60.53657684,63.14909763,60.47528931,60.4989659,60.71367427,63.20915034,65.1034354,62.45851612,67.89815262,62.74710773,68.17543102,61.88321072,68.05394959,67.02664337,64.50515776,62.96841833,64.45268309,66.7729209,65.57653373,62.10652364,64.1123333,63.73086065,60.26854183,65.8108757,68.98088448,65.21662467,68.70533022,69.4073209,63.13215259,68.6428593,63.90164154,60.424786,63.58337146,67.62779652,63.83179889,66.32102048],\"yaxis\":\"y\",\"type\":\"scatter\"},{\"hovertemplate\":\"label=cotton<br>temperature=%{x}<br>humidity=%{y}<extra></extra>\",\"legendgroup\":\"cotton\",\"marker\":{\"color\":\"#ab63fa\",\"symbol\":\"x\"},\"mode\":\"markers\",\"name\":\"cotton\",\"orientation\":\"v\",\"showlegend\":true,\"x\":[24.40228894,23.09595631,23.9656349,24.88738107,25.36243778,24.69457084,25.0017188,22.45942937,23.60564038,24.58453146,23.0865933,23.5000992,24.1472953,24.69315538,24.48469200000001,24.49112609,23.47986888,24.18586246,25.00755095,25.99237426,23.66457347,25.66891439,22.04612876,22.4204752,25.03149561,23.53371386,22.77076388,25.49848236,25.248679,22.78249615,23.37044424,24.86560781,24.14386157,25.03300222,23.65724079,25.54359718,22.00085141,23.64328417,23.96436009,24.65425757,24.3017998,24.29144926,24.29470232,25.72180042,24.87663664,22.60612115,23.86814008,23.41022496,24.96440768,25.16820129,22.72767171,22.45145981,23.04920461,25.29250148,22.95604064,22.80213132,23.54234715,24.41212325,22.94276687,25.53676123,25.32023717,22.426733,25.78544484,25.68959532,22.14593688,25.07278712,22.21506982,23.9643129,25.40059227,23.7805123,24.16402322,25.31468463,22.60361557,22.9535715,22.74446976,23.80834611,25.46228792,25.96779712,25.5308271,24.43847399,23.03887865,23.51308653,22.75805656,24.71252544,23.45969093,25.5503704,22.08458267,24.68854799,25.84997269,22.46054478,23.65629976,22.00817088,24.32630461,22.92360984,23.43821725,22.10718988,23.03814028,24.54795322,23.73868041,22.31871914],\"xaxis\":\"x\",\"y\":[79.19732001,84.86275707,76.97696717,75.62137159,83.63276077,81.7358876,80.53965818,81.30681027,79.29573149,79.12404171,83.55546146,83.63488952,75.88298598,84.84422454,84.44932014,82.24415809,81.73049149,76.04203958,78.17952126,77.0543546,81.69105088,81.38103349,84.62978302,84.55794703,82.21276599,77.21705554,82.5993307,79.9751579,83.4630147,77.51235009,77.43198948,78.22080815,84.51591287,79.04368718,84.47601498,84.09229796,79.47270984,78.1258666,78.02763149,75.6350708,84.87668973,81.02453404,84.61527627,81.19666206,76.30050373,77.34264002,75.68339729,76.43836957,81.31677618,80.30351815,77.07598065,76.25674874,75.53835214,75.66653335,82.33733678,84.14668447,75.98203329,80.80343786,75.37170612,81.13668716,81.79475917,81.53480799,75.00539324,77.90621048,82.85975490000001,82.50257909,76.17851932,76.59175937,76.53237965,83.03878838,76.7433897,77.91757121,80.35090459999998,78.71555832,80.41198458,83.91902605,81.56641891,81.97904282,80.04662756,81.69801729,76.47039772,76.72621429,76.75768356,77.7293114,82.44777468,77.85055621,82.82904143,78.51206972,84.16855231,75.40989245,77.52425987,81.83896111,80.13456404,82.68738535,78.63388824,78.58320116,76.11021529,75.39752705,75.77503808,83.86129998],\"yaxis\":\"y\",\"type\":\"scatter\"},{\"hovertemplate\":\"label=jute<br>temperature=%{x}<br>humidity=%{y}<extra></extra>\",\"legendgroup\":\"jute\",\"marker\":{\"color\":\"#FFA15A\",\"symbol\":\"cross\"},\"mode\":\"markers\",\"name\":\"jute\",\"orientation\":\"v\",\"showlegend\":true,\"x\":[25.52468965,26.59104992,25.29781791,25.72100868,23.58419277,25.31042337,23.41798979,24.35564134,26.284017,25.13842773,24.88692811,25.75734909,23.12844351,24.9949957,25.21622704,24.39736241,23.31410442,25.72668885,26.96656378,23.70467146,24.90075709,23.39605743,26.8748389,23.1426498,24.29496635,24.39459498,25.7629429,25.4879684,25.37122686,26.21312799,24.30748599,23.76554749,24.79853023,23.20683504,23.66805429,25.12417673,23.89069041,23.09433785,24.21744605,24.06475727,24.85441411,26.41915161,24.89326318,23.25583402,24.7634518,24.97042599,26.12797248,25.97825807,26.2830571,26.38905406,25.2746335,23.09499564,25.79351957,23.17403323,25.63215038,25.84879500000001,26.56767277,26.24532085,26.91515043,24.36972377,25.71901283,25.01157559,25.40785911,23.28081,23.98651719,24.48556447,25.86705009,23.5643831,24.2248758,25.49386782,24.97178693,24.80624984,23.16814977,24.25133493,26.58361011,26.82489244,25.49674786,24.09874353,23.18866654,26.24347471,23.75091572,26.13871511,26.14576648,26.91643698,26.5232969,23.81579631,26.50838667,26.63952463,23.325013100000003,26.47549543,23.78756036,25.49941707,23.24925555,26.98582182,23.61475336,23.87484465,23.92887902,24.81441246,24.44743944,26.57421679],\"xaxis\":\"x\",\"y\":[72.24850829,82.94164078,86.88705350000002,88.16513579,72.00460848,72.01364411,85.08640476,88.80391021,75.14640198,83.12053888,71.91711523,88.36668522,74.68322732,88.95692783,70.88259632,79.26861738,71.4509053,81.86171563,78.21047693,74.63745355,73.84186449,72.60512854,79.78725152,74.99739774,77.62976013,89.89106506,80.76238215,84.48235878,76.2403666,81.70476368,78.54340987,87.98329901,78.53037059,74.09956958,70.89000744,85.72530641,83.46409075,81.45139295,82.85284045,71.31342851,74.44070479999998,76.85691248,77.01222585,82.7015932,87.06071115,78.62697699,80.49172597,81.65769588,73.35763537,83.31240346,73.7459581,78.45959697,81.76904006,87.88255345,79.95150917,87.81661683,80.90424543,72.97198375,73.19897535,82.11319791,79.15532398,88.33130229999998,76.44048625,74.27607475,82.09053379,83.20630007,84.09985284,79.46283115,74.89465426,86.97061481,79.47557931,82.09281674,76.66724969,89.86454053,78.00774772,78.20392774,81.13449097,80.57226761,86.20899734,78.51063754,71.14782585,79.1188943,71.23690851,73.48655995,77.17331847,80.94023552,86.84264005,70.95705996,79.79609448,73.96164569,74.36794079,75.99987588,73.65346838,89.05587886,86.14290267,86.79261344,88.07112278,81.68688879,82.286484,73.81994896],\"yaxis\":\"y\",\"type\":\"scatter\"}],                        {\"template\":{\"data\":{\"histogram2dcontour\":[{\"type\":\"histogram2dcontour\",\"colorbar\":{\"outlinewidth\":0,\"ticks\":\"\"},\"colorscale\":[[0.0,\"#0d0887\"],[0.1111111111111111,\"#46039f\"],[0.2222222222222222,\"#7201a8\"],[0.3333333333333333,\"#9c179e\"],[0.4444444444444444,\"#bd3786\"],[0.5555555555555556,\"#d8576b\"],[0.6666666666666666,\"#ed7953\"],[0.7777777777777778,\"#fb9f3a\"],[0.8888888888888888,\"#fdca26\"],[1.0,\"#f0f921\"]]}],\"choropleth\":[{\"type\":\"choropleth\",\"colorbar\":{\"outlinewidth\":0,\"ticks\":\"\"}}],\"histogram2d\":[{\"type\":\"histogram2d\",\"colorbar\":{\"outlinewidth\":0,\"ticks\":\"\"},\"colorscale\":[[0.0,\"#0d0887\"],[0.1111111111111111,\"#46039f\"],[0.2222222222222222,\"#7201a8\"],[0.3333333333333333,\"#9c179e\"],[0.4444444444444444,\"#bd3786\"],[0.5555555555555556,\"#d8576b\"],[0.6666666666666666,\"#ed7953\"],[0.7777777777777778,\"#fb9f3a\"],[0.8888888888888888,\"#fdca26\"],[1.0,\"#f0f921\"]]}],\"heatmap\":[{\"type\":\"heatmap\",\"colorbar\":{\"outlinewidth\":0,\"ticks\":\"\"},\"colorscale\":[[0.0,\"#0d0887\"],[0.1111111111111111,\"#46039f\"],[0.2222222222222222,\"#7201a8\"],[0.3333333333333333,\"#9c179e\"],[0.4444444444444444,\"#bd3786\"],[0.5555555555555556,\"#d8576b\"],[0.6666666666666666,\"#ed7953\"],[0.7777777777777778,\"#fb9f3a\"],[0.8888888888888888,\"#fdca26\"],[1.0,\"#f0f921\"]]}],\"heatmapgl\":[{\"type\":\"heatmapgl\",\"colorbar\":{\"outlinewidth\":0,\"ticks\":\"\"},\"colorscale\":[[0.0,\"#0d0887\"],[0.1111111111111111,\"#46039f\"],[0.2222222222222222,\"#7201a8\"],[0.3333333333333333,\"#9c179e\"],[0.4444444444444444,\"#bd3786\"],[0.5555555555555556,\"#d8576b\"],[0.6666666666666666,\"#ed7953\"],[0.7777777777777778,\"#fb9f3a\"],[0.8888888888888888,\"#fdca26\"],[1.0,\"#f0f921\"]]}],\"contourcarpet\":[{\"type\":\"contourcarpet\",\"colorbar\":{\"outlinewidth\":0,\"ticks\":\"\"}}],\"contour\":[{\"type\":\"contour\",\"colorbar\":{\"outlinewidth\":0,\"ticks\":\"\"},\"colorscale\":[[0.0,\"#0d0887\"],[0.1111111111111111,\"#46039f\"],[0.2222222222222222,\"#7201a8\"],[0.3333333333333333,\"#9c179e\"],[0.4444444444444444,\"#bd3786\"],[0.5555555555555556,\"#d8576b\"],[0.6666666666666666,\"#ed7953\"],[0.7777777777777778,\"#fb9f3a\"],[0.8888888888888888,\"#fdca26\"],[1.0,\"#f0f921\"]]}],\"surface\":[{\"type\":\"surface\",\"colorbar\":{\"outlinewidth\":0,\"ticks\":\"\"},\"colorscale\":[[0.0,\"#0d0887\"],[0.1111111111111111,\"#46039f\"],[0.2222222222222222,\"#7201a8\"],[0.3333333333333333,\"#9c179e\"],[0.4444444444444444,\"#bd3786\"],[0.5555555555555556,\"#d8576b\"],[0.6666666666666666,\"#ed7953\"],[0.7777777777777778,\"#fb9f3a\"],[0.8888888888888888,\"#fdca26\"],[1.0,\"#f0f921\"]]}],\"mesh3d\":[{\"type\":\"mesh3d\",\"colorbar\":{\"outlinewidth\":0,\"ticks\":\"\"}}],\"scatter\":[{\"fillpattern\":{\"fillmode\":\"overlay\",\"size\":10,\"solidity\":0.2},\"type\":\"scatter\"}],\"parcoords\":[{\"type\":\"parcoords\",\"line\":{\"colorbar\":{\"outlinewidth\":0,\"ticks\":\"\"}}}],\"scatterpolargl\":[{\"type\":\"scatterpolargl\",\"marker\":{\"colorbar\":{\"outlinewidth\":0,\"ticks\":\"\"}}}],\"bar\":[{\"error_x\":{\"color\":\"#2a3f5f\"},\"error_y\":{\"color\":\"#2a3f5f\"},\"marker\":{\"line\":{\"color\":\"#E5ECF6\",\"width\":0.5},\"pattern\":{\"fillmode\":\"overlay\",\"size\":10,\"solidity\":0.2}},\"type\":\"bar\"}],\"scattergeo\":[{\"type\":\"scattergeo\",\"marker\":{\"colorbar\":{\"outlinewidth\":0,\"ticks\":\"\"}}}],\"scatterpolar\":[{\"type\":\"scatterpolar\",\"marker\":{\"colorbar\":{\"outlinewidth\":0,\"ticks\":\"\"}}}],\"histogram\":[{\"marker\":{\"pattern\":{\"fillmode\":\"overlay\",\"size\":10,\"solidity\":0.2}},\"type\":\"histogram\"}],\"scattergl\":[{\"type\":\"scattergl\",\"marker\":{\"colorbar\":{\"outlinewidth\":0,\"ticks\":\"\"}}}],\"scatter3d\":[{\"type\":\"scatter3d\",\"line\":{\"colorbar\":{\"outlinewidth\":0,\"ticks\":\"\"}},\"marker\":{\"colorbar\":{\"outlinewidth\":0,\"ticks\":\"\"}}}],\"scattermapbox\":[{\"type\":\"scattermapbox\",\"marker\":{\"colorbar\":{\"outlinewidth\":0,\"ticks\":\"\"}}}],\"scatterternary\":[{\"type\":\"scatterternary\",\"marker\":{\"colorbar\":{\"outlinewidth\":0,\"ticks\":\"\"}}}],\"scattercarpet\":[{\"type\":\"scattercarpet\",\"marker\":{\"colorbar\":{\"outlinewidth\":0,\"ticks\":\"\"}}}],\"carpet\":[{\"aaxis\":{\"endlinecolor\":\"#2a3f5f\",\"gridcolor\":\"white\",\"linecolor\":\"white\",\"minorgridcolor\":\"white\",\"startlinecolor\":\"#2a3f5f\"},\"baxis\":{\"endlinecolor\":\"#2a3f5f\",\"gridcolor\":\"white\",\"linecolor\":\"white\",\"minorgridcolor\":\"white\",\"startlinecolor\":\"#2a3f5f\"},\"type\":\"carpet\"}],\"table\":[{\"cells\":{\"fill\":{\"color\":\"#EBF0F8\"},\"line\":{\"color\":\"white\"}},\"header\":{\"fill\":{\"color\":\"#C8D4E3\"},\"line\":{\"color\":\"white\"}},\"type\":\"table\"}],\"barpolar\":[{\"marker\":{\"line\":{\"color\":\"#E5ECF6\",\"width\":0.5},\"pattern\":{\"fillmode\":\"overlay\",\"size\":10,\"solidity\":0.2}},\"type\":\"barpolar\"}],\"pie\":[{\"automargin\":true,\"type\":\"pie\"}]},\"layout\":{\"autotypenumbers\":\"strict\",\"colorway\":[\"#636efa\",\"#EF553B\",\"#00cc96\",\"#ab63fa\",\"#FFA15A\",\"#19d3f3\",\"#FF6692\",\"#B6E880\",\"#FF97FF\",\"#FECB52\"],\"font\":{\"color\":\"#2a3f5f\"},\"hovermode\":\"closest\",\"hoverlabel\":{\"align\":\"left\"},\"paper_bgcolor\":\"white\",\"plot_bgcolor\":\"#E5ECF6\",\"polar\":{\"bgcolor\":\"#E5ECF6\",\"angularaxis\":{\"gridcolor\":\"white\",\"linecolor\":\"white\",\"ticks\":\"\"},\"radialaxis\":{\"gridcolor\":\"white\",\"linecolor\":\"white\",\"ticks\":\"\"}},\"ternary\":{\"bgcolor\":\"#E5ECF6\",\"aaxis\":{\"gridcolor\":\"white\",\"linecolor\":\"white\",\"ticks\":\"\"},\"baxis\":{\"gridcolor\":\"white\",\"linecolor\":\"white\",\"ticks\":\"\"},\"caxis\":{\"gridcolor\":\"white\",\"linecolor\":\"white\",\"ticks\":\"\"}},\"coloraxis\":{\"colorbar\":{\"outlinewidth\":0,\"ticks\":\"\"}},\"colorscale\":{\"sequential\":[[0.0,\"#0d0887\"],[0.1111111111111111,\"#46039f\"],[0.2222222222222222,\"#7201a8\"],[0.3333333333333333,\"#9c179e\"],[0.4444444444444444,\"#bd3786\"],[0.5555555555555556,\"#d8576b\"],[0.6666666666666666,\"#ed7953\"],[0.7777777777777778,\"#fb9f3a\"],[0.8888888888888888,\"#fdca26\"],[1.0,\"#f0f921\"]],\"sequentialminus\":[[0.0,\"#0d0887\"],[0.1111111111111111,\"#46039f\"],[0.2222222222222222,\"#7201a8\"],[0.3333333333333333,\"#9c179e\"],[0.4444444444444444,\"#bd3786\"],[0.5555555555555556,\"#d8576b\"],[0.6666666666666666,\"#ed7953\"],[0.7777777777777778,\"#fb9f3a\"],[0.8888888888888888,\"#fdca26\"],[1.0,\"#f0f921\"]],\"diverging\":[[0,\"#8e0152\"],[0.1,\"#c51b7d\"],[0.2,\"#de77ae\"],[0.3,\"#f1b6da\"],[0.4,\"#fde0ef\"],[0.5,\"#f7f7f7\"],[0.6,\"#e6f5d0\"],[0.7,\"#b8e186\"],[0.8,\"#7fbc41\"],[0.9,\"#4d9221\"],[1,\"#276419\"]]},\"xaxis\":{\"gridcolor\":\"white\",\"linecolor\":\"white\",\"ticks\":\"\",\"title\":{\"standoff\":15},\"zerolinecolor\":\"white\",\"automargin\":true,\"zerolinewidth\":2},\"yaxis\":{\"gridcolor\":\"white\",\"linecolor\":\"white\",\"ticks\":\"\",\"title\":{\"standoff\":15},\"zerolinecolor\":\"white\",\"automargin\":true,\"zerolinewidth\":2},\"scene\":{\"xaxis\":{\"backgroundcolor\":\"#E5ECF6\",\"gridcolor\":\"white\",\"linecolor\":\"white\",\"showbackground\":true,\"ticks\":\"\",\"zerolinecolor\":\"white\",\"gridwidth\":2},\"yaxis\":{\"backgroundcolor\":\"#E5ECF6\",\"gridcolor\":\"white\",\"linecolor\":\"white\",\"showbackground\":true,\"ticks\":\"\",\"zerolinecolor\":\"white\",\"gridwidth\":2},\"zaxis\":{\"backgroundcolor\":\"#E5ECF6\",\"gridcolor\":\"white\",\"linecolor\":\"white\",\"showbackground\":true,\"ticks\":\"\",\"zerolinecolor\":\"white\",\"gridwidth\":2}},\"shapedefaults\":{\"line\":{\"color\":\"#2a3f5f\"}},\"annotationdefaults\":{\"arrowcolor\":\"#2a3f5f\",\"arrowhead\":0,\"arrowwidth\":1},\"geo\":{\"bgcolor\":\"white\",\"landcolor\":\"#E5ECF6\",\"subunitcolor\":\"white\",\"showland\":true,\"showlakes\":true,\"lakecolor\":\"white\"},\"title\":{\"x\":0.05},\"mapbox\":{\"style\":\"light\"}}},\"xaxis\":{\"anchor\":\"y\",\"domain\":[0.0,1.0],\"title\":{\"text\":\"temperature\"},\"showgrid\":false},\"yaxis\":{\"anchor\":\"x\",\"domain\":[0.0,1.0],\"title\":{\"text\":\"humidity\"},\"showgrid\":false},\"legend\":{\"title\":{\"text\":\"label\"},\"tracegroupgap\":0},\"margin\":{\"t\":60},\"plot_bgcolor\":\"white\"},                        {\"responsive\": true}                    ).then(function(){\n",
       "                            \n",
       "var gd = document.getElementById('2ea01e74-36d0-4686-947c-24f69b2b3d88');\n",
       "var x = new MutationObserver(function (mutations, observer) {{\n",
       "        var display = window.getComputedStyle(gd).display;\n",
       "        if (!display || display === 'none') {{\n",
       "            console.log([gd, 'removed!']);\n",
       "            Plotly.purge(gd);\n",
       "            observer.disconnect();\n",
       "        }}\n",
       "}});\n",
       "\n",
       "// Listen for the removal of the full notebook cells\n",
       "var notebookContainer = gd.closest('#notebook-container');\n",
       "if (notebookContainer) {{\n",
       "    x.observe(notebookContainer, {childList: true});\n",
       "}}\n",
       "\n",
       "// Listen for the clearing of the current output cell\n",
       "var outputEl = gd.closest('.output');\n",
       "if (outputEl) {{\n",
       "    x.observe(outputEl, {childList: true});\n",
       "}}\n",
       "\n",
       "                        })                };                });            </script>        </div>"
      ]
     },
     "metadata": {},
     "output_type": "display_data"
    }
   ],
   "source": [
    "crop_scatter = cropdf[(cropdf['label']=='rice') | \n",
    "                      (cropdf['label']=='jute') | \n",
    "                      (cropdf['label']=='cotton') |\n",
    "                     (cropdf['label']=='maize') |\n",
    "                     (cropdf['label']=='lentil')]\n",
    "\n",
    "fig = px.scatter(crop_scatter, x=\"temperature\", y=\"humidity\", color=\"label\", symbol=\"label\")\n",
    "fig.update_layout(plot_bgcolor='white')\n",
    "fig.update_xaxes(showgrid=False)\n",
    "fig.update_yaxes(showgrid=False)\n",
    "\n",
    "fig.show()"
   ]
  },
  {
   "cell_type": "code",
   "execution_count": 15,
   "id": "462a1cd4",
   "metadata": {
    "execution": {
     "iopub.execute_input": "2023-04-18T05:18:40.237914Z",
     "iopub.status.busy": "2023-04-18T05:18:40.237479Z",
     "iopub.status.idle": "2023-04-18T05:18:40.320209Z",
     "shell.execute_reply": "2023-04-18T05:18:40.318955Z"
    },
    "papermill": {
     "duration": 0.098488,
     "end_time": "2023-04-18T05:18:40.322843",
     "exception": false,
     "start_time": "2023-04-18T05:18:40.224355",
     "status": "completed"
    },
    "tags": []
   },
   "outputs": [
    {
     "data": {
      "text/html": [
       "<div>                            <div id=\"e5027aae-4104-4905-9eb3-b78e8646df48\" class=\"plotly-graph-div\" style=\"height:500px; width:100%;\"></div>            <script type=\"text/javascript\">                require([\"plotly\"], function(Plotly) {                    window.PLOTLYENV=window.PLOTLYENV || {};                                    if (document.getElementById(\"e5027aae-4104-4905-9eb3-b78e8646df48\")) {                    Plotly.newPlot(                        \"e5027aae-4104-4905-9eb3-b78e8646df48\",                        [{\"alignmentgroup\":\"True\",\"hovertemplate\":\"variable=rainfall<br>label=%{x}<br>value=%{y}<extra></extra>\",\"legendgroup\":\"rainfall\",\"marker\":{\"color\":\"#636efa\",\"pattern\":{\"shape\":\"\"}},\"name\":\"rainfall\",\"offsetgroup\":\"rainfall\",\"orientation\":\"v\",\"showlegend\":true,\"textposition\":\"auto\",\"x\":[\"apple\",\"banana\",\"blackgram\",\"chickpea\",\"coconut\",\"coffee\",\"cotton\",\"grapes\",\"jute\",\"kidneybeans\",\"lentil\",\"maize\",\"mango\",\"mothbeans\",\"mungbean\",\"muskmelon\",\"orange\",\"papaya\",\"pigeonpeas\",\"pomegranate\",\"rice\",\"watermelon\"],\"xaxis\":\"x\",\"y\":[112.654779275,104.6269804001,67.8841511832,80.0589772605,175.686645804,158.066294882,80.3980431193,69.611828886,174.792797536,105.91977754210001,45.680454204,84.766987663,94.70451504479999,51.198487045700006,48.403600902899996,24.689952066,110.47496871999999,142.6278388629,149.4575638135,107.52844239699999,236.181113594,50.7862189449],\"yaxis\":\"y\",\"type\":\"bar\"}],                        {\"template\":{\"data\":{\"histogram2dcontour\":[{\"type\":\"histogram2dcontour\",\"colorbar\":{\"outlinewidth\":0,\"ticks\":\"\"},\"colorscale\":[[0.0,\"#0d0887\"],[0.1111111111111111,\"#46039f\"],[0.2222222222222222,\"#7201a8\"],[0.3333333333333333,\"#9c179e\"],[0.4444444444444444,\"#bd3786\"],[0.5555555555555556,\"#d8576b\"],[0.6666666666666666,\"#ed7953\"],[0.7777777777777778,\"#fb9f3a\"],[0.8888888888888888,\"#fdca26\"],[1.0,\"#f0f921\"]]}],\"choropleth\":[{\"type\":\"choropleth\",\"colorbar\":{\"outlinewidth\":0,\"ticks\":\"\"}}],\"histogram2d\":[{\"type\":\"histogram2d\",\"colorbar\":{\"outlinewidth\":0,\"ticks\":\"\"},\"colorscale\":[[0.0,\"#0d0887\"],[0.1111111111111111,\"#46039f\"],[0.2222222222222222,\"#7201a8\"],[0.3333333333333333,\"#9c179e\"],[0.4444444444444444,\"#bd3786\"],[0.5555555555555556,\"#d8576b\"],[0.6666666666666666,\"#ed7953\"],[0.7777777777777778,\"#fb9f3a\"],[0.8888888888888888,\"#fdca26\"],[1.0,\"#f0f921\"]]}],\"heatmap\":[{\"type\":\"heatmap\",\"colorbar\":{\"outlinewidth\":0,\"ticks\":\"\"},\"colorscale\":[[0.0,\"#0d0887\"],[0.1111111111111111,\"#46039f\"],[0.2222222222222222,\"#7201a8\"],[0.3333333333333333,\"#9c179e\"],[0.4444444444444444,\"#bd3786\"],[0.5555555555555556,\"#d8576b\"],[0.6666666666666666,\"#ed7953\"],[0.7777777777777778,\"#fb9f3a\"],[0.8888888888888888,\"#fdca26\"],[1.0,\"#f0f921\"]]}],\"heatmapgl\":[{\"type\":\"heatmapgl\",\"colorbar\":{\"outlinewidth\":0,\"ticks\":\"\"},\"colorscale\":[[0.0,\"#0d0887\"],[0.1111111111111111,\"#46039f\"],[0.2222222222222222,\"#7201a8\"],[0.3333333333333333,\"#9c179e\"],[0.4444444444444444,\"#bd3786\"],[0.5555555555555556,\"#d8576b\"],[0.6666666666666666,\"#ed7953\"],[0.7777777777777778,\"#fb9f3a\"],[0.8888888888888888,\"#fdca26\"],[1.0,\"#f0f921\"]]}],\"contourcarpet\":[{\"type\":\"contourcarpet\",\"colorbar\":{\"outlinewidth\":0,\"ticks\":\"\"}}],\"contour\":[{\"type\":\"contour\",\"colorbar\":{\"outlinewidth\":0,\"ticks\":\"\"},\"colorscale\":[[0.0,\"#0d0887\"],[0.1111111111111111,\"#46039f\"],[0.2222222222222222,\"#7201a8\"],[0.3333333333333333,\"#9c179e\"],[0.4444444444444444,\"#bd3786\"],[0.5555555555555556,\"#d8576b\"],[0.6666666666666666,\"#ed7953\"],[0.7777777777777778,\"#fb9f3a\"],[0.8888888888888888,\"#fdca26\"],[1.0,\"#f0f921\"]]}],\"surface\":[{\"type\":\"surface\",\"colorbar\":{\"outlinewidth\":0,\"ticks\":\"\"},\"colorscale\":[[0.0,\"#0d0887\"],[0.1111111111111111,\"#46039f\"],[0.2222222222222222,\"#7201a8\"],[0.3333333333333333,\"#9c179e\"],[0.4444444444444444,\"#bd3786\"],[0.5555555555555556,\"#d8576b\"],[0.6666666666666666,\"#ed7953\"],[0.7777777777777778,\"#fb9f3a\"],[0.8888888888888888,\"#fdca26\"],[1.0,\"#f0f921\"]]}],\"mesh3d\":[{\"type\":\"mesh3d\",\"colorbar\":{\"outlinewidth\":0,\"ticks\":\"\"}}],\"scatter\":[{\"fillpattern\":{\"fillmode\":\"overlay\",\"size\":10,\"solidity\":0.2},\"type\":\"scatter\"}],\"parcoords\":[{\"type\":\"parcoords\",\"line\":{\"colorbar\":{\"outlinewidth\":0,\"ticks\":\"\"}}}],\"scatterpolargl\":[{\"type\":\"scatterpolargl\",\"marker\":{\"colorbar\":{\"outlinewidth\":0,\"ticks\":\"\"}}}],\"bar\":[{\"error_x\":{\"color\":\"#2a3f5f\"},\"error_y\":{\"color\":\"#2a3f5f\"},\"marker\":{\"line\":{\"color\":\"#E5ECF6\",\"width\":0.5},\"pattern\":{\"fillmode\":\"overlay\",\"size\":10,\"solidity\":0.2}},\"type\":\"bar\"}],\"scattergeo\":[{\"type\":\"scattergeo\",\"marker\":{\"colorbar\":{\"outlinewidth\":0,\"ticks\":\"\"}}}],\"scatterpolar\":[{\"type\":\"scatterpolar\",\"marker\":{\"colorbar\":{\"outlinewidth\":0,\"ticks\":\"\"}}}],\"histogram\":[{\"marker\":{\"pattern\":{\"fillmode\":\"overlay\",\"size\":10,\"solidity\":0.2}},\"type\":\"histogram\"}],\"scattergl\":[{\"type\":\"scattergl\",\"marker\":{\"colorbar\":{\"outlinewidth\":0,\"ticks\":\"\"}}}],\"scatter3d\":[{\"type\":\"scatter3d\",\"line\":{\"colorbar\":{\"outlinewidth\":0,\"ticks\":\"\"}},\"marker\":{\"colorbar\":{\"outlinewidth\":0,\"ticks\":\"\"}}}],\"scattermapbox\":[{\"type\":\"scattermapbox\",\"marker\":{\"colorbar\":{\"outlinewidth\":0,\"ticks\":\"\"}}}],\"scatterternary\":[{\"type\":\"scatterternary\",\"marker\":{\"colorbar\":{\"outlinewidth\":0,\"ticks\":\"\"}}}],\"scattercarpet\":[{\"type\":\"scattercarpet\",\"marker\":{\"colorbar\":{\"outlinewidth\":0,\"ticks\":\"\"}}}],\"carpet\":[{\"aaxis\":{\"endlinecolor\":\"#2a3f5f\",\"gridcolor\":\"white\",\"linecolor\":\"white\",\"minorgridcolor\":\"white\",\"startlinecolor\":\"#2a3f5f\"},\"baxis\":{\"endlinecolor\":\"#2a3f5f\",\"gridcolor\":\"white\",\"linecolor\":\"white\",\"minorgridcolor\":\"white\",\"startlinecolor\":\"#2a3f5f\"},\"type\":\"carpet\"}],\"table\":[{\"cells\":{\"fill\":{\"color\":\"#EBF0F8\"},\"line\":{\"color\":\"white\"}},\"header\":{\"fill\":{\"color\":\"#C8D4E3\"},\"line\":{\"color\":\"white\"}},\"type\":\"table\"}],\"barpolar\":[{\"marker\":{\"line\":{\"color\":\"#E5ECF6\",\"width\":0.5},\"pattern\":{\"fillmode\":\"overlay\",\"size\":10,\"solidity\":0.2}},\"type\":\"barpolar\"}],\"pie\":[{\"automargin\":true,\"type\":\"pie\"}]},\"layout\":{\"autotypenumbers\":\"strict\",\"colorway\":[\"#636efa\",\"#EF553B\",\"#00cc96\",\"#ab63fa\",\"#FFA15A\",\"#19d3f3\",\"#FF6692\",\"#B6E880\",\"#FF97FF\",\"#FECB52\"],\"font\":{\"color\":\"#2a3f5f\"},\"hovermode\":\"closest\",\"hoverlabel\":{\"align\":\"left\"},\"paper_bgcolor\":\"white\",\"plot_bgcolor\":\"#E5ECF6\",\"polar\":{\"bgcolor\":\"#E5ECF6\",\"angularaxis\":{\"gridcolor\":\"white\",\"linecolor\":\"white\",\"ticks\":\"\"},\"radialaxis\":{\"gridcolor\":\"white\",\"linecolor\":\"white\",\"ticks\":\"\"}},\"ternary\":{\"bgcolor\":\"#E5ECF6\",\"aaxis\":{\"gridcolor\":\"white\",\"linecolor\":\"white\",\"ticks\":\"\"},\"baxis\":{\"gridcolor\":\"white\",\"linecolor\":\"white\",\"ticks\":\"\"},\"caxis\":{\"gridcolor\":\"white\",\"linecolor\":\"white\",\"ticks\":\"\"}},\"coloraxis\":{\"colorbar\":{\"outlinewidth\":0,\"ticks\":\"\"}},\"colorscale\":{\"sequential\":[[0.0,\"#0d0887\"],[0.1111111111111111,\"#46039f\"],[0.2222222222222222,\"#7201a8\"],[0.3333333333333333,\"#9c179e\"],[0.4444444444444444,\"#bd3786\"],[0.5555555555555556,\"#d8576b\"],[0.6666666666666666,\"#ed7953\"],[0.7777777777777778,\"#fb9f3a\"],[0.8888888888888888,\"#fdca26\"],[1.0,\"#f0f921\"]],\"sequentialminus\":[[0.0,\"#0d0887\"],[0.1111111111111111,\"#46039f\"],[0.2222222222222222,\"#7201a8\"],[0.3333333333333333,\"#9c179e\"],[0.4444444444444444,\"#bd3786\"],[0.5555555555555556,\"#d8576b\"],[0.6666666666666666,\"#ed7953\"],[0.7777777777777778,\"#fb9f3a\"],[0.8888888888888888,\"#fdca26\"],[1.0,\"#f0f921\"]],\"diverging\":[[0,\"#8e0152\"],[0.1,\"#c51b7d\"],[0.2,\"#de77ae\"],[0.3,\"#f1b6da\"],[0.4,\"#fde0ef\"],[0.5,\"#f7f7f7\"],[0.6,\"#e6f5d0\"],[0.7,\"#b8e186\"],[0.8,\"#7fbc41\"],[0.9,\"#4d9221\"],[1,\"#276419\"]]},\"xaxis\":{\"gridcolor\":\"white\",\"linecolor\":\"white\",\"ticks\":\"\",\"title\":{\"standoff\":15},\"zerolinecolor\":\"white\",\"automargin\":true,\"zerolinewidth\":2},\"yaxis\":{\"gridcolor\":\"white\",\"linecolor\":\"white\",\"ticks\":\"\",\"title\":{\"standoff\":15},\"zerolinecolor\":\"white\",\"automargin\":true,\"zerolinewidth\":2},\"scene\":{\"xaxis\":{\"backgroundcolor\":\"#E5ECF6\",\"gridcolor\":\"white\",\"linecolor\":\"white\",\"showbackground\":true,\"ticks\":\"\",\"zerolinecolor\":\"white\",\"gridwidth\":2},\"yaxis\":{\"backgroundcolor\":\"#E5ECF6\",\"gridcolor\":\"white\",\"linecolor\":\"white\",\"showbackground\":true,\"ticks\":\"\",\"zerolinecolor\":\"white\",\"gridwidth\":2},\"zaxis\":{\"backgroundcolor\":\"#E5ECF6\",\"gridcolor\":\"white\",\"linecolor\":\"white\",\"showbackground\":true,\"ticks\":\"\",\"zerolinecolor\":\"white\",\"gridwidth\":2}},\"shapedefaults\":{\"line\":{\"color\":\"#2a3f5f\"}},\"annotationdefaults\":{\"arrowcolor\":\"#2a3f5f\",\"arrowhead\":0,\"arrowwidth\":1},\"geo\":{\"bgcolor\":\"white\",\"landcolor\":\"#E5ECF6\",\"subunitcolor\":\"white\",\"showland\":true,\"showlakes\":true,\"lakecolor\":\"white\"},\"title\":{\"x\":0.05},\"mapbox\":{\"style\":\"light\"}}},\"xaxis\":{\"anchor\":\"y\",\"domain\":[0.0,1.0],\"title\":{\"text\":\"label\"},\"showgrid\":false},\"yaxis\":{\"anchor\":\"x\",\"domain\":[0.0,1.0],\"title\":{\"text\":\"value\"},\"showgrid\":false},\"legend\":{\"title\":{\"text\":\"variable\"},\"tracegroupgap\":0},\"margin\":{\"t\":60},\"barmode\":\"relative\",\"title\":{\"text\":\"Comparision between rainfall, temerature and humidity\"},\"plot_bgcolor\":\"black\",\"height\":500},                        {\"responsive\": true}                    ).then(function(){\n",
       "                            \n",
       "var gd = document.getElementById('e5027aae-4104-4905-9eb3-b78e8646df48');\n",
       "var x = new MutationObserver(function (mutations, observer) {{\n",
       "        var display = window.getComputedStyle(gd).display;\n",
       "        if (!display || display === 'none') {{\n",
       "            console.log([gd, 'removed!']);\n",
       "            Plotly.purge(gd);\n",
       "            observer.disconnect();\n",
       "        }}\n",
       "}});\n",
       "\n",
       "// Listen for the removal of the full notebook cells\n",
       "var notebookContainer = gd.closest('#notebook-container');\n",
       "if (notebookContainer) {{\n",
       "    x.observe(notebookContainer, {childList: true});\n",
       "}}\n",
       "\n",
       "// Listen for the clearing of the current output cell\n",
       "var outputEl = gd.closest('.output');\n",
       "if (outputEl) {{\n",
       "    x.observe(outputEl, {childList: true});\n",
       "}}\n",
       "\n",
       "                        })                };                });            </script>        </div>"
      ]
     },
     "metadata": {},
     "output_type": "display_data"
    }
   ],
   "source": [
    "fig = px.bar(crop_summary, x=crop_summary.index, y=[\"rainfall\"])\n",
    "fig.update_layout(title_text=\"Comparision between rainfall, temerature and humidity\",\n",
    "                  plot_bgcolor='black',\n",
    "                 height=500)\n",
    "\n",
    "fig.update_xaxes(showgrid=False)\n",
    "fig.update_yaxes(showgrid=False)\n",
    "fig.show()"
   ]
  },
  {
   "cell_type": "markdown",
   "id": "92e958f5",
   "metadata": {
    "papermill": {
     "duration": 0.012056,
     "end_time": "2023-04-18T05:18:40.347135",
     "exception": false,
     "start_time": "2023-04-18T05:18:40.335079",
     "status": "completed"
    },
    "tags": []
   },
   "source": [
    "<h3 style='color:Red'>Correlation between different features </h3>"
   ]
  },
  {
   "cell_type": "code",
   "execution_count": 16,
   "id": "9e3f97e0",
   "metadata": {
    "execution": {
     "iopub.execute_input": "2023-04-18T05:18:40.373296Z",
     "iopub.status.busy": "2023-04-18T05:18:40.372866Z",
     "iopub.status.idle": "2023-04-18T05:18:40.978315Z",
     "shell.execute_reply": "2023-04-18T05:18:40.977063Z"
    },
    "papermill": {
     "duration": 0.622161,
     "end_time": "2023-04-18T05:18:40.981216",
     "exception": false,
     "start_time": "2023-04-18T05:18:40.359055",
     "status": "completed"
    },
    "tags": []
   },
   "outputs": [
    {
     "data": {
      "image/png": "[encoded data removed]",
      "text/plain": [
       "<Figure size 1500x900 with 2 Axes>"
      ]
     },
     "metadata": {},
     "output_type": "display_data"
    }
   ],
   "source": [
    "fig, ax = plt.subplots(1, 1, figsize=(15, 9))\n",
    "sns.heatmap(cropdf.corr(), annot=True,cmap='YlOrRd')\n",
    "ax.set(xlabel='features')\n",
    "ax.set(ylabel='features')\n",
    "\n",
    "plt.title('Correlation between different features', fontsize = 15, c='black')\n",
    "plt.show()"
   ]
  },
  {
   "cell_type": "markdown",
   "id": "87662447",
   "metadata": {
    "papermill": {
     "duration": 0.012839,
     "end_time": "2023-04-18T05:18:41.007683",
     "exception": false,
     "start_time": "2023-04-18T05:18:40.994844",
     "status": "completed"
    },
    "tags": []
   },
   "source": [
    "<h1 style='color:blue'>Model Training and Testing</h1>"
   ]
  },
  {
   "cell_type": "code",
   "execution_count": 17,
   "id": "925957cd",
   "metadata": {
    "execution": {
     "iopub.execute_input": "2023-04-18T05:18:41.036831Z",
     "iopub.status.busy": "2023-04-18T05:18:41.035583Z",
     "iopub.status.idle": "2023-04-18T05:18:41.653951Z",
     "shell.execute_reply": "2023-04-18T05:18:41.652588Z"
    },
    "papermill": {
     "duration": 0.6363,
     "end_time": "2023-04-18T05:18:41.657083",
     "exception": false,
     "start_time": "2023-04-18T05:18:41.020783",
     "status": "completed"
    },
    "tags": []
   },
   "outputs": [
    {
     "data": {
      "text/html": [
       "<style type='text/css'>\n",
       ".datatable table.frame { margin-bottom: 0; }\n",
       ".datatable table.frame thead { border-bottom: none; }\n",
       ".datatable table.frame tr.coltypes td {  color: #FFFFFF;  line-height: 6px;  padding: 0 0.5em;}\n",
       ".datatable .bool    { background: #DDDD99; }\n",
       ".datatable .object  { background: #565656; }\n",
       ".datatable .int     { background: #5D9E5D; }\n",
       ".datatable .float   { background: #4040CC; }\n",
       ".datatable .str     { background: #CC4040; }\n",
       ".datatable .time    { background: #40CC40; }\n",
       ".datatable .row_index {  background: var(--jp-border-color3);  border-right: 1px solid var(--jp-border-color0);  color: var(--jp-ui-font-color3);  font-size: 9px;}\n",
       ".datatable .frame tbody td { text-align: left; }\n",
       ".datatable .frame tr.coltypes .row_index {  background: var(--jp-border-color0);}\n",
       ".datatable th:nth-child(2) { padding-left: 12px; }\n",
       ".datatable .hellipsis {  color: var(--jp-cell-editor-border-color);}\n",
       ".datatable .vellipsis {  background: var(--jp-layout-color0);  color: var(--jp-cell-editor-border-color);}\n",
       ".datatable .na {  color: var(--jp-cell-editor-border-color);  font-size: 80%;}\n",
       ".datatable .sp {  opacity: 0.25;}\n",
       ".datatable .footer { font-size: 9px; }\n",
       ".datatable .frame_dimensions {  background: var(--jp-border-color3);  border-top: 1px solid var(--jp-border-color0);  color: var(--jp-ui-font-color3);  display: inline-block;  opacity: 0.6;  padding: 1px 10px 1px 5px;}\n",
       "</style>\n"
      ],
      "text/plain": [
       "<IPython.core.display.HTML object>"
      ]
     },
     "metadata": {},
     "output_type": "display_data"
    }
   ],
   "source": [
    "# build the lightgbm model\n",
    "from sklearn.svm import SVC, SVR\n",
    "from sklearn.ensemble import RandomForestClassifier, AdaBoostClassifier, GradientBoostingClassifier\n",
    "from xgboost import XGBClassifier\n",
    "from sklearn.naive_bayes import GaussianNB\n",
    "from sklearn.linear_model import LogisticRegression\n",
    "from sklearn.neighbors import KNeighborsClassifier\n",
    "from lightgbm import LGBMClassifier\n",
    "from sklearn.tree import DecisionTreeClassifier\n",
    "\n",
    "from sklearn.metrics import accuracy_score, precision_score, recall_score, f1_score, roc_auc_score, confusion_matrix, make_scorer"
   ]
  },
  {
   "cell_type": "code",
   "execution_count": 18,
   "id": "427f52f8",
   "metadata": {
    "execution": {
     "iopub.execute_input": "2023-04-18T05:18:41.686224Z",
     "iopub.status.busy": "2023-04-18T05:18:41.684773Z",
     "iopub.status.idle": "2023-04-18T05:18:41.697479Z",
     "shell.execute_reply": "2023-04-18T05:18:41.696576Z"
    },
    "papermill": {
     "duration": 0.029562,
     "end_time": "2023-04-18T05:18:41.699832",
     "exception": false,
     "start_time": "2023-04-18T05:18:41.670270",
     "status": "completed"
    },
    "tags": []
   },
   "outputs": [
    {
     "name": "stdout",
     "output_type": "stream",
     "text": [
      "['logistic_reg', 'gaussian_NB', 'svc', 'rfc', 'ada_boost', 'grad_boost', 'knn', 'lgbm', 'tree']\n"
     ]
    }
   ],
   "source": [
    "TRAINING_PARAMETERS = {\n",
    "    'logistic_reg': {'clf__max_iter': [15, 25, 50, 100, 500, 1000, 2000], 'clf__penalty': ['l2']},\n",
    "    'gaussian_NB': {'clf__var_smoothing': [1e-17, 1e-15, 1e-12]},\n",
    "    'svc': {'clf__C': [0.01, 0.04, 0.09, 0.15, 0.5, 1, 5, 10, 30, 100, 200], 'clf__kernel': ['rbf']},\n",
    "    'rfc': {'clf__n_estimators': [50, 100, 175, 250], 'clf__max_features':['log2'], 'clf__max_depth': [25, 50, 100, 200], 'clf__min_samples_split': [1, 3, 5, 7]},\n",
    "    'ada_boost': {'clf__n_estimators': [50, 100, 175, 250], 'clf__learning_rate': [0.005, 0.01, 0.05, 0.07, 0.1, 0.5]},\n",
    "    'grad_boost': {'clf__n_estimators': [50, 100, 175, 250], 'clf__learning_rate': [0.01, 0.05, 0.1, 0.5], 'clf__max_depth': [2, 3, 5, 7]},\n",
    "    'knn': {'clf__n_neighbors': [3, 5, 7, 9], 'clf__weights': ['uniform'], 'clf__leaf_size': [3, 5, 7, 9]},\n",
    "#     'lgbm': {'clf__boosting_type': ['goss', 'gbdt'], 'clf__min_child_samples': [2, 3, 5], 'clf__n_estimators': [75, 100, 150, 200, 300]},\n",
    "    'lgbm': {'clf__boosting_type': ['gbdt'], 'clf__min_child_samples': [2], 'clf__n_estimators': [200]},\n",
    "    'tree': {'clf__max_depth': [70, 100, 150], 'clf__min_samples_split': [5, 10, 15]}\n",
    "}\n",
    "\n",
    "\n",
    "TRAINING_MODELS = list(TRAINING_PARAMETERS.keys())\n",
    "print(TRAINING_MODELS)"
   ]
  },
  {
   "cell_type": "code",
   "execution_count": 19,
   "id": "70438fa7",
   "metadata": {
    "execution": {
     "iopub.execute_input": "2023-04-18T05:18:41.729129Z",
     "iopub.status.busy": "2023-04-18T05:18:41.728164Z",
     "iopub.status.idle": "2023-04-18T05:18:41.733404Z",
     "shell.execute_reply": "2023-04-18T05:18:41.732053Z"
    },
    "papermill": {
     "duration": 0.022648,
     "end_time": "2023-04-18T05:18:41.735846",
     "exception": false,
     "start_time": "2023-04-18T05:18:41.713198",
     "status": "completed"
    },
    "tags": []
   },
   "outputs": [],
   "source": [
    "K_SPLITS = 5\n",
    "N_REPEATS = 3"
   ]
  },
  {
   "cell_type": "code",
   "execution_count": 20,
   "id": "427a1be6",
   "metadata": {
    "execution": {
     "iopub.execute_input": "2023-04-18T05:18:41.764640Z",
     "iopub.status.busy": "2023-04-18T05:18:41.764178Z",
     "iopub.status.idle": "2023-04-18T05:18:41.771819Z",
     "shell.execute_reply": "2023-04-18T05:18:41.770560Z"
    },
    "papermill": {
     "duration": 0.02535,
     "end_time": "2023-04-18T05:18:41.774446",
     "exception": false,
     "start_time": "2023-04-18T05:18:41.749096",
     "status": "completed"
    },
    "tags": []
   },
   "outputs": [],
   "source": [
    "\n",
    "def Precision(y_true, y_pred, average = None):\n",
    "    return precision_score(y_true, y_pred, zero_division=0, average = 'macro')\n",
    "\n",
    "def F1(y_true, y_pred, average = None):\n",
    "    return f1_score(y_true, y_pred, zero_division=0, average = 'macro')\n",
    "\n",
    "def Recall(y_true, y_pred, average = None):\n",
    "    return recall_score(y_true, y_pred, zero_division = 0, average = 'macro')\n",
    "\n",
    "scorers = {\n",
    "    \"Accuracy\": make_scorer(accuracy_score),\n",
    "    \"Precision\": make_scorer(Precision),\n",
    "    \"Recall\": make_scorer(Recall),\n",
    "    \"F1_Score\": make_scorer(F1),\n",
    "}"
   ]
  },
  {
   "cell_type": "code",
   "execution_count": 21,
   "id": "e5a3e53c",
   "metadata": {
    "execution": {
     "iopub.execute_input": "2023-04-18T05:18:41.803797Z",
     "iopub.status.busy": "2023-04-18T05:18:41.802663Z",
     "iopub.status.idle": "2023-04-18T05:18:41.818259Z",
     "shell.execute_reply": "2023-04-18T05:18:41.816716Z"
    },
    "papermill": {
     "duration": 0.033617,
     "end_time": "2023-04-18T05:18:41.821264",
     "exception": false,
     "start_time": "2023-04-18T05:18:41.787647",
     "status": "completed"
    },
    "tags": []
   },
   "outputs": [
    {
     "data": {
      "text/html": [
       "<div>\n",
       "<style scoped>\n",
       "    .dataframe tbody tr th:only-of-type {\n",
       "        vertical-align: middle;\n",
       "    }\n",
       "\n",
       "    .dataframe tbody tr th {\n",
       "        vertical-align: top;\n",
       "    }\n",
       "\n",
       "    .dataframe thead th {\n",
       "        text-align: right;\n",
       "    }\n",
       "</style>\n",
       "<table border=\"1\" class=\"dataframe\">\n",
       "  <thead>\n",
       "    <tr style=\"text-align: right;\">\n",
       "      <th></th>\n",
       "      <th>N</th>\n",
       "      <th>P</th>\n",
       "      <th>K</th>\n",
       "      <th>temperature</th>\n",
       "      <th>humidity</th>\n",
       "      <th>ph</th>\n",
       "      <th>rainfall</th>\n",
       "      <th>label</th>\n",
       "    </tr>\n",
       "  </thead>\n",
       "  <tbody>\n",
       "    <tr>\n",
       "      <th>0</th>\n",
       "      <td>90</td>\n",
       "      <td>42</td>\n",
       "      <td>43</td>\n",
       "      <td>20.879744</td>\n",
       "      <td>82.002744</td>\n",
       "      <td>6.502985</td>\n",
       "      <td>202.935536</td>\n",
       "      <td>rice</td>\n",
       "    </tr>\n",
       "    <tr>\n",
       "      <th>1</th>\n",
       "      <td>85</td>\n",
       "      <td>58</td>\n",
       "      <td>41</td>\n",
       "      <td>21.770462</td>\n",
       "      <td>80.319644</td>\n",
       "      <td>7.038096</td>\n",
       "      <td>226.655537</td>\n",
       "      <td>rice</td>\n",
       "    </tr>\n",
       "    <tr>\n",
       "      <th>2</th>\n",
       "      <td>60</td>\n",
       "      <td>55</td>\n",
       "      <td>44</td>\n",
       "      <td>23.004459</td>\n",
       "      <td>82.320763</td>\n",
       "      <td>7.840207</td>\n",
       "      <td>263.964248</td>\n",
       "      <td>rice</td>\n",
       "    </tr>\n",
       "    <tr>\n",
       "      <th>3</th>\n",
       "      <td>74</td>\n",
       "      <td>35</td>\n",
       "      <td>40</td>\n",
       "      <td>26.491096</td>\n",
       "      <td>80.158363</td>\n",
       "      <td>6.980401</td>\n",
       "      <td>242.864034</td>\n",
       "      <td>rice</td>\n",
       "    </tr>\n",
       "    <tr>\n",
       "      <th>4</th>\n",
       "      <td>78</td>\n",
       "      <td>42</td>\n",
       "      <td>42</td>\n",
       "      <td>20.130175</td>\n",
       "      <td>81.604873</td>\n",
       "      <td>7.628473</td>\n",
       "      <td>262.717340</td>\n",
       "      <td>rice</td>\n",
       "    </tr>\n",
       "  </tbody>\n",
       "</table>\n",
       "</div>"
      ],
      "text/plain": [
       "    N   P   K  temperature   humidity        ph    rainfall label\n",
       "0  90  42  43    20.879744  82.002744  6.502985  202.935536  rice\n",
       "1  85  58  41    21.770462  80.319644  7.038096  226.655537  rice\n",
       "2  60  55  44    23.004459  82.320763  7.840207  263.964248  rice\n",
       "3  74  35  40    26.491096  80.158363  6.980401  242.864034  rice\n",
       "4  78  42  42    20.130175  81.604873  7.628473  262.717340  rice"
      ]
     },
     "execution_count": 21,
     "metadata": {},
     "output_type": "execute_result"
    }
   ],
   "source": [
    "cropdf.head()"
   ]
  },
  {
   "cell_type": "code",
   "execution_count": 22,
   "id": "a37b489c",
   "metadata": {
    "execution": {
     "iopub.execute_input": "2023-04-18T05:18:41.853660Z",
     "iopub.status.busy": "2023-04-18T05:18:41.852344Z",
     "iopub.status.idle": "2023-04-18T05:18:41.872477Z",
     "shell.execute_reply": "2023-04-18T05:18:41.871093Z"
    },
    "papermill": {
     "duration": 0.038465,
     "end_time": "2023-04-18T05:18:41.875482",
     "exception": false,
     "start_time": "2023-04-18T05:18:41.837017",
     "status": "completed"
    },
    "tags": []
   },
   "outputs": [],
   "source": [
    "class Training_Class():\n",
    "    def __init__(self) -> None:\n",
    "        self.num_samples = None\n",
    "        self.best_models = {}\n",
    "        self.results = {}\n",
    "        self.train_data = None\n",
    "        self.test_data = None\n",
    "        self.results_df = pd.DataFrame()\n",
    "        \n",
    "        self.load_dataset()\n",
    "\n",
    "        \n",
    "        \n",
    "        \n",
    "#         self.training_params['pca__n_components'] = [50, 75, 100]\n",
    "    def load_model(self, model_name):\n",
    "        training_models = {\n",
    "            'logistic_reg': LogisticRegression(),\n",
    "            'gaussian_NB': GaussianNB(),\n",
    "            'svc': SVC(probability = True),\n",
    "            'rfc': RandomForestClassifier(),\n",
    "            'ada_boost': AdaBoostClassifier(),\n",
    "            'grad_boost': GradientBoostingClassifier(),\n",
    "            'xg_boost': XGBClassifier(),\n",
    "            'knn': KNeighborsClassifier(),\n",
    "            'lgbm': LGBMClassifier(),\n",
    "            'tree': DecisionTreeClassifier()\n",
    "        }\n",
    "        return training_models[model_name]\n",
    "\n",
    "        \n",
    "    def load_dataset(self):\n",
    "        df = cropdf.sample(frac = 1, random_state = 7781)\n",
    "        self.num_samples = len(df)\n",
    "        self.train_data = df.iloc[:int(0.8 * self.num_samples), :]\n",
    "        self.test_data = df.iloc[int(0.8 * self.num_samples):, :]\n",
    "        return\n",
    "    \n",
    "    \n",
    "        \n",
    "    def train_model(self, model_name):\n",
    "        df = self.train_data\n",
    "        features, target = df.drop(columns = ['label']), df['label']\n",
    "        print(f\"\\tTraining  Model_name- {model_name}\")\n",
    "        training_model = self.load_model(model_name)\n",
    "        training_params = TRAINING_PARAMETERS[model_name]\n",
    "        pipeline = Pipeline([('scaler', StandardScaler()), ('clf', training_model)])\n",
    "        cv = RepeatedStratifiedKFold(n_splits = K_SPLITS, n_repeats = N_REPEATS, random_state = 7781)\n",
    "        search = GridSearchCV(estimator = pipeline, param_grid = training_params, scoring = scorers, cv = cv, refit = 'Accuracy')\n",
    "        search.fit(features, target)\n",
    "\n",
    "        results = self.get_results(search, model_name)\n",
    "        results['Distribution'] = target.value_counts()\n",
    "        results['Model_Name'] = model_name\n",
    "            \n",
    "        self.best_models[model_name] = search.best_estimator_\n",
    "        self.results[model_name] = results\n",
    "        return\n",
    "    \n",
    "    def get_results(self, cv, model_name):\n",
    "        results = cv.cv_results_\n",
    "        params = results['params']\n",
    "        best_params = cv.best_params_\n",
    "        best_param_idx = params.index(best_params)\n",
    "        return_dict = {}\n",
    "\n",
    "        \n",
    "        # column_names = ['Image_Modalities', 'Num_Samples', 'Num_Features', 'Model_Name', 'Parameters_Dict', 'Accuracy', 'Precision', 'Recall', 'F1_Score', 'Auc_Roc', 'Specificity']\n",
    "\n",
    "        \n",
    "        for scorer in list(scorers.keys()):\n",
    "            mean_key_ = f\"mean_test_{scorer}\"\n",
    "            std_key_ = f\"std_test_{scorer}\"\n",
    "            mean_score = \"{:.3f}\".format((results[mean_key_])[best_param_idx])\n",
    "            std_score = \"{:.3f}\".format((results[std_key_])[best_param_idx])\n",
    "            return_dict[scorer] = mean_score + \"+-\" + std_score\n",
    "        \n",
    "        return_dict['Model_Name'] = model_name\n",
    "        \n",
    "        self.results_df = self.results_df.append(return_dict, ignore_index = True)\n",
    "            \n",
    "        return return_dict\n",
    "    \n",
    "\n",
    "    def train_all_models(self):\n",
    "        for model_name in TRAINING_MODELS:\n",
    "            self.train_model(model_name)\n",
    "        self.results_df.set_index('Model_Name', inplace=True)"
   ]
  },
  {
   "cell_type": "code",
   "execution_count": 23,
   "id": "f5bf8bd5",
   "metadata": {
    "execution": {
     "iopub.execute_input": "2023-04-18T05:18:41.905744Z",
     "iopub.status.busy": "2023-04-18T05:18:41.904439Z",
     "iopub.status.idle": "2023-04-18T08:49:23.081170Z",
     "shell.execute_reply": "2023-04-18T08:49:23.079940Z"
    },
    "papermill": {
     "duration": 12641.194744,
     "end_time": "2023-04-18T08:49:23.084070",
     "exception": false,
     "start_time": "2023-04-18T05:18:41.889326",
     "status": "completed"
    },
    "tags": []
   },
   "outputs": [
    {
     "name": "stdout",
     "output_type": "stream",
     "text": [
      "\tTraining  Model_name- logistic_reg\n",
      "\tTraining  Model_name- gaussian_NB\n",
      "\tTraining  Model_name- svc\n",
      "\tTraining  Model_name- rfc\n",
      "\tTraining  Model_name- ada_boost\n",
      "\tTraining  Model_name- grad_boost\n",
      "\tTraining  Model_name- knn\n",
      "\tTraining  Model_name- lgbm\n",
      "\tTraining  Model_name- tree\n"
     ]
    }
   ],
   "source": [
    "import warnings\n",
    "warnings.filterwarnings('ignore')\n",
    "\n",
    "train_instance = Training_Class()\n",
    "train_instance.train_all_models()"
   ]
  },
  {
   "cell_type": "code",
   "execution_count": 24,
   "id": "1d61e680",
   "metadata": {
    "execution": {
     "iopub.execute_input": "2023-04-18T08:49:23.115986Z",
     "iopub.status.busy": "2023-04-18T08:49:23.114674Z",
     "iopub.status.idle": "2023-04-18T08:49:23.128482Z",
     "shell.execute_reply": "2023-04-18T08:49:23.127469Z"
    },
    "papermill": {
     "duration": 0.03223,
     "end_time": "2023-04-18T08:49:23.130703",
     "exception": false,
     "start_time": "2023-04-18T08:49:23.098473",
     "status": "completed"
    },
    "tags": []
   },
   "outputs": [
    {
     "data": {
      "text/html": [
       "<div>\n",
       "<style scoped>\n",
       "    .dataframe tbody tr th:only-of-type {\n",
       "        vertical-align: middle;\n",
       "    }\n",
       "\n",
       "    .dataframe tbody tr th {\n",
       "        vertical-align: top;\n",
       "    }\n",
       "\n",
       "    .dataframe thead th {\n",
       "        text-align: right;\n",
       "    }\n",
       "</style>\n",
       "<table border=\"1\" class=\"dataframe\">\n",
       "  <thead>\n",
       "    <tr style=\"text-align: right;\">\n",
       "      <th></th>\n",
       "      <th>Accuracy</th>\n",
       "      <th>Precision</th>\n",
       "      <th>Recall</th>\n",
       "      <th>F1_Score</th>\n",
       "    </tr>\n",
       "    <tr>\n",
       "      <th>Model_Name</th>\n",
       "      <th></th>\n",
       "      <th></th>\n",
       "      <th></th>\n",
       "      <th></th>\n",
       "    </tr>\n",
       "  </thead>\n",
       "  <tbody>\n",
       "    <tr>\n",
       "      <th>logistic_reg</th>\n",
       "      <td>0.969+-0.005</td>\n",
       "      <td>0.971+-0.005</td>\n",
       "      <td>0.970+-0.005</td>\n",
       "      <td>0.969+-0.005</td>\n",
       "    </tr>\n",
       "    <tr>\n",
       "      <th>gaussian_NB</th>\n",
       "      <td>0.996+-0.003</td>\n",
       "      <td>0.997+-0.003</td>\n",
       "      <td>0.996+-0.003</td>\n",
       "      <td>0.996+-0.003</td>\n",
       "    </tr>\n",
       "    <tr>\n",
       "      <th>svc</th>\n",
       "      <td>0.987+-0.005</td>\n",
       "      <td>0.987+-0.005</td>\n",
       "      <td>0.986+-0.005</td>\n",
       "      <td>0.987+-0.005</td>\n",
       "    </tr>\n",
       "    <tr>\n",
       "      <th>rfc</th>\n",
       "      <td>0.996+-0.003</td>\n",
       "      <td>0.996+-0.003</td>\n",
       "      <td>0.996+-0.003</td>\n",
       "      <td>0.996+-0.003</td>\n",
       "    </tr>\n",
       "    <tr>\n",
       "      <th>ada_boost</th>\n",
       "      <td>0.878+-0.031</td>\n",
       "      <td>0.871+-0.043</td>\n",
       "      <td>0.877+-0.031</td>\n",
       "      <td>0.858+-0.036</td>\n",
       "    </tr>\n",
       "    <tr>\n",
       "      <th>grad_boost</th>\n",
       "      <td>0.989+-0.006</td>\n",
       "      <td>0.990+-0.005</td>\n",
       "      <td>0.989+-0.006</td>\n",
       "      <td>0.989+-0.006</td>\n",
       "    </tr>\n",
       "    <tr>\n",
       "      <th>knn</th>\n",
       "      <td>0.973+-0.006</td>\n",
       "      <td>0.976+-0.004</td>\n",
       "      <td>0.973+-0.006</td>\n",
       "      <td>0.973+-0.006</td>\n",
       "    </tr>\n",
       "    <tr>\n",
       "      <th>lgbm</th>\n",
       "      <td>0.991+-0.005</td>\n",
       "      <td>0.992+-0.004</td>\n",
       "      <td>0.991+-0.005</td>\n",
       "      <td>0.991+-0.005</td>\n",
       "    </tr>\n",
       "    <tr>\n",
       "      <th>tree</th>\n",
       "      <td>0.989+-0.006</td>\n",
       "      <td>0.990+-0.006</td>\n",
       "      <td>0.989+-0.006</td>\n",
       "      <td>0.989+-0.006</td>\n",
       "    </tr>\n",
       "  </tbody>\n",
       "</table>\n",
       "</div>"
      ],
      "text/plain": [
       "                  Accuracy     Precision        Recall      F1_Score\n",
       "Model_Name                                                          \n",
       "logistic_reg  0.969+-0.005  0.971+-0.005  0.970+-0.005  0.969+-0.005\n",
       "gaussian_NB   0.996+-0.003  0.997+-0.003  0.996+-0.003  0.996+-0.003\n",
       "svc           0.987+-0.005  0.987+-0.005  0.986+-0.005  0.987+-0.005\n",
       "rfc           0.996+-0.003  0.996+-0.003  0.996+-0.003  0.996+-0.003\n",
       "ada_boost     0.878+-0.031  0.871+-0.043  0.877+-0.031  0.858+-0.036\n",
       "grad_boost    0.989+-0.006  0.990+-0.005  0.989+-0.006  0.989+-0.006\n",
       "knn           0.973+-0.006  0.976+-0.004  0.973+-0.006  0.973+-0.006\n",
       "lgbm          0.991+-0.005  0.992+-0.004  0.991+-0.005  0.991+-0.005\n",
       "tree          0.989+-0.006  0.990+-0.006  0.989+-0.006  0.989+-0.006"
      ]
     },
     "execution_count": 24,
     "metadata": {},
     "output_type": "execute_result"
    }
   ],
   "source": [
    "train_instance.results_df"
   ]
  },
  {
   "cell_type": "code",
   "execution_count": 25,
   "id": "f6f0d621",
   "metadata": {
    "execution": {
     "iopub.execute_input": "2023-04-18T08:49:23.161873Z",
     "iopub.status.busy": "2023-04-18T08:49:23.161417Z",
     "iopub.status.idle": "2023-04-18T08:49:23.170460Z",
     "shell.execute_reply": "2023-04-18T08:49:23.169083Z"
    },
    "papermill": {
     "duration": 0.027584,
     "end_time": "2023-04-18T08:49:23.172927",
     "exception": false,
     "start_time": "2023-04-18T08:49:23.145343",
     "status": "completed"
    },
    "tags": []
   },
   "outputs": [],
   "source": [
    "evaluation_df = train_instance.results_df\n",
    "for col_name in evaluation_df.columns:\n",
    "    evaluation_df[col_name] = evaluation_df[col_name].apply(lambda x: float(x.split('+-')[0]))"
   ]
  },
  {
   "cell_type": "code",
   "execution_count": 26,
   "id": "6eb87736",
   "metadata": {
    "execution": {
     "iopub.execute_input": "2023-04-18T08:49:23.204911Z",
     "iopub.status.busy": "2023-04-18T08:49:23.203705Z",
     "iopub.status.idle": "2023-04-18T08:49:23.211683Z",
     "shell.execute_reply": "2023-04-18T08:49:23.210433Z"
    },
    "papermill": {
     "duration": 0.02666,
     "end_time": "2023-04-18T08:49:23.214135",
     "exception": false,
     "start_time": "2023-04-18T08:49:23.187475",
     "status": "completed"
    },
    "tags": []
   },
   "outputs": [],
   "source": [
    "font = {'family': 'serif',\n",
    "        'color':  'black',\n",
    "        'weight': 'normal',\n",
    "        'size': 20,\n",
    "        }\n",
    "font_title = {'family': 'serif',\n",
    "        'color':  'black',\n",
    "        'weight': 'normal',\n",
    "        'size': 30,\n",
    "        }\n",
    "sns.set(rc={'axes.facecolor':'black', 'figure.facecolor':'#D8D8D8'}, font_scale = 1)"
   ]
  },
  {
   "cell_type": "code",
   "execution_count": 27,
   "id": "5feea9e6",
   "metadata": {
    "execution": {
     "iopub.execute_input": "2023-04-18T08:49:23.245277Z",
     "iopub.status.busy": "2023-04-18T08:49:23.244747Z",
     "iopub.status.idle": "2023-04-18T08:49:24.674288Z",
     "shell.execute_reply": "2023-04-18T08:49:24.672940Z"
    },
    "papermill": {
     "duration": 1.448487,
     "end_time": "2023-04-18T08:49:24.677228",
     "exception": false,
     "start_time": "2023-04-18T08:49:23.228741",
     "status": "completed"
    },
    "tags": []
   },
   "outputs": [
    {
     "data": {
      "image/png": "[encoded data removed]",
      "text/plain": [
       "<Figure size 2100x1600 with 4 Axes>"
      ]
     },
     "metadata": {},
     "output_type": "display_data"
    }
   ],
   "source": [
    "col_names = evaluation_df.columns\n",
    "fig, axes = plt.subplots(2, 2)\n",
    "fig.set_figheight(16)\n",
    "fig.set_figwidth(21)\n",
    "axarr = axes.flat\n",
    "for idx, ax in enumerate(axarr):\n",
    "    axis = sns.barplot(\n",
    "        x = evaluation_df.index,\n",
    "        y = evaluation_df[col_names[idx]],\n",
    "        ax = ax\n",
    "    )\n",
    "    axis.set_title(col_names[idx], fontdict = font_title)\n",
    "    axis.set_ylim(bottom = 0.8, top = 1.0)\n",
    "    axis.set_xlabel(\"Model Name\", fontdict = font)\n",
    "    axis.set_ylabel(col_names[idx], fontdict = font)\n",
    "plt.subplots_adjust(\n",
    "left=0.1,\n",
    "bottom = 0.1,\n",
    "right=0.9,\n",
    "top = 0.9,\n",
    "wspace=0.2,\n",
    "hspace = 0.3    \n",
    ")\n",
    "plt.savefig('Evaluation bar plots.jpeg')"
   ]
  },
  {
   "cell_type": "code",
   "execution_count": 28,
   "id": "df577c75",
   "metadata": {
    "execution": {
     "iopub.execute_input": "2023-04-18T08:49:24.712694Z",
     "iopub.status.busy": "2023-04-18T08:49:24.712260Z",
     "iopub.status.idle": "2023-04-18T08:49:25.396013Z",
     "shell.execute_reply": "2023-04-18T08:49:25.394679Z"
    },
    "papermill": {
     "duration": 0.704557,
     "end_time": "2023-04-18T08:49:25.398652",
     "exception": false,
     "start_time": "2023-04-18T08:49:24.694095",
     "status": "completed"
    },
    "tags": []
   },
   "outputs": [
    {
     "data": {
      "text/plain": [
       "['Crop Recommendation Trained.pkl']"
      ]
     },
     "execution_count": 28,
     "metadata": {},
     "output_type": "execute_result"
    }
   ],
   "source": [
    "joblib.dump(train_instance, \"Crop Recommendation Trained.pkl\")"
   ]
  }
 ],
 "metadata": {
  "kernelspec": {
   "display_name": "Python 3",
   "language": "python",
   "name": "python3"
  },
  "language_info": {
   "codemirror_mode": {
    "name": "ipython",
    "version": 3
   },
   "file_extension": ".py",
   "mimetype": "text/x-python",
   "name": "python",
   "nbconvert_exporter": "python",
   "pygments_lexer": "ipython3",
   "version": "3.7.12"
  },
  "papermill": {
   "default_parameters": {},
   "duration": 12663.905159,
   "end_time": "2023-04-18T08:49:26.570838",
   "environment_variables": {},
   "exception": null,
   "input_path": "__notebook__.ipynb",
   "output_path": "__notebook__.ipynb",
   "parameters": {},
   "start_time": "2023-04-18T05:18:22.665679",
   "version": "2.4.0"
  }
 },
 "nbformat": 4,
 "nbformat_minor": 5
}
